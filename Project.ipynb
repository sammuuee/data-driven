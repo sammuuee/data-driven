{
 "cells": [
  {
   "cell_type": "code",
   "execution_count": 1,
   "id": "c0e5bc1e-9097-4bf5-86ac-2d634d14d69d",
   "metadata": {},
   "outputs": [],
   "source": [
    "import pandas as pd\n",
    "import numpy as np\n",
    "\n",
    "import plotly.express as px\n",
    "import plotly.graph_objects as go\n",
    "\n",
    "from plotly.subplots import make_subplots\n",
    "from IPython.display import display, HTML"
   ]
  },
  {
   "cell_type": "code",
   "execution_count": 2,
   "id": "848318aa-2aac-4f15-b947-673476fd3a27",
   "metadata": {},
   "outputs": [],
   "source": [
    "path = \"data.xlsx\"\n",
    "df = pd.read_excel(path, sheet_name=\"1. District-level data\")"
   ]
  },
  {
   "cell_type": "code",
   "execution_count": 3,
   "id": "264b05e2-18f8-4a69-b05b-5d50e2229735",
   "metadata": {},
   "outputs": [
    {
     "name": "stdout",
     "output_type": "stream",
     "text": [
      "'0a. Has committed ESBs?'\n",
      "'1a. State'\n",
      "'1b. Local Education Agency (LEA) or entity name'\n",
      "'1c. LEA ID'\n",
      "'1d. Street address 1'\n",
      "'1e. Street address 2'\n",
      "'1f. City'\n",
      "'1g. State'\n",
      "'1h. ZIP code'\n",
      "'1i. Website'\n",
      "'1j. Has LEA ID?'\n",
      "'1k. LEA type (number)'\n",
      "'1l. LEA type (name)'\n",
      "'1m. Supervisory union LEA ID'\n",
      "'1n. Locale (full number)'\n",
      "'1o. Locale broad type (number)'\n",
      "'1p. Locale broad type (name)'\n",
      "'1q. Census Region'\n",
      "'1r. Census Division'\n",
      "'1s. Latitude'\n",
      "'1t. Longitude '\n",
      "'2a. Total number of buses'\n",
      "'2b. Contractor used for some or all of buses?'\n",
      "'3a. Number of ESBs committed '\n",
      "'3b. Number of delivered or operating ESBs'\n",
      "'3c. Number of ESBs awarded'\n",
      "'3d. Number of ESBs ordered'\n",
      "'3e. Number of ESBs delivered'\n",
      "'3f. Number of ESBs operating'\n",
      "'3g. Number of batches'\n",
      "'3h. Size of batch 1'\n",
      "'3h. Size of batch 2'\n",
      "'3h. Size of batch 3'\n",
      "'3h. Size of batch 4'\n",
      "'3h. Size of batch 5'\n",
      "'3i. Percent of fleet that is electric'\n",
      "'3j. Government agency involved (non-funding)'\n",
      "'3k. Utility/energy company involved 1'\n",
      "'3k. Utility/energy company involved 2'\n",
      "'3k. Utility/energy company involved 3'\n",
      "'3l. Other groups involved 1'\n",
      "'3l. Other groups involved 2'\n",
      "'3l. Other groups involved 3'\n",
      "'3m. Other notes'\n",
      "'4a. Tribal school district?'\n",
      "'4b. Number of students in district'\n",
      "'4c. Number of schools in district'\n",
      "'4d. Percentage of schools in district that are Title I schoolwide eligible'\n",
      "'4e. Percentage of students in district eligible for free or reduced price lunch'\n",
      "'4f. Median household income'\n",
      "'4g. Percent of population below the poverty level'\n",
      "'4h. Percent one race: White '\n",
      "'4i. Percent race alone or multiracial: White'\n",
      "'4j. Percent one race: Black or African American '\n",
      "'4k. Percent race alone or multiracial: Black or African American'\n",
      "'4l. Percent one race: American Indian and Alaska Native '\n",
      "'4m. Percent race alone or multiracial: American Indian and Alaska Native'\n",
      "'4n. Percent one race: Asian '\n",
      "'4o. Percent race alone or multiracial: Asian'\n",
      "'4p. Percent one race: Native Hawaiian and Other Pacific Islander '\n",
      "'4q. Percent race alone or multiracial: Native Hawaiian and Other Pacific Islander'\n",
      "'4r. Percent one race: some other race '\n",
      "'4s. Percent race alone or multiracial: Some other race'\n",
      "'4t. Percent two or more races'\n",
      "'4u. Percent Hispanic or Latino (of any race) '\n",
      "'5a. EPA Region'\n",
      "'5b. Percent non-white and/or Hispanic'\n",
      "'5c. Quartile: percent non-white and/or Hispanic'\n",
      "'5d. Percent low-income (200% of federal poverty level)'\n",
      "'5e. Quartile: percent low-income'\n",
      "'5f. PM2.5 concentration'\n",
      "'5g. Quartile: PM2.5 concentration'\n",
      "'5h. Ozone concentration'\n",
      "'5i. Quartile: ozone concentration'\n",
      "'5j. Percent of school children with a disability'\n",
      "'5k. Quartile: percent of school children with a disability'\n",
      "'5l. Average rate of asthma among adults aged 18 and older'\n",
      "'5m. Quartile: average rate of asthma'\n",
      "'5n. Qualified for American Rescue Plan funding? '\n",
      "'5o. EPA 2022 Clean School Bus Rebate Program prioritized school district?'\n",
      "'5p. EPA 2023 Clean School Bus Grant & Rebate Programs prioritized school district?'\n",
      "'5q. WRI Priority Outreach District (POD)?'\n",
      "'6a. Has any expression of interest in ESBs?'\n",
      "'6b. ARP 2021 waitlist position'\n",
      "'6c. DERA school bus rebates 2020 waitlist position'\n",
      "'6d. DERA school bus rebates 2021 waitlist position'\n",
      "'6e. Applied for ESB funding but not awarded'\n"
     ]
    }
   ],
   "source": [
    "for col in df.columns:\n",
    "    print(repr(col))"
   ]
  },
  {
   "cell_type": "code",
   "execution_count": 4,
   "id": "a9ea4d8a-e987-4477-a5c4-795cfc95cfd0",
   "metadata": {},
   "outputs": [],
   "source": [
    "cols = [\n",
    "    '1b. Local Education Agency (LEA) or entity name',\n",
    "    '1f. City',\n",
    "    '1a. State',\n",
    "    '2a. Total number of buses',\n",
    "    '3a. Number of ESBs committed ',\n",
    "    '4e. Percentage of students in district eligible for free or reduced price lunch',\n",
    "    '5f. PM2.5 concentration',\n",
    "    '4f. Median household income'\n",
    "]\n",
    "df = df[cols]"
   ]
  },
  {
   "cell_type": "code",
   "execution_count": 5,
   "id": "4fd7da1e-0fb9-42a9-a643-b18797f25bc3",
   "metadata": {},
   "outputs": [],
   "source": [
    "df.columns = [\n",
    "    'district', 'city', 'state', 'total_buses', 'committed_esb',\n",
    "    'free_lunch_pct', 'pm25', 'median_income'\n",
    "]"
   ]
  },
  {
   "cell_type": "code",
   "execution_count": 6,
   "id": "43c4f15b-4449-48c8-9cd4-e4b47959d276",
   "metadata": {},
   "outputs": [
    {
     "name": "stdout",
     "output_type": "stream",
     "text": [
      "Nombre de lignes Bakersfield: 18\n",
      "                                 district         city       state\n",
      "1256                      Kern County ROP  Bakersfield  CALIFORNIA\n",
      "1257                        Kern High ROC  Bakersfield  CALIFORNIA\n",
      "2432                     Bakersfield City  Bakersfield  CALIFORNIA\n",
      "2443                 Beardsley Elementary  Bakersfield  CALIFORNIA\n",
      "2487             Panama-Buena Vista Union  Bakersfield  CALIFORNIA\n",
      "2664           General Shafter Elementary  Bakersfield  CALIFORNIA\n",
      "2777                       Lakeside Union  Bakersfield  CALIFORNIA\n",
      "2921                    Norris Elementary  Bakersfield  CALIFORNIA\n",
      "3036   Rio Bravo-Greeley Union Elementary  Bakersfield  CALIFORNIA\n",
      "3046            Rosedale Union Elementary  Bakersfield  CALIFORNIA\n",
      "3154                  Standard Elementary  Bakersfield  CALIFORNIA\n",
      "3435                    Edison Elementary  Bakersfield  CALIFORNIA\n",
      "3961                   Fairfax Elementary  Bakersfield  CALIFORNIA\n",
      "4835                 Fruitvale Elementary  Bakersfield  CALIFORNIA\n",
      "5394                     Greenfield Union  Bakersfield  CALIFORNIA\n",
      "7240      Kern County Office of Education  Bakersfield  CALIFORNIA\n",
      "7245                            Kern High  Bakersfield  CALIFORNIA\n",
      "18656                 Vineland Elementary  Bakersfield  CALIFORNIA\n"
     ]
    }
   ],
   "source": [
    "df['free_lunch_pct'] = df['free_lunch_pct'] * 100\n",
    "\n",
    "bakersfield_df = df[(df['city'].str.contains('Bakersfield', case=False, na=False)) & (df['state'].str.contains('California', case=False, na=False))]\n",
    "\n",
    "print(\"Nombre de lignes Bakersfield:\", len(bakersfield_df))\n",
    "print(bakersfield_df[['district', 'city', 'state']])"
   ]
  },
  {
   "cell_type": "code",
   "execution_count": 7,
   "id": "b7afa718-f880-417f-9772-c5c243471c0f",
   "metadata": {},
   "outputs": [
    {
     "name": "stdout",
     "output_type": "stream",
     "text": [
      "\n",
      "=== KPI Results for Bakersfield (CA) ===\n",
      "ESB Adoption Rate: 5.85%\n",
      "PM2.5 Level: 9.56 µg/m³\n",
      "Median Income: $70,796\n",
      "Students eligible for free/reduced lunch: 71.68%\n"
     ]
    }
   ],
   "source": [
    "# === KPI 1: ESB Adoption Rate (%)\n",
    "df = df.copy()\n",
    "df['esb_adoption_rate'] = (df['committed_esb'] / df['total_buses']) * 100\n",
    "bakersfield_df['esb_adoption_rate'] = (bakersfield_df['committed_esb'] / bakersfield_df['total_buses']) * 100\n",
    "\n",
    "# === KPI 2: Air Pollution (PM2.5)\n",
    "# Average air pollution level (micrograms per cubic meter) for Bakersfield\n",
    "pm25 = bakersfield_df['pm25'].mean()\n",
    "\n",
    "# === KPI 3: Median Household Income ($)\n",
    "# Average median income across Bakersfield districts\n",
    "income = bakersfield_df['median_income'].mean()\n",
    "\n",
    "# === KPI 4: % of Students Eligible for Free/Reduced Lunch\n",
    "# Social indicator measuring student economic vulnerability\n",
    "free_lunch = bakersfield_df['free_lunch_pct'].mean()\n",
    "\n",
    "# 🔹 Aggregate KPI 1 (Adoption Rate) across all Bakersfield districts\n",
    "adoption = (bakersfield_df['committed_esb'].sum() / bakersfield_df['total_buses'].sum()) * 100\n",
    "\n",
    "# === Display the 4 KPIs for Bakersfield, CA ===\n",
    "print(\"\\n=== KPI Results for Bakersfield (CA) ===\")\n",
    "print(f\"ESB Adoption Rate: {adoption:.2f}%\")                     # KPI 1\n",
    "print(f\"PM2.5 Level: {pm25:.2f} µg/m³\")                          # KPI 2\n",
    "print(f\"Median Income: ${income:,.0f}\")                          # KPI 3\n",
    "print(f\"Students eligible for free/reduced lunch: {free_lunch:.2f}%\")  # KPI 4"
   ]
  },
  {
   "cell_type": "code",
   "execution_count": 8,
   "id": "492866e9-26fa-4e26-a585-dc59d23f8a2c",
   "metadata": {},
   "outputs": [
    {
     "data": {
      "application/vnd.plotly.v1+json": {
       "config": {
        "plotlyServerURL": "https://plot.ly"
       },
       "data": [
        {
         "domain": {
          "x": [
           0,
           0.2125
          ],
          "y": [
           0,
           1
          ]
         },
         "mode": "number",
         "number": {
          "font": {
           "size": 40
          },
          "suffix": "%"
         },
         "title": {
          "text": "<b>ESB Adoption</b><br>Rate"
         },
         "type": "indicator",
         "value": 5.85480093676815
        },
        {
         "domain": {
          "x": [
           0.2625,
           0.475
          ],
          "y": [
           0,
           1
          ]
         },
         "mode": "number",
         "number": {
          "font": {
           "size": 40
          },
          "suffix": " µg/m³"
         },
         "title": {
          "text": "<b>Air Pollution</b><br>(PM2.5)"
         },
         "type": "indicator",
         "value": 9.562526928333336
        },
        {
         "domain": {
          "x": [
           0.525,
           0.7375
          ],
          "y": [
           0,
           1
          ]
         },
         "mode": "number",
         "number": {
          "font": {
           "size": 40
          },
          "prefix": "$"
         },
         "title": {
          "text": "<b>Median</b><br>Household Income"
         },
         "type": "indicator",
         "value": 70795.8
        },
        {
         "domain": {
          "x": [
           0.7875,
           1
          ],
          "y": [
           0,
           1
          ]
         },
         "mode": "number",
         "number": {
          "font": {
           "size": 40
          },
          "suffix": "%"
         },
         "title": {
          "text": "<b>Students</b><br>Free/Reduced Lunch"
         },
         "type": "indicator",
         "value": 71.67914353047146
        }
       ],
       "layout": {
        "height": 200,
        "margin": {
         "b": 20,
         "l": 40,
         "r": 40,
         "t": 80
        },
        "template": {
         "data": {
          "bar": [
           {
            "error_x": {
             "color": "#2a3f5f"
            },
            "error_y": {
             "color": "#2a3f5f"
            },
            "marker": {
             "line": {
              "color": "white",
              "width": 0.5
             },
             "pattern": {
              "fillmode": "overlay",
              "size": 10,
              "solidity": 0.2
             }
            },
            "type": "bar"
           }
          ],
          "barpolar": [
           {
            "marker": {
             "line": {
              "color": "white",
              "width": 0.5
             },
             "pattern": {
              "fillmode": "overlay",
              "size": 10,
              "solidity": 0.2
             }
            },
            "type": "barpolar"
           }
          ],
          "carpet": [
           {
            "aaxis": {
             "endlinecolor": "#2a3f5f",
             "gridcolor": "#C8D4E3",
             "linecolor": "#C8D4E3",
             "minorgridcolor": "#C8D4E3",
             "startlinecolor": "#2a3f5f"
            },
            "baxis": {
             "endlinecolor": "#2a3f5f",
             "gridcolor": "#C8D4E3",
             "linecolor": "#C8D4E3",
             "minorgridcolor": "#C8D4E3",
             "startlinecolor": "#2a3f5f"
            },
            "type": "carpet"
           }
          ],
          "choropleth": [
           {
            "colorbar": {
             "outlinewidth": 0,
             "ticks": ""
            },
            "type": "choropleth"
           }
          ],
          "contour": [
           {
            "colorbar": {
             "outlinewidth": 0,
             "ticks": ""
            },
            "colorscale": [
             [
              0,
              "#0d0887"
             ],
             [
              0.1111111111111111,
              "#46039f"
             ],
             [
              0.2222222222222222,
              "#7201a8"
             ],
             [
              0.3333333333333333,
              "#9c179e"
             ],
             [
              0.4444444444444444,
              "#bd3786"
             ],
             [
              0.5555555555555556,
              "#d8576b"
             ],
             [
              0.6666666666666666,
              "#ed7953"
             ],
             [
              0.7777777777777778,
              "#fb9f3a"
             ],
             [
              0.8888888888888888,
              "#fdca26"
             ],
             [
              1,
              "#f0f921"
             ]
            ],
            "type": "contour"
           }
          ],
          "contourcarpet": [
           {
            "colorbar": {
             "outlinewidth": 0,
             "ticks": ""
            },
            "type": "contourcarpet"
           }
          ],
          "heatmap": [
           {
            "colorbar": {
             "outlinewidth": 0,
             "ticks": ""
            },
            "colorscale": [
             [
              0,
              "#0d0887"
             ],
             [
              0.1111111111111111,
              "#46039f"
             ],
             [
              0.2222222222222222,
              "#7201a8"
             ],
             [
              0.3333333333333333,
              "#9c179e"
             ],
             [
              0.4444444444444444,
              "#bd3786"
             ],
             [
              0.5555555555555556,
              "#d8576b"
             ],
             [
              0.6666666666666666,
              "#ed7953"
             ],
             [
              0.7777777777777778,
              "#fb9f3a"
             ],
             [
              0.8888888888888888,
              "#fdca26"
             ],
             [
              1,
              "#f0f921"
             ]
            ],
            "type": "heatmap"
           }
          ],
          "histogram": [
           {
            "marker": {
             "pattern": {
              "fillmode": "overlay",
              "size": 10,
              "solidity": 0.2
             }
            },
            "type": "histogram"
           }
          ],
          "histogram2d": [
           {
            "colorbar": {
             "outlinewidth": 0,
             "ticks": ""
            },
            "colorscale": [
             [
              0,
              "#0d0887"
             ],
             [
              0.1111111111111111,
              "#46039f"
             ],
             [
              0.2222222222222222,
              "#7201a8"
             ],
             [
              0.3333333333333333,
              "#9c179e"
             ],
             [
              0.4444444444444444,
              "#bd3786"
             ],
             [
              0.5555555555555556,
              "#d8576b"
             ],
             [
              0.6666666666666666,
              "#ed7953"
             ],
             [
              0.7777777777777778,
              "#fb9f3a"
             ],
             [
              0.8888888888888888,
              "#fdca26"
             ],
             [
              1,
              "#f0f921"
             ]
            ],
            "type": "histogram2d"
           }
          ],
          "histogram2dcontour": [
           {
            "colorbar": {
             "outlinewidth": 0,
             "ticks": ""
            },
            "colorscale": [
             [
              0,
              "#0d0887"
             ],
             [
              0.1111111111111111,
              "#46039f"
             ],
             [
              0.2222222222222222,
              "#7201a8"
             ],
             [
              0.3333333333333333,
              "#9c179e"
             ],
             [
              0.4444444444444444,
              "#bd3786"
             ],
             [
              0.5555555555555556,
              "#d8576b"
             ],
             [
              0.6666666666666666,
              "#ed7953"
             ],
             [
              0.7777777777777778,
              "#fb9f3a"
             ],
             [
              0.8888888888888888,
              "#fdca26"
             ],
             [
              1,
              "#f0f921"
             ]
            ],
            "type": "histogram2dcontour"
           }
          ],
          "mesh3d": [
           {
            "colorbar": {
             "outlinewidth": 0,
             "ticks": ""
            },
            "type": "mesh3d"
           }
          ],
          "parcoords": [
           {
            "line": {
             "colorbar": {
              "outlinewidth": 0,
              "ticks": ""
             }
            },
            "type": "parcoords"
           }
          ],
          "pie": [
           {
            "automargin": true,
            "type": "pie"
           }
          ],
          "scatter": [
           {
            "fillpattern": {
             "fillmode": "overlay",
             "size": 10,
             "solidity": 0.2
            },
            "type": "scatter"
           }
          ],
          "scatter3d": [
           {
            "line": {
             "colorbar": {
              "outlinewidth": 0,
              "ticks": ""
             }
            },
            "marker": {
             "colorbar": {
              "outlinewidth": 0,
              "ticks": ""
             }
            },
            "type": "scatter3d"
           }
          ],
          "scattercarpet": [
           {
            "marker": {
             "colorbar": {
              "outlinewidth": 0,
              "ticks": ""
             }
            },
            "type": "scattercarpet"
           }
          ],
          "scattergeo": [
           {
            "marker": {
             "colorbar": {
              "outlinewidth": 0,
              "ticks": ""
             }
            },
            "type": "scattergeo"
           }
          ],
          "scattergl": [
           {
            "marker": {
             "colorbar": {
              "outlinewidth": 0,
              "ticks": ""
             }
            },
            "type": "scattergl"
           }
          ],
          "scattermap": [
           {
            "marker": {
             "colorbar": {
              "outlinewidth": 0,
              "ticks": ""
             }
            },
            "type": "scattermap"
           }
          ],
          "scattermapbox": [
           {
            "marker": {
             "colorbar": {
              "outlinewidth": 0,
              "ticks": ""
             }
            },
            "type": "scattermapbox"
           }
          ],
          "scatterpolar": [
           {
            "marker": {
             "colorbar": {
              "outlinewidth": 0,
              "ticks": ""
             }
            },
            "type": "scatterpolar"
           }
          ],
          "scatterpolargl": [
           {
            "marker": {
             "colorbar": {
              "outlinewidth": 0,
              "ticks": ""
             }
            },
            "type": "scatterpolargl"
           }
          ],
          "scatterternary": [
           {
            "marker": {
             "colorbar": {
              "outlinewidth": 0,
              "ticks": ""
             }
            },
            "type": "scatterternary"
           }
          ],
          "surface": [
           {
            "colorbar": {
             "outlinewidth": 0,
             "ticks": ""
            },
            "colorscale": [
             [
              0,
              "#0d0887"
             ],
             [
              0.1111111111111111,
              "#46039f"
             ],
             [
              0.2222222222222222,
              "#7201a8"
             ],
             [
              0.3333333333333333,
              "#9c179e"
             ],
             [
              0.4444444444444444,
              "#bd3786"
             ],
             [
              0.5555555555555556,
              "#d8576b"
             ],
             [
              0.6666666666666666,
              "#ed7953"
             ],
             [
              0.7777777777777778,
              "#fb9f3a"
             ],
             [
              0.8888888888888888,
              "#fdca26"
             ],
             [
              1,
              "#f0f921"
             ]
            ],
            "type": "surface"
           }
          ],
          "table": [
           {
            "cells": {
             "fill": {
              "color": "#EBF0F8"
             },
             "line": {
              "color": "white"
             }
            },
            "header": {
             "fill": {
              "color": "#C8D4E3"
             },
             "line": {
              "color": "white"
             }
            },
            "type": "table"
           }
          ]
         },
         "layout": {
          "annotationdefaults": {
           "arrowcolor": "#2a3f5f",
           "arrowhead": 0,
           "arrowwidth": 1
          },
          "autotypenumbers": "strict",
          "coloraxis": {
           "colorbar": {
            "outlinewidth": 0,
            "ticks": ""
           }
          },
          "colorscale": {
           "diverging": [
            [
             0,
             "#8e0152"
            ],
            [
             0.1,
             "#c51b7d"
            ],
            [
             0.2,
             "#de77ae"
            ],
            [
             0.3,
             "#f1b6da"
            ],
            [
             0.4,
             "#fde0ef"
            ],
            [
             0.5,
             "#f7f7f7"
            ],
            [
             0.6,
             "#e6f5d0"
            ],
            [
             0.7,
             "#b8e186"
            ],
            [
             0.8,
             "#7fbc41"
            ],
            [
             0.9,
             "#4d9221"
            ],
            [
             1,
             "#276419"
            ]
           ],
           "sequential": [
            [
             0,
             "#0d0887"
            ],
            [
             0.1111111111111111,
             "#46039f"
            ],
            [
             0.2222222222222222,
             "#7201a8"
            ],
            [
             0.3333333333333333,
             "#9c179e"
            ],
            [
             0.4444444444444444,
             "#bd3786"
            ],
            [
             0.5555555555555556,
             "#d8576b"
            ],
            [
             0.6666666666666666,
             "#ed7953"
            ],
            [
             0.7777777777777778,
             "#fb9f3a"
            ],
            [
             0.8888888888888888,
             "#fdca26"
            ],
            [
             1,
             "#f0f921"
            ]
           ],
           "sequentialminus": [
            [
             0,
             "#0d0887"
            ],
            [
             0.1111111111111111,
             "#46039f"
            ],
            [
             0.2222222222222222,
             "#7201a8"
            ],
            [
             0.3333333333333333,
             "#9c179e"
            ],
            [
             0.4444444444444444,
             "#bd3786"
            ],
            [
             0.5555555555555556,
             "#d8576b"
            ],
            [
             0.6666666666666666,
             "#ed7953"
            ],
            [
             0.7777777777777778,
             "#fb9f3a"
            ],
            [
             0.8888888888888888,
             "#fdca26"
            ],
            [
             1,
             "#f0f921"
            ]
           ]
          },
          "colorway": [
           "#636efa",
           "#EF553B",
           "#00cc96",
           "#ab63fa",
           "#FFA15A",
           "#19d3f3",
           "#FF6692",
           "#B6E880",
           "#FF97FF",
           "#FECB52"
          ],
          "font": {
           "color": "#2a3f5f"
          },
          "geo": {
           "bgcolor": "white",
           "lakecolor": "white",
           "landcolor": "white",
           "showlakes": true,
           "showland": true,
           "subunitcolor": "#C8D4E3"
          },
          "hoverlabel": {
           "align": "left"
          },
          "hovermode": "closest",
          "mapbox": {
           "style": "light"
          },
          "paper_bgcolor": "white",
          "plot_bgcolor": "white",
          "polar": {
           "angularaxis": {
            "gridcolor": "#EBF0F8",
            "linecolor": "#EBF0F8",
            "ticks": ""
           },
           "bgcolor": "white",
           "radialaxis": {
            "gridcolor": "#EBF0F8",
            "linecolor": "#EBF0F8",
            "ticks": ""
           }
          },
          "scene": {
           "xaxis": {
            "backgroundcolor": "white",
            "gridcolor": "#DFE8F3",
            "gridwidth": 2,
            "linecolor": "#EBF0F8",
            "showbackground": true,
            "ticks": "",
            "zerolinecolor": "#EBF0F8"
           },
           "yaxis": {
            "backgroundcolor": "white",
            "gridcolor": "#DFE8F3",
            "gridwidth": 2,
            "linecolor": "#EBF0F8",
            "showbackground": true,
            "ticks": "",
            "zerolinecolor": "#EBF0F8"
           },
           "zaxis": {
            "backgroundcolor": "white",
            "gridcolor": "#DFE8F3",
            "gridwidth": 2,
            "linecolor": "#EBF0F8",
            "showbackground": true,
            "ticks": "",
            "zerolinecolor": "#EBF0F8"
           }
          },
          "shapedefaults": {
           "line": {
            "color": "#2a3f5f"
           }
          },
          "ternary": {
           "aaxis": {
            "gridcolor": "#DFE8F3",
            "linecolor": "#A2B1C6",
            "ticks": ""
           },
           "baxis": {
            "gridcolor": "#DFE8F3",
            "linecolor": "#A2B1C6",
            "ticks": ""
           },
           "bgcolor": "white",
           "caxis": {
            "gridcolor": "#DFE8F3",
            "linecolor": "#A2B1C6",
            "ticks": ""
           }
          },
          "title": {
           "x": 0.05
          },
          "xaxis": {
           "automargin": true,
           "gridcolor": "#EBF0F8",
           "linecolor": "#EBF0F8",
           "ticks": "",
           "title": {
            "standoff": 15
           },
           "zerolinecolor": "#EBF0F8",
           "zerolinewidth": 2
          },
          "yaxis": {
           "automargin": true,
           "gridcolor": "#EBF0F8",
           "linecolor": "#EBF0F8",
           "ticks": "",
           "title": {
            "standoff": 15
           },
           "zerolinecolor": "#EBF0F8",
           "zerolinewidth": 2
          }
         }
        },
        "title": {
         "text": "<b>Bakersfield, CA – Key Performance Indicators</b>"
        },
        "width": 1000
       }
      }
     },
     "metadata": {},
     "output_type": "display_data"
    }
   ],
   "source": [
    "# === Create 4 KPI Cards (clean layout) ===\n",
    "fig = make_subplots(rows=1, cols=4, specs=[[{\"type\": \"indicator\"}] * 4],\n",
    "                    column_widths=[0.25, 0.25, 0.25, 0.25])\n",
    "\n",
    "# KPI 1 – ESB Adoption Rate\n",
    "fig.add_trace(go.Indicator(\n",
    "    mode=\"number\",\n",
    "    value=adoption,\n",
    "    number={'suffix': \"%\", 'font': {'size': 40}},\n",
    "    title={\"text\": \"<b>ESB Adoption</b><br>Rate\"},\n",
    "    domain={'x': [0, 0.25]}\n",
    "), row=1, col=1)\n",
    "\n",
    "# KPI 2 – Air Pollution (PM2.5)\n",
    "fig.add_trace(go.Indicator(\n",
    "    mode=\"number\",\n",
    "    value=pm25,\n",
    "    number={'suffix': \" µg/m³\", 'font': {'size': 40}},\n",
    "    title={\"text\": \"<b>Air Pollution</b><br>(PM2.5)\"},\n",
    "    domain={'x': [0.25, 0.5]}\n",
    "), row=1, col=2)\n",
    "\n",
    "# KPI 3 – Median Income\n",
    "fig.add_trace(go.Indicator(\n",
    "    mode=\"number\",\n",
    "    value=income,\n",
    "    number={'prefix': \"$\", 'font': {'size': 40}},\n",
    "    title={\"text\": \"<b>Median</b><br>Household Income\"},\n",
    "    domain={'x': [0.5, 0.75]}\n",
    "), row=1, col=3)\n",
    "\n",
    "# KPI 4 – Free/Reduced Lunch %\n",
    "fig.add_trace(go.Indicator(\n",
    "    mode=\"number\",\n",
    "    value=free_lunch,\n",
    "    number={'suffix': \"%\", 'font': {'size': 40}},\n",
    "    title={\"text\": \"<b>Students</b><br>Free/Reduced Lunch\"},\n",
    "    domain={'x': [0.75, 1.0]}\n",
    "), row=1, col=4)\n",
    "\n",
    "# === Layout settings ===\n",
    "fig.update_layout(\n",
    "    title=\"<b>Bakersfield, CA – Key Performance Indicators</b>\",\n",
    "    template=\"plotly_white\",\n",
    "    height=200,     \n",
    "    width=1000,     \n",
    "    margin=dict(t=80, b=20, l=40, r=40)\n",
    ")\n",
    "\n",
    "fig.show()\n",
    "\n"
   ]
  },
  {
   "cell_type": "code",
   "execution_count": 9,
   "id": "c1b10a58-b78a-4d17-8628-2e46a14c7b35",
   "metadata": {},
   "outputs": [
    {
     "data": {
      "application/vnd.plotly.v1+json": {
       "config": {
        "plotlyServerURL": "https://plot.ly"
       },
       "data": [
        {
         "marker": {
          "color": "indianred"
         },
         "name": "Bakersfield",
         "text": [
          "5.85",
          "9.56"
         ],
         "textposition": "outside",
         "type": "bar",
         "x": [
          "ESB Adoption Rate (%)",
          "PM2.5 (µg/m³)"
         ],
         "y": [
          5.85,
          9.56
         ]
        },
        {
         "marker": {
          "color": "lightblue"
         },
         "name": "California Avg",
         "text": [
          "13.24",
          "7.5"
         ],
         "textposition": "outside",
         "type": "bar",
         "x": [
          "ESB Adoption Rate (%)",
          "PM2.5 (µg/m³)"
         ],
         "y": [
          13.24,
          7.5
         ]
        }
       ],
       "layout": {
        "autosize": true,
        "barmode": "group",
        "template": {
         "data": {
          "bar": [
           {
            "error_x": {
             "color": "#2a3f5f"
            },
            "error_y": {
             "color": "#2a3f5f"
            },
            "marker": {
             "line": {
              "color": "white",
              "width": 0.5
             },
             "pattern": {
              "fillmode": "overlay",
              "size": 10,
              "solidity": 0.2
             }
            },
            "type": "bar"
           }
          ],
          "barpolar": [
           {
            "marker": {
             "line": {
              "color": "white",
              "width": 0.5
             },
             "pattern": {
              "fillmode": "overlay",
              "size": 10,
              "solidity": 0.2
             }
            },
            "type": "barpolar"
           }
          ],
          "carpet": [
           {
            "aaxis": {
             "endlinecolor": "#2a3f5f",
             "gridcolor": "#C8D4E3",
             "linecolor": "#C8D4E3",
             "minorgridcolor": "#C8D4E3",
             "startlinecolor": "#2a3f5f"
            },
            "baxis": {
             "endlinecolor": "#2a3f5f",
             "gridcolor": "#C8D4E3",
             "linecolor": "#C8D4E3",
             "minorgridcolor": "#C8D4E3",
             "startlinecolor": "#2a3f5f"
            },
            "type": "carpet"
           }
          ],
          "choropleth": [
           {
            "colorbar": {
             "outlinewidth": 0,
             "ticks": ""
            },
            "type": "choropleth"
           }
          ],
          "contour": [
           {
            "colorbar": {
             "outlinewidth": 0,
             "ticks": ""
            },
            "colorscale": [
             [
              0,
              "#0d0887"
             ],
             [
              0.1111111111111111,
              "#46039f"
             ],
             [
              0.2222222222222222,
              "#7201a8"
             ],
             [
              0.3333333333333333,
              "#9c179e"
             ],
             [
              0.4444444444444444,
              "#bd3786"
             ],
             [
              0.5555555555555556,
              "#d8576b"
             ],
             [
              0.6666666666666666,
              "#ed7953"
             ],
             [
              0.7777777777777778,
              "#fb9f3a"
             ],
             [
              0.8888888888888888,
              "#fdca26"
             ],
             [
              1,
              "#f0f921"
             ]
            ],
            "type": "contour"
           }
          ],
          "contourcarpet": [
           {
            "colorbar": {
             "outlinewidth": 0,
             "ticks": ""
            },
            "type": "contourcarpet"
           }
          ],
          "heatmap": [
           {
            "colorbar": {
             "outlinewidth": 0,
             "ticks": ""
            },
            "colorscale": [
             [
              0,
              "#0d0887"
             ],
             [
              0.1111111111111111,
              "#46039f"
             ],
             [
              0.2222222222222222,
              "#7201a8"
             ],
             [
              0.3333333333333333,
              "#9c179e"
             ],
             [
              0.4444444444444444,
              "#bd3786"
             ],
             [
              0.5555555555555556,
              "#d8576b"
             ],
             [
              0.6666666666666666,
              "#ed7953"
             ],
             [
              0.7777777777777778,
              "#fb9f3a"
             ],
             [
              0.8888888888888888,
              "#fdca26"
             ],
             [
              1,
              "#f0f921"
             ]
            ],
            "type": "heatmap"
           }
          ],
          "histogram": [
           {
            "marker": {
             "pattern": {
              "fillmode": "overlay",
              "size": 10,
              "solidity": 0.2
             }
            },
            "type": "histogram"
           }
          ],
          "histogram2d": [
           {
            "colorbar": {
             "outlinewidth": 0,
             "ticks": ""
            },
            "colorscale": [
             [
              0,
              "#0d0887"
             ],
             [
              0.1111111111111111,
              "#46039f"
             ],
             [
              0.2222222222222222,
              "#7201a8"
             ],
             [
              0.3333333333333333,
              "#9c179e"
             ],
             [
              0.4444444444444444,
              "#bd3786"
             ],
             [
              0.5555555555555556,
              "#d8576b"
             ],
             [
              0.6666666666666666,
              "#ed7953"
             ],
             [
              0.7777777777777778,
              "#fb9f3a"
             ],
             [
              0.8888888888888888,
              "#fdca26"
             ],
             [
              1,
              "#f0f921"
             ]
            ],
            "type": "histogram2d"
           }
          ],
          "histogram2dcontour": [
           {
            "colorbar": {
             "outlinewidth": 0,
             "ticks": ""
            },
            "colorscale": [
             [
              0,
              "#0d0887"
             ],
             [
              0.1111111111111111,
              "#46039f"
             ],
             [
              0.2222222222222222,
              "#7201a8"
             ],
             [
              0.3333333333333333,
              "#9c179e"
             ],
             [
              0.4444444444444444,
              "#bd3786"
             ],
             [
              0.5555555555555556,
              "#d8576b"
             ],
             [
              0.6666666666666666,
              "#ed7953"
             ],
             [
              0.7777777777777778,
              "#fb9f3a"
             ],
             [
              0.8888888888888888,
              "#fdca26"
             ],
             [
              1,
              "#f0f921"
             ]
            ],
            "type": "histogram2dcontour"
           }
          ],
          "mesh3d": [
           {
            "colorbar": {
             "outlinewidth": 0,
             "ticks": ""
            },
            "type": "mesh3d"
           }
          ],
          "parcoords": [
           {
            "line": {
             "colorbar": {
              "outlinewidth": 0,
              "ticks": ""
             }
            },
            "type": "parcoords"
           }
          ],
          "pie": [
           {
            "automargin": true,
            "type": "pie"
           }
          ],
          "scatter": [
           {
            "fillpattern": {
             "fillmode": "overlay",
             "size": 10,
             "solidity": 0.2
            },
            "type": "scatter"
           }
          ],
          "scatter3d": [
           {
            "line": {
             "colorbar": {
              "outlinewidth": 0,
              "ticks": ""
             }
            },
            "marker": {
             "colorbar": {
              "outlinewidth": 0,
              "ticks": ""
             }
            },
            "type": "scatter3d"
           }
          ],
          "scattercarpet": [
           {
            "marker": {
             "colorbar": {
              "outlinewidth": 0,
              "ticks": ""
             }
            },
            "type": "scattercarpet"
           }
          ],
          "scattergeo": [
           {
            "marker": {
             "colorbar": {
              "outlinewidth": 0,
              "ticks": ""
             }
            },
            "type": "scattergeo"
           }
          ],
          "scattergl": [
           {
            "marker": {
             "colorbar": {
              "outlinewidth": 0,
              "ticks": ""
             }
            },
            "type": "scattergl"
           }
          ],
          "scattermap": [
           {
            "marker": {
             "colorbar": {
              "outlinewidth": 0,
              "ticks": ""
             }
            },
            "type": "scattermap"
           }
          ],
          "scattermapbox": [
           {
            "marker": {
             "colorbar": {
              "outlinewidth": 0,
              "ticks": ""
             }
            },
            "type": "scattermapbox"
           }
          ],
          "scatterpolar": [
           {
            "marker": {
             "colorbar": {
              "outlinewidth": 0,
              "ticks": ""
             }
            },
            "type": "scatterpolar"
           }
          ],
          "scatterpolargl": [
           {
            "marker": {
             "colorbar": {
              "outlinewidth": 0,
              "ticks": ""
             }
            },
            "type": "scatterpolargl"
           }
          ],
          "scatterternary": [
           {
            "marker": {
             "colorbar": {
              "outlinewidth": 0,
              "ticks": ""
             }
            },
            "type": "scatterternary"
           }
          ],
          "surface": [
           {
            "colorbar": {
             "outlinewidth": 0,
             "ticks": ""
            },
            "colorscale": [
             [
              0,
              "#0d0887"
             ],
             [
              0.1111111111111111,
              "#46039f"
             ],
             [
              0.2222222222222222,
              "#7201a8"
             ],
             [
              0.3333333333333333,
              "#9c179e"
             ],
             [
              0.4444444444444444,
              "#bd3786"
             ],
             [
              0.5555555555555556,
              "#d8576b"
             ],
             [
              0.6666666666666666,
              "#ed7953"
             ],
             [
              0.7777777777777778,
              "#fb9f3a"
             ],
             [
              0.8888888888888888,
              "#fdca26"
             ],
             [
              1,
              "#f0f921"
             ]
            ],
            "type": "surface"
           }
          ],
          "table": [
           {
            "cells": {
             "fill": {
              "color": "#EBF0F8"
             },
             "line": {
              "color": "white"
             }
            },
            "header": {
             "fill": {
              "color": "#C8D4E3"
             },
             "line": {
              "color": "white"
             }
            },
            "type": "table"
           }
          ]
         },
         "layout": {
          "annotationdefaults": {
           "arrowcolor": "#2a3f5f",
           "arrowhead": 0,
           "arrowwidth": 1
          },
          "autotypenumbers": "strict",
          "coloraxis": {
           "colorbar": {
            "outlinewidth": 0,
            "ticks": ""
           }
          },
          "colorscale": {
           "diverging": [
            [
             0,
             "#8e0152"
            ],
            [
             0.1,
             "#c51b7d"
            ],
            [
             0.2,
             "#de77ae"
            ],
            [
             0.3,
             "#f1b6da"
            ],
            [
             0.4,
             "#fde0ef"
            ],
            [
             0.5,
             "#f7f7f7"
            ],
            [
             0.6,
             "#e6f5d0"
            ],
            [
             0.7,
             "#b8e186"
            ],
            [
             0.8,
             "#7fbc41"
            ],
            [
             0.9,
             "#4d9221"
            ],
            [
             1,
             "#276419"
            ]
           ],
           "sequential": [
            [
             0,
             "#0d0887"
            ],
            [
             0.1111111111111111,
             "#46039f"
            ],
            [
             0.2222222222222222,
             "#7201a8"
            ],
            [
             0.3333333333333333,
             "#9c179e"
            ],
            [
             0.4444444444444444,
             "#bd3786"
            ],
            [
             0.5555555555555556,
             "#d8576b"
            ],
            [
             0.6666666666666666,
             "#ed7953"
            ],
            [
             0.7777777777777778,
             "#fb9f3a"
            ],
            [
             0.8888888888888888,
             "#fdca26"
            ],
            [
             1,
             "#f0f921"
            ]
           ],
           "sequentialminus": [
            [
             0,
             "#0d0887"
            ],
            [
             0.1111111111111111,
             "#46039f"
            ],
            [
             0.2222222222222222,
             "#7201a8"
            ],
            [
             0.3333333333333333,
             "#9c179e"
            ],
            [
             0.4444444444444444,
             "#bd3786"
            ],
            [
             0.5555555555555556,
             "#d8576b"
            ],
            [
             0.6666666666666666,
             "#ed7953"
            ],
            [
             0.7777777777777778,
             "#fb9f3a"
            ],
            [
             0.8888888888888888,
             "#fdca26"
            ],
            [
             1,
             "#f0f921"
            ]
           ]
          },
          "colorway": [
           "#636efa",
           "#EF553B",
           "#00cc96",
           "#ab63fa",
           "#FFA15A",
           "#19d3f3",
           "#FF6692",
           "#B6E880",
           "#FF97FF",
           "#FECB52"
          ],
          "font": {
           "color": "#2a3f5f"
          },
          "geo": {
           "bgcolor": "white",
           "lakecolor": "white",
           "landcolor": "white",
           "showlakes": true,
           "showland": true,
           "subunitcolor": "#C8D4E3"
          },
          "hoverlabel": {
           "align": "left"
          },
          "hovermode": "closest",
          "mapbox": {
           "style": "light"
          },
          "paper_bgcolor": "white",
          "plot_bgcolor": "white",
          "polar": {
           "angularaxis": {
            "gridcolor": "#EBF0F8",
            "linecolor": "#EBF0F8",
            "ticks": ""
           },
           "bgcolor": "white",
           "radialaxis": {
            "gridcolor": "#EBF0F8",
            "linecolor": "#EBF0F8",
            "ticks": ""
           }
          },
          "scene": {
           "xaxis": {
            "backgroundcolor": "white",
            "gridcolor": "#DFE8F3",
            "gridwidth": 2,
            "linecolor": "#EBF0F8",
            "showbackground": true,
            "ticks": "",
            "zerolinecolor": "#EBF0F8"
           },
           "yaxis": {
            "backgroundcolor": "white",
            "gridcolor": "#DFE8F3",
            "gridwidth": 2,
            "linecolor": "#EBF0F8",
            "showbackground": true,
            "ticks": "",
            "zerolinecolor": "#EBF0F8"
           },
           "zaxis": {
            "backgroundcolor": "white",
            "gridcolor": "#DFE8F3",
            "gridwidth": 2,
            "linecolor": "#EBF0F8",
            "showbackground": true,
            "ticks": "",
            "zerolinecolor": "#EBF0F8"
           }
          },
          "shapedefaults": {
           "line": {
            "color": "#2a3f5f"
           }
          },
          "ternary": {
           "aaxis": {
            "gridcolor": "#DFE8F3",
            "linecolor": "#A2B1C6",
            "ticks": ""
           },
           "baxis": {
            "gridcolor": "#DFE8F3",
            "linecolor": "#A2B1C6",
            "ticks": ""
           },
           "bgcolor": "white",
           "caxis": {
            "gridcolor": "#DFE8F3",
            "linecolor": "#A2B1C6",
            "ticks": ""
           }
          },
          "title": {
           "x": 0.05
          },
          "xaxis": {
           "automargin": true,
           "gridcolor": "#EBF0F8",
           "linecolor": "#EBF0F8",
           "ticks": "",
           "title": {
            "standoff": 15
           },
           "zerolinecolor": "#EBF0F8",
           "zerolinewidth": 2
          },
          "yaxis": {
           "automargin": true,
           "gridcolor": "#EBF0F8",
           "linecolor": "#EBF0F8",
           "ticks": "",
           "title": {
            "standoff": 15
           },
           "zerolinecolor": "#EBF0F8",
           "zerolinewidth": 2
          }
         }
        },
        "title": {
         "text": "Bakersfield vs California – ESB Adoption & PM2.5"
        },
        "xaxis": {
         "autorange": true,
         "range": [
          -0.5,
          1.5
         ],
         "type": "category"
        },
        "yaxis": {
         "range": [
          0,
          15
         ],
         "title": {
          "text": "Value"
         },
         "type": "linear"
        }
       }
      }
     },
     "metadata": {},
     "output_type": "display_data"
    }
   ],
   "source": [
    "# Compare ESB Adoption Rate (%) and PM2.5\n",
    "state_df = df[df['state'].str.contains('California', case=False, na=False)]\n",
    "\n",
    "state_mean = {\n",
    "    'esb_adoption_rate': state_df['esb_adoption_rate'].mean(),\n",
    "    'pm25': state_df['pm25'].mean(),\n",
    "    'median_income': state_df['median_income'].mean(),\n",
    "    'free_lunch_pct': state_df['free_lunch_pct'].mean()\n",
    "}\n",
    "\n",
    "labels_small = ['ESB Adoption Rate (%)', 'PM2.5 (µg/m³)']\n",
    "bakersfield_small = [round(adoption, 2), round(pm25, 2)]\n",
    "state_small = [round(state_mean['esb_adoption_rate'], 2), round(state_mean['pm25'], 2)]\n",
    "\n",
    "fig_bar_small = go.Figure(data=[\n",
    "    go.Bar(name='Bakersfield', x=labels_small, y=bakersfield_small, marker_color='indianred', text=bakersfield_small, textposition='outside'),\n",
    "    go.Bar(name='California Avg', x=labels_small, y=state_small, marker_color='lightblue', text=state_small, textposition='outside')\n",
    "])\n",
    "\n",
    "fig_bar_small.update_layout(\n",
    "    barmode='group',\n",
    "    title=\"Bakersfield vs California – ESB Adoption & PM2.5\",\n",
    "    yaxis_title=\"Value\",\n",
    "    yaxis=dict(range=[0, 15]),\n",
    "    template=\"plotly_white\",\n",
    "    height=380\n",
    ")\n",
    "fig_bar_small.show()\n"
   ]
  },
  {
   "cell_type": "code",
   "execution_count": 10,
   "id": "14154d14-654a-4d4d-95d2-c2b28cd0ba75",
   "metadata": {},
   "outputs": [
    {
     "data": {
      "application/vnd.plotly.v1+json": {
       "config": {
        "plotlyServerURL": "https://plot.ly"
       },
       "data": [
        {
         "marker": {
          "color": "indianred"
         },
         "name": "Bakersfield",
         "text": [
          "$70.8k"
         ],
         "textposition": "outside",
         "type": "bar",
         "x": [
          "Median Household Income ($)"
         ],
         "y": [
          70796
         ]
        },
        {
         "marker": {
          "color": "lightblue"
         },
         "name": "California Avg",
         "text": [
          "$83.0k"
         ],
         "textposition": "outside",
         "type": "bar",
         "x": [
          "Median Household Income ($)"
         ],
         "y": [
          83000
         ]
        }
       ],
       "layout": {
        "autosize": true,
        "barmode": "group",
        "template": {
         "data": {
          "bar": [
           {
            "error_x": {
             "color": "#2a3f5f"
            },
            "error_y": {
             "color": "#2a3f5f"
            },
            "marker": {
             "line": {
              "color": "white",
              "width": 0.5
             },
             "pattern": {
              "fillmode": "overlay",
              "size": 10,
              "solidity": 0.2
             }
            },
            "type": "bar"
           }
          ],
          "barpolar": [
           {
            "marker": {
             "line": {
              "color": "white",
              "width": 0.5
             },
             "pattern": {
              "fillmode": "overlay",
              "size": 10,
              "solidity": 0.2
             }
            },
            "type": "barpolar"
           }
          ],
          "carpet": [
           {
            "aaxis": {
             "endlinecolor": "#2a3f5f",
             "gridcolor": "#C8D4E3",
             "linecolor": "#C8D4E3",
             "minorgridcolor": "#C8D4E3",
             "startlinecolor": "#2a3f5f"
            },
            "baxis": {
             "endlinecolor": "#2a3f5f",
             "gridcolor": "#C8D4E3",
             "linecolor": "#C8D4E3",
             "minorgridcolor": "#C8D4E3",
             "startlinecolor": "#2a3f5f"
            },
            "type": "carpet"
           }
          ],
          "choropleth": [
           {
            "colorbar": {
             "outlinewidth": 0,
             "ticks": ""
            },
            "type": "choropleth"
           }
          ],
          "contour": [
           {
            "colorbar": {
             "outlinewidth": 0,
             "ticks": ""
            },
            "colorscale": [
             [
              0,
              "#0d0887"
             ],
             [
              0.1111111111111111,
              "#46039f"
             ],
             [
              0.2222222222222222,
              "#7201a8"
             ],
             [
              0.3333333333333333,
              "#9c179e"
             ],
             [
              0.4444444444444444,
              "#bd3786"
             ],
             [
              0.5555555555555556,
              "#d8576b"
             ],
             [
              0.6666666666666666,
              "#ed7953"
             ],
             [
              0.7777777777777778,
              "#fb9f3a"
             ],
             [
              0.8888888888888888,
              "#fdca26"
             ],
             [
              1,
              "#f0f921"
             ]
            ],
            "type": "contour"
           }
          ],
          "contourcarpet": [
           {
            "colorbar": {
             "outlinewidth": 0,
             "ticks": ""
            },
            "type": "contourcarpet"
           }
          ],
          "heatmap": [
           {
            "colorbar": {
             "outlinewidth": 0,
             "ticks": ""
            },
            "colorscale": [
             [
              0,
              "#0d0887"
             ],
             [
              0.1111111111111111,
              "#46039f"
             ],
             [
              0.2222222222222222,
              "#7201a8"
             ],
             [
              0.3333333333333333,
              "#9c179e"
             ],
             [
              0.4444444444444444,
              "#bd3786"
             ],
             [
              0.5555555555555556,
              "#d8576b"
             ],
             [
              0.6666666666666666,
              "#ed7953"
             ],
             [
              0.7777777777777778,
              "#fb9f3a"
             ],
             [
              0.8888888888888888,
              "#fdca26"
             ],
             [
              1,
              "#f0f921"
             ]
            ],
            "type": "heatmap"
           }
          ],
          "histogram": [
           {
            "marker": {
             "pattern": {
              "fillmode": "overlay",
              "size": 10,
              "solidity": 0.2
             }
            },
            "type": "histogram"
           }
          ],
          "histogram2d": [
           {
            "colorbar": {
             "outlinewidth": 0,
             "ticks": ""
            },
            "colorscale": [
             [
              0,
              "#0d0887"
             ],
             [
              0.1111111111111111,
              "#46039f"
             ],
             [
              0.2222222222222222,
              "#7201a8"
             ],
             [
              0.3333333333333333,
              "#9c179e"
             ],
             [
              0.4444444444444444,
              "#bd3786"
             ],
             [
              0.5555555555555556,
              "#d8576b"
             ],
             [
              0.6666666666666666,
              "#ed7953"
             ],
             [
              0.7777777777777778,
              "#fb9f3a"
             ],
             [
              0.8888888888888888,
              "#fdca26"
             ],
             [
              1,
              "#f0f921"
             ]
            ],
            "type": "histogram2d"
           }
          ],
          "histogram2dcontour": [
           {
            "colorbar": {
             "outlinewidth": 0,
             "ticks": ""
            },
            "colorscale": [
             [
              0,
              "#0d0887"
             ],
             [
              0.1111111111111111,
              "#46039f"
             ],
             [
              0.2222222222222222,
              "#7201a8"
             ],
             [
              0.3333333333333333,
              "#9c179e"
             ],
             [
              0.4444444444444444,
              "#bd3786"
             ],
             [
              0.5555555555555556,
              "#d8576b"
             ],
             [
              0.6666666666666666,
              "#ed7953"
             ],
             [
              0.7777777777777778,
              "#fb9f3a"
             ],
             [
              0.8888888888888888,
              "#fdca26"
             ],
             [
              1,
              "#f0f921"
             ]
            ],
            "type": "histogram2dcontour"
           }
          ],
          "mesh3d": [
           {
            "colorbar": {
             "outlinewidth": 0,
             "ticks": ""
            },
            "type": "mesh3d"
           }
          ],
          "parcoords": [
           {
            "line": {
             "colorbar": {
              "outlinewidth": 0,
              "ticks": ""
             }
            },
            "type": "parcoords"
           }
          ],
          "pie": [
           {
            "automargin": true,
            "type": "pie"
           }
          ],
          "scatter": [
           {
            "fillpattern": {
             "fillmode": "overlay",
             "size": 10,
             "solidity": 0.2
            },
            "type": "scatter"
           }
          ],
          "scatter3d": [
           {
            "line": {
             "colorbar": {
              "outlinewidth": 0,
              "ticks": ""
             }
            },
            "marker": {
             "colorbar": {
              "outlinewidth": 0,
              "ticks": ""
             }
            },
            "type": "scatter3d"
           }
          ],
          "scattercarpet": [
           {
            "marker": {
             "colorbar": {
              "outlinewidth": 0,
              "ticks": ""
             }
            },
            "type": "scattercarpet"
           }
          ],
          "scattergeo": [
           {
            "marker": {
             "colorbar": {
              "outlinewidth": 0,
              "ticks": ""
             }
            },
            "type": "scattergeo"
           }
          ],
          "scattergl": [
           {
            "marker": {
             "colorbar": {
              "outlinewidth": 0,
              "ticks": ""
             }
            },
            "type": "scattergl"
           }
          ],
          "scattermap": [
           {
            "marker": {
             "colorbar": {
              "outlinewidth": 0,
              "ticks": ""
             }
            },
            "type": "scattermap"
           }
          ],
          "scattermapbox": [
           {
            "marker": {
             "colorbar": {
              "outlinewidth": 0,
              "ticks": ""
             }
            },
            "type": "scattermapbox"
           }
          ],
          "scatterpolar": [
           {
            "marker": {
             "colorbar": {
              "outlinewidth": 0,
              "ticks": ""
             }
            },
            "type": "scatterpolar"
           }
          ],
          "scatterpolargl": [
           {
            "marker": {
             "colorbar": {
              "outlinewidth": 0,
              "ticks": ""
             }
            },
            "type": "scatterpolargl"
           }
          ],
          "scatterternary": [
           {
            "marker": {
             "colorbar": {
              "outlinewidth": 0,
              "ticks": ""
             }
            },
            "type": "scatterternary"
           }
          ],
          "surface": [
           {
            "colorbar": {
             "outlinewidth": 0,
             "ticks": ""
            },
            "colorscale": [
             [
              0,
              "#0d0887"
             ],
             [
              0.1111111111111111,
              "#46039f"
             ],
             [
              0.2222222222222222,
              "#7201a8"
             ],
             [
              0.3333333333333333,
              "#9c179e"
             ],
             [
              0.4444444444444444,
              "#bd3786"
             ],
             [
              0.5555555555555556,
              "#d8576b"
             ],
             [
              0.6666666666666666,
              "#ed7953"
             ],
             [
              0.7777777777777778,
              "#fb9f3a"
             ],
             [
              0.8888888888888888,
              "#fdca26"
             ],
             [
              1,
              "#f0f921"
             ]
            ],
            "type": "surface"
           }
          ],
          "table": [
           {
            "cells": {
             "fill": {
              "color": "#EBF0F8"
             },
             "line": {
              "color": "white"
             }
            },
            "header": {
             "fill": {
              "color": "#C8D4E3"
             },
             "line": {
              "color": "white"
             }
            },
            "type": "table"
           }
          ]
         },
         "layout": {
          "annotationdefaults": {
           "arrowcolor": "#2a3f5f",
           "arrowhead": 0,
           "arrowwidth": 1
          },
          "autotypenumbers": "strict",
          "coloraxis": {
           "colorbar": {
            "outlinewidth": 0,
            "ticks": ""
           }
          },
          "colorscale": {
           "diverging": [
            [
             0,
             "#8e0152"
            ],
            [
             0.1,
             "#c51b7d"
            ],
            [
             0.2,
             "#de77ae"
            ],
            [
             0.3,
             "#f1b6da"
            ],
            [
             0.4,
             "#fde0ef"
            ],
            [
             0.5,
             "#f7f7f7"
            ],
            [
             0.6,
             "#e6f5d0"
            ],
            [
             0.7,
             "#b8e186"
            ],
            [
             0.8,
             "#7fbc41"
            ],
            [
             0.9,
             "#4d9221"
            ],
            [
             1,
             "#276419"
            ]
           ],
           "sequential": [
            [
             0,
             "#0d0887"
            ],
            [
             0.1111111111111111,
             "#46039f"
            ],
            [
             0.2222222222222222,
             "#7201a8"
            ],
            [
             0.3333333333333333,
             "#9c179e"
            ],
            [
             0.4444444444444444,
             "#bd3786"
            ],
            [
             0.5555555555555556,
             "#d8576b"
            ],
            [
             0.6666666666666666,
             "#ed7953"
            ],
            [
             0.7777777777777778,
             "#fb9f3a"
            ],
            [
             0.8888888888888888,
             "#fdca26"
            ],
            [
             1,
             "#f0f921"
            ]
           ],
           "sequentialminus": [
            [
             0,
             "#0d0887"
            ],
            [
             0.1111111111111111,
             "#46039f"
            ],
            [
             0.2222222222222222,
             "#7201a8"
            ],
            [
             0.3333333333333333,
             "#9c179e"
            ],
            [
             0.4444444444444444,
             "#bd3786"
            ],
            [
             0.5555555555555556,
             "#d8576b"
            ],
            [
             0.6666666666666666,
             "#ed7953"
            ],
            [
             0.7777777777777778,
             "#fb9f3a"
            ],
            [
             0.8888888888888888,
             "#fdca26"
            ],
            [
             1,
             "#f0f921"
            ]
           ]
          },
          "colorway": [
           "#636efa",
           "#EF553B",
           "#00cc96",
           "#ab63fa",
           "#FFA15A",
           "#19d3f3",
           "#FF6692",
           "#B6E880",
           "#FF97FF",
           "#FECB52"
          ],
          "font": {
           "color": "#2a3f5f"
          },
          "geo": {
           "bgcolor": "white",
           "lakecolor": "white",
           "landcolor": "white",
           "showlakes": true,
           "showland": true,
           "subunitcolor": "#C8D4E3"
          },
          "hoverlabel": {
           "align": "left"
          },
          "hovermode": "closest",
          "mapbox": {
           "style": "light"
          },
          "paper_bgcolor": "white",
          "plot_bgcolor": "white",
          "polar": {
           "angularaxis": {
            "gridcolor": "#EBF0F8",
            "linecolor": "#EBF0F8",
            "ticks": ""
           },
           "bgcolor": "white",
           "radialaxis": {
            "gridcolor": "#EBF0F8",
            "linecolor": "#EBF0F8",
            "ticks": ""
           }
          },
          "scene": {
           "xaxis": {
            "backgroundcolor": "white",
            "gridcolor": "#DFE8F3",
            "gridwidth": 2,
            "linecolor": "#EBF0F8",
            "showbackground": true,
            "ticks": "",
            "zerolinecolor": "#EBF0F8"
           },
           "yaxis": {
            "backgroundcolor": "white",
            "gridcolor": "#DFE8F3",
            "gridwidth": 2,
            "linecolor": "#EBF0F8",
            "showbackground": true,
            "ticks": "",
            "zerolinecolor": "#EBF0F8"
           },
           "zaxis": {
            "backgroundcolor": "white",
            "gridcolor": "#DFE8F3",
            "gridwidth": 2,
            "linecolor": "#EBF0F8",
            "showbackground": true,
            "ticks": "",
            "zerolinecolor": "#EBF0F8"
           }
          },
          "shapedefaults": {
           "line": {
            "color": "#2a3f5f"
           }
          },
          "ternary": {
           "aaxis": {
            "gridcolor": "#DFE8F3",
            "linecolor": "#A2B1C6",
            "ticks": ""
           },
           "baxis": {
            "gridcolor": "#DFE8F3",
            "linecolor": "#A2B1C6",
            "ticks": ""
           },
           "bgcolor": "white",
           "caxis": {
            "gridcolor": "#DFE8F3",
            "linecolor": "#A2B1C6",
            "ticks": ""
           }
          },
          "title": {
           "x": 0.05
          },
          "xaxis": {
           "automargin": true,
           "gridcolor": "#EBF0F8",
           "linecolor": "#EBF0F8",
           "ticks": "",
           "title": {
            "standoff": 15
           },
           "zerolinecolor": "#EBF0F8",
           "zerolinewidth": 2
          },
          "yaxis": {
           "automargin": true,
           "gridcolor": "#EBF0F8",
           "linecolor": "#EBF0F8",
           "ticks": "",
           "title": {
            "standoff": 15
           },
           "zerolinecolor": "#EBF0F8",
           "zerolinewidth": 2
          }
         }
        },
        "title": {
         "text": "Bakersfield vs California – Median Income Comparison"
        },
        "xaxis": {
         "autorange": true,
         "range": [
          -0.5,
          0.5
         ],
         "type": "category"
        },
        "yaxis": {
         "range": [
          0,
          100000
         ],
         "title": {
          "text": "Income ($)"
         },
         "type": "linear"
        }
       }
      }
     },
     "metadata": {},
     "output_type": "display_data"
    }
   ],
   "source": [
    "labels_income = ['Median Household Income ($)']\n",
    "bakersfield_income = [round(income, 0)]\n",
    "state_income = [round(state_mean['median_income'], 0)]\n",
    "\n",
    "fig_bar_income = go.Figure(data=[\n",
    "    go.Bar(name='Bakersfield', x=labels_income, y=bakersfield_income,\n",
    "           marker_color='indianred',\n",
    "           text=[f\"${v/1000:.1f}k\" for v in bakersfield_income], textposition='outside'),\n",
    "    go.Bar(name='California Avg', x=labels_income, y=state_income,\n",
    "           marker_color='lightblue',\n",
    "           text=[f\"${v/1000:.1f}k\" for v in state_income], textposition='outside')\n",
    "])\n",
    "\n",
    "fig_bar_income.update_layout(\n",
    "    barmode='group',\n",
    "    title=\"Bakersfield vs California – Median Income Comparison\",\n",
    "    yaxis_title=\"Income ($)\",\n",
    "    yaxis=dict(range=[0, 100000]),\n",
    "    template=\"plotly_white\",\n",
    "    height=350\n",
    ")\n",
    "fig_bar_income.show()\n"
   ]
  },
  {
   "cell_type": "code",
   "execution_count": 11,
   "id": "887f6e49-0cdb-441c-8123-dd70ae6f431e",
   "metadata": {},
   "outputs": [
    {
     "data": {
      "application/vnd.plotly.v1+json": {
       "config": {
        "plotlyServerURL": "https://plot.ly"
       },
       "data": [
        {
         "marker": {
          "color": "indianred"
         },
         "name": "Bakersfield",
         "text": [
          "71.68%"
         ],
         "textposition": "outside",
         "type": "bar",
         "x": [
          "Students Eligible for Free/Reduced Lunch (%)"
         ],
         "y": [
          71.68
         ]
        },
        {
         "marker": {
          "color": "lightblue"
         },
         "name": "California Avg",
         "text": [
          "60.01%"
         ],
         "textposition": "outside",
         "type": "bar",
         "x": [
          "Students Eligible for Free/Reduced Lunch (%)"
         ],
         "y": [
          60.01
         ]
        }
       ],
       "layout": {
        "autosize": true,
        "barmode": "group",
        "template": {
         "data": {
          "bar": [
           {
            "error_x": {
             "color": "#2a3f5f"
            },
            "error_y": {
             "color": "#2a3f5f"
            },
            "marker": {
             "line": {
              "color": "white",
              "width": 0.5
             },
             "pattern": {
              "fillmode": "overlay",
              "size": 10,
              "solidity": 0.2
             }
            },
            "type": "bar"
           }
          ],
          "barpolar": [
           {
            "marker": {
             "line": {
              "color": "white",
              "width": 0.5
             },
             "pattern": {
              "fillmode": "overlay",
              "size": 10,
              "solidity": 0.2
             }
            },
            "type": "barpolar"
           }
          ],
          "carpet": [
           {
            "aaxis": {
             "endlinecolor": "#2a3f5f",
             "gridcolor": "#C8D4E3",
             "linecolor": "#C8D4E3",
             "minorgridcolor": "#C8D4E3",
             "startlinecolor": "#2a3f5f"
            },
            "baxis": {
             "endlinecolor": "#2a3f5f",
             "gridcolor": "#C8D4E3",
             "linecolor": "#C8D4E3",
             "minorgridcolor": "#C8D4E3",
             "startlinecolor": "#2a3f5f"
            },
            "type": "carpet"
           }
          ],
          "choropleth": [
           {
            "colorbar": {
             "outlinewidth": 0,
             "ticks": ""
            },
            "type": "choropleth"
           }
          ],
          "contour": [
           {
            "colorbar": {
             "outlinewidth": 0,
             "ticks": ""
            },
            "colorscale": [
             [
              0,
              "#0d0887"
             ],
             [
              0.1111111111111111,
              "#46039f"
             ],
             [
              0.2222222222222222,
              "#7201a8"
             ],
             [
              0.3333333333333333,
              "#9c179e"
             ],
             [
              0.4444444444444444,
              "#bd3786"
             ],
             [
              0.5555555555555556,
              "#d8576b"
             ],
             [
              0.6666666666666666,
              "#ed7953"
             ],
             [
              0.7777777777777778,
              "#fb9f3a"
             ],
             [
              0.8888888888888888,
              "#fdca26"
             ],
             [
              1,
              "#f0f921"
             ]
            ],
            "type": "contour"
           }
          ],
          "contourcarpet": [
           {
            "colorbar": {
             "outlinewidth": 0,
             "ticks": ""
            },
            "type": "contourcarpet"
           }
          ],
          "heatmap": [
           {
            "colorbar": {
             "outlinewidth": 0,
             "ticks": ""
            },
            "colorscale": [
             [
              0,
              "#0d0887"
             ],
             [
              0.1111111111111111,
              "#46039f"
             ],
             [
              0.2222222222222222,
              "#7201a8"
             ],
             [
              0.3333333333333333,
              "#9c179e"
             ],
             [
              0.4444444444444444,
              "#bd3786"
             ],
             [
              0.5555555555555556,
              "#d8576b"
             ],
             [
              0.6666666666666666,
              "#ed7953"
             ],
             [
              0.7777777777777778,
              "#fb9f3a"
             ],
             [
              0.8888888888888888,
              "#fdca26"
             ],
             [
              1,
              "#f0f921"
             ]
            ],
            "type": "heatmap"
           }
          ],
          "histogram": [
           {
            "marker": {
             "pattern": {
              "fillmode": "overlay",
              "size": 10,
              "solidity": 0.2
             }
            },
            "type": "histogram"
           }
          ],
          "histogram2d": [
           {
            "colorbar": {
             "outlinewidth": 0,
             "ticks": ""
            },
            "colorscale": [
             [
              0,
              "#0d0887"
             ],
             [
              0.1111111111111111,
              "#46039f"
             ],
             [
              0.2222222222222222,
              "#7201a8"
             ],
             [
              0.3333333333333333,
              "#9c179e"
             ],
             [
              0.4444444444444444,
              "#bd3786"
             ],
             [
              0.5555555555555556,
              "#d8576b"
             ],
             [
              0.6666666666666666,
              "#ed7953"
             ],
             [
              0.7777777777777778,
              "#fb9f3a"
             ],
             [
              0.8888888888888888,
              "#fdca26"
             ],
             [
              1,
              "#f0f921"
             ]
            ],
            "type": "histogram2d"
           }
          ],
          "histogram2dcontour": [
           {
            "colorbar": {
             "outlinewidth": 0,
             "ticks": ""
            },
            "colorscale": [
             [
              0,
              "#0d0887"
             ],
             [
              0.1111111111111111,
              "#46039f"
             ],
             [
              0.2222222222222222,
              "#7201a8"
             ],
             [
              0.3333333333333333,
              "#9c179e"
             ],
             [
              0.4444444444444444,
              "#bd3786"
             ],
             [
              0.5555555555555556,
              "#d8576b"
             ],
             [
              0.6666666666666666,
              "#ed7953"
             ],
             [
              0.7777777777777778,
              "#fb9f3a"
             ],
             [
              0.8888888888888888,
              "#fdca26"
             ],
             [
              1,
              "#f0f921"
             ]
            ],
            "type": "histogram2dcontour"
           }
          ],
          "mesh3d": [
           {
            "colorbar": {
             "outlinewidth": 0,
             "ticks": ""
            },
            "type": "mesh3d"
           }
          ],
          "parcoords": [
           {
            "line": {
             "colorbar": {
              "outlinewidth": 0,
              "ticks": ""
             }
            },
            "type": "parcoords"
           }
          ],
          "pie": [
           {
            "automargin": true,
            "type": "pie"
           }
          ],
          "scatter": [
           {
            "fillpattern": {
             "fillmode": "overlay",
             "size": 10,
             "solidity": 0.2
            },
            "type": "scatter"
           }
          ],
          "scatter3d": [
           {
            "line": {
             "colorbar": {
              "outlinewidth": 0,
              "ticks": ""
             }
            },
            "marker": {
             "colorbar": {
              "outlinewidth": 0,
              "ticks": ""
             }
            },
            "type": "scatter3d"
           }
          ],
          "scattercarpet": [
           {
            "marker": {
             "colorbar": {
              "outlinewidth": 0,
              "ticks": ""
             }
            },
            "type": "scattercarpet"
           }
          ],
          "scattergeo": [
           {
            "marker": {
             "colorbar": {
              "outlinewidth": 0,
              "ticks": ""
             }
            },
            "type": "scattergeo"
           }
          ],
          "scattergl": [
           {
            "marker": {
             "colorbar": {
              "outlinewidth": 0,
              "ticks": ""
             }
            },
            "type": "scattergl"
           }
          ],
          "scattermap": [
           {
            "marker": {
             "colorbar": {
              "outlinewidth": 0,
              "ticks": ""
             }
            },
            "type": "scattermap"
           }
          ],
          "scattermapbox": [
           {
            "marker": {
             "colorbar": {
              "outlinewidth": 0,
              "ticks": ""
             }
            },
            "type": "scattermapbox"
           }
          ],
          "scatterpolar": [
           {
            "marker": {
             "colorbar": {
              "outlinewidth": 0,
              "ticks": ""
             }
            },
            "type": "scatterpolar"
           }
          ],
          "scatterpolargl": [
           {
            "marker": {
             "colorbar": {
              "outlinewidth": 0,
              "ticks": ""
             }
            },
            "type": "scatterpolargl"
           }
          ],
          "scatterternary": [
           {
            "marker": {
             "colorbar": {
              "outlinewidth": 0,
              "ticks": ""
             }
            },
            "type": "scatterternary"
           }
          ],
          "surface": [
           {
            "colorbar": {
             "outlinewidth": 0,
             "ticks": ""
            },
            "colorscale": [
             [
              0,
              "#0d0887"
             ],
             [
              0.1111111111111111,
              "#46039f"
             ],
             [
              0.2222222222222222,
              "#7201a8"
             ],
             [
              0.3333333333333333,
              "#9c179e"
             ],
             [
              0.4444444444444444,
              "#bd3786"
             ],
             [
              0.5555555555555556,
              "#d8576b"
             ],
             [
              0.6666666666666666,
              "#ed7953"
             ],
             [
              0.7777777777777778,
              "#fb9f3a"
             ],
             [
              0.8888888888888888,
              "#fdca26"
             ],
             [
              1,
              "#f0f921"
             ]
            ],
            "type": "surface"
           }
          ],
          "table": [
           {
            "cells": {
             "fill": {
              "color": "#EBF0F8"
             },
             "line": {
              "color": "white"
             }
            },
            "header": {
             "fill": {
              "color": "#C8D4E3"
             },
             "line": {
              "color": "white"
             }
            },
            "type": "table"
           }
          ]
         },
         "layout": {
          "annotationdefaults": {
           "arrowcolor": "#2a3f5f",
           "arrowhead": 0,
           "arrowwidth": 1
          },
          "autotypenumbers": "strict",
          "coloraxis": {
           "colorbar": {
            "outlinewidth": 0,
            "ticks": ""
           }
          },
          "colorscale": {
           "diverging": [
            [
             0,
             "#8e0152"
            ],
            [
             0.1,
             "#c51b7d"
            ],
            [
             0.2,
             "#de77ae"
            ],
            [
             0.3,
             "#f1b6da"
            ],
            [
             0.4,
             "#fde0ef"
            ],
            [
             0.5,
             "#f7f7f7"
            ],
            [
             0.6,
             "#e6f5d0"
            ],
            [
             0.7,
             "#b8e186"
            ],
            [
             0.8,
             "#7fbc41"
            ],
            [
             0.9,
             "#4d9221"
            ],
            [
             1,
             "#276419"
            ]
           ],
           "sequential": [
            [
             0,
             "#0d0887"
            ],
            [
             0.1111111111111111,
             "#46039f"
            ],
            [
             0.2222222222222222,
             "#7201a8"
            ],
            [
             0.3333333333333333,
             "#9c179e"
            ],
            [
             0.4444444444444444,
             "#bd3786"
            ],
            [
             0.5555555555555556,
             "#d8576b"
            ],
            [
             0.6666666666666666,
             "#ed7953"
            ],
            [
             0.7777777777777778,
             "#fb9f3a"
            ],
            [
             0.8888888888888888,
             "#fdca26"
            ],
            [
             1,
             "#f0f921"
            ]
           ],
           "sequentialminus": [
            [
             0,
             "#0d0887"
            ],
            [
             0.1111111111111111,
             "#46039f"
            ],
            [
             0.2222222222222222,
             "#7201a8"
            ],
            [
             0.3333333333333333,
             "#9c179e"
            ],
            [
             0.4444444444444444,
             "#bd3786"
            ],
            [
             0.5555555555555556,
             "#d8576b"
            ],
            [
             0.6666666666666666,
             "#ed7953"
            ],
            [
             0.7777777777777778,
             "#fb9f3a"
            ],
            [
             0.8888888888888888,
             "#fdca26"
            ],
            [
             1,
             "#f0f921"
            ]
           ]
          },
          "colorway": [
           "#636efa",
           "#EF553B",
           "#00cc96",
           "#ab63fa",
           "#FFA15A",
           "#19d3f3",
           "#FF6692",
           "#B6E880",
           "#FF97FF",
           "#FECB52"
          ],
          "font": {
           "color": "#2a3f5f"
          },
          "geo": {
           "bgcolor": "white",
           "lakecolor": "white",
           "landcolor": "white",
           "showlakes": true,
           "showland": true,
           "subunitcolor": "#C8D4E3"
          },
          "hoverlabel": {
           "align": "left"
          },
          "hovermode": "closest",
          "mapbox": {
           "style": "light"
          },
          "paper_bgcolor": "white",
          "plot_bgcolor": "white",
          "polar": {
           "angularaxis": {
            "gridcolor": "#EBF0F8",
            "linecolor": "#EBF0F8",
            "ticks": ""
           },
           "bgcolor": "white",
           "radialaxis": {
            "gridcolor": "#EBF0F8",
            "linecolor": "#EBF0F8",
            "ticks": ""
           }
          },
          "scene": {
           "xaxis": {
            "backgroundcolor": "white",
            "gridcolor": "#DFE8F3",
            "gridwidth": 2,
            "linecolor": "#EBF0F8",
            "showbackground": true,
            "ticks": "",
            "zerolinecolor": "#EBF0F8"
           },
           "yaxis": {
            "backgroundcolor": "white",
            "gridcolor": "#DFE8F3",
            "gridwidth": 2,
            "linecolor": "#EBF0F8",
            "showbackground": true,
            "ticks": "",
            "zerolinecolor": "#EBF0F8"
           },
           "zaxis": {
            "backgroundcolor": "white",
            "gridcolor": "#DFE8F3",
            "gridwidth": 2,
            "linecolor": "#EBF0F8",
            "showbackground": true,
            "ticks": "",
            "zerolinecolor": "#EBF0F8"
           }
          },
          "shapedefaults": {
           "line": {
            "color": "#2a3f5f"
           }
          },
          "ternary": {
           "aaxis": {
            "gridcolor": "#DFE8F3",
            "linecolor": "#A2B1C6",
            "ticks": ""
           },
           "baxis": {
            "gridcolor": "#DFE8F3",
            "linecolor": "#A2B1C6",
            "ticks": ""
           },
           "bgcolor": "white",
           "caxis": {
            "gridcolor": "#DFE8F3",
            "linecolor": "#A2B1C6",
            "ticks": ""
           }
          },
          "title": {
           "x": 0.05
          },
          "xaxis": {
           "automargin": true,
           "gridcolor": "#EBF0F8",
           "linecolor": "#EBF0F8",
           "ticks": "",
           "title": {
            "standoff": 15
           },
           "zerolinecolor": "#EBF0F8",
           "zerolinewidth": 2
          },
          "yaxis": {
           "automargin": true,
           "gridcolor": "#EBF0F8",
           "linecolor": "#EBF0F8",
           "ticks": "",
           "title": {
            "standoff": 15
           },
           "zerolinecolor": "#EBF0F8",
           "zerolinewidth": 2
          }
         }
        },
        "title": {
         "text": "🍽️ Bakersfield vs California – Student Economic Vulnerability"
        },
        "xaxis": {
         "autorange": true,
         "range": [
          -0.5,
          0.5
         ],
         "type": "category"
        },
        "yaxis": {
         "range": [
          0,
          100
         ],
         "title": {
          "text": "% of Students Eligible for Free/Reduced Lunch"
         },
         "type": "linear"
        }
       }
      }
     },
     "metadata": {},
     "output_type": "display_data"
    }
   ],
   "source": [
    "labels_free = ['Students Eligible for Free/Reduced Lunch (%)']\n",
    "\n",
    "bakersfield_free = [round(free_lunch, 2)]\n",
    "state_free = [round(state_mean['free_lunch_pct'], 2)]\n",
    "\n",
    "fig_bar_free = go.Figure(data=[\n",
    "    go.Bar(name='Bakersfield', x=labels_free, y=bakersfield_free,\n",
    "           marker_color='indianred',\n",
    "           text=[f\"{v:.2f}%\" for v in bakersfield_free],\n",
    "           textposition='outside'),\n",
    "    go.Bar(name='California Avg', x=labels_free, y=state_free,\n",
    "           marker_color='lightblue',\n",
    "           text=[f\"{v:.2f}%\" for v in state_free],\n",
    "           textposition='outside')\n",
    "])\n",
    "\n",
    "fig_bar_free.update_layout(\n",
    "    barmode='group',\n",
    "    title=\"🍽️ Bakersfield vs California – Student Economic Vulnerability\",\n",
    "    yaxis_title=\"% of Students Eligible for Free/Reduced Lunch\",\n",
    "    yaxis=dict(range=[0, 100]),  # percentage scale\n",
    "    template=\"plotly_white\",\n",
    "    height=380,\n",
    ")\n",
    "\n",
    "fig_bar_free.show()"
   ]
  },
  {
   "cell_type": "code",
   "execution_count": 12,
   "id": "2efde61b-04d9-41e0-b913-ad4df899aa85",
   "metadata": {},
   "outputs": [
    {
     "data": {
      "application/vnd.plotly.v1+json": {
       "config": {
        "plotlyServerURL": "https://plot.ly"
       },
       "data": [
        {
         "hovertemplate": "<b>%{text}</b><br>PM2.5: %{x:.1f}<br>Adoption: %{y:.1f}%<extra></extra>",
         "marker": {
          "color": "skyblue",
          "opacity": 0.5,
          "size": 7
         },
         "mode": "markers",
         "name": "Other Districts",
         "text": [
          "Adelanto Elementary",
          "Alameda Unified",
          "Alhambra Unified",
          "Alisal Union",
          "Almond Acres Charter Academy District",
          "Alpine County Unified",
          "Amador County Unified",
          "Anaheim Elementary",
          "Anaheim Union High",
          "Antelope Valley Schools Transportation Agency",
          "Antioch Unified",
          "Apple Valley Unified",
          "Arcadia Unified",
          "Arcata Elementary",
          "Arcohe Union Elementary",
          "Acton-Agua Dulce Unified",
          "California School for the Blind (State Special Schl)",
          "California School for the Deaf-Fremont (State Special Schl)",
          "Ross Valley Elementary",
          "CA Sch for the Deaf-Riverside (State Special Schl)",
          "Cuyama Joint Unified",
          "Fort Sage Unified",
          "Twin Ridges Elementary",
          "Aromas - San Juan Unified",
          "Upland Unified",
          "Mountain Valley Unified",
          "Dublin Unified",
          "Pleasanton Unified",
          "Sunol Glen Unified",
          "Mendota Unified",
          "Manhattan Beach Unified",
          "El Tejon Unified",
          "Lake Elsinore Unified",
          "Temecula Valley Unified",
          "Big Sur Unified",
          "Redondo Beach Unified",
          "Dos Palos Oro Loma Joint Unified",
          "Windsor Unified",
          "Farmersville Unified",
          "Mattole Unified",
          "Delhi Unified",
          "Riverdale Joint Unified",
          "Scotts Valley Unified",
          "Atascadero Unified",
          "Orland Joint Unified",
          "Tracy Joint Unified",
          "Coast Unified",
          "Atwater Elementary",
          "Riverbank Unified",
          "Oakdale Joint Unified",
          "Waterford Unified",
          "Dinuba Unified",
          "Golden Valley Unified",
          "Kern County ROP",
          "Kern High ROC",
          "Kings County ROP",
          "Lassen ROP",
          "Napa County ROP",
          "Modoc County ROP",
          "Forty-Niner ROP",
          "Plumas County ROP",
          "Tri-Valley ROP",
          "Eden Area ROP",
          "Mission Valley ROC/P",
          "Amador County ROP",
          "Butte County ROP",
          "Contra Costa County ROP",
          "Del Norte County ROP",
          "Riverside County Office Of Education ROP",
          "Sacramento County ROP",
          "Central Sierra ROP",
          "Valley ROP",
          "Fresno ROP",
          "Glenn County ROP",
          "Humboldt County ROP",
          "Imperial Valley ROP",
          "San Gabriel Valley Regional Occupational Program",
          "Tri-Cities ROP",
          "Southern California ROC",
          "Long Beach Unified ROP",
          "Los Angeles Unified ROCP",
          "Los Angeles County ROP",
          "Hart ROP",
          "Antelope Valley ROP",
          "Compton Unified ROP",
          "San Antonio ROP",
          "Marin County ROP",
          "Mendocino County ROC/ROP",
          "Merced County ROP",
          "Mission Trails ROP",
          "North Orange County ROP-Adult",
          "College and Career Advantage",
          "Coastline ROP",
          "Central Orange County CTE Partnership (CTEp)",
          "Shasta-Trinity ROP",
          "WIlliam (R) Rouse ROP",
          "Siskiyou ROP",
          "Sonoma County ROP",
          "Colton-Redlands-Yucaipa ROP",
          "Baldy View ROP",
          "San Bernardino County ROP",
          "Santa Barbara County ROP",
          "Metro Education",
          "Santa Clara County ROP",
          "San Diego County ROP",
          "San Francisco County ROP",
          "San Joaquin County ROP",
          "Santa Cruz County ROP",
          "Yosemite ROP",
          "Tri-County ROP",
          "Tehama County ROP",
          "Ventura County ROP",
          "Yolo County ROP",
          "Mono County ROC/P",
          "Turlock Unified",
          "Scott Valley Unified",
          "Arena Union Elementary/Point Arena Joint Union High",
          "Petaluma City Elementary/Joint Union High",
          "Santa Rosa City Schools",
          "Aveson School of Leaders District",
          "Hamilton Unified",
          "North County Regional Occupational Center/Program (ROC/P)",
          "Tri-Cities ROP",
          "College and Career Advantage ROP JPA",
          "Contra Costa Selpa",
          "BLP Schs Self-Inc. Workers Compensation",
          "Center for Advanced Research & Tech (CART) JPA",
          "Central California School Finance Authority JPA",
          "Ventura County Schools Business Services JPA",
          "Alameda Cnty. Student Exchange Prog.",
          "San Gabriel Valley Regional Occupational Program",
          "Coastline ROP JPA",
          "North Santa Cruz County Selpa",
          "Santa Clarita Vlly Sch Food Svs Agency JPA",
          "Central Valley Support Services JPA",
          "Baldwin Park Unified",
          "North Orange County ROP JPA",
          "School Project Utility Rate Reduction",
          "N. Co Regional Occupational Program JPA",
          "San Antonio ROP",
          "South County Support Services Agency",
          "San Joaquin Data Processing JPA",
          "Silicon Valley Joint Powers Transportation Agency",
          "Pupil Transportation Co-Op JPA",
          "Colton-Redlands-Yucaipa ROP JPA",
          "Central Calif Migrant Head Start JPA",
          "Partners In Nutrition Cooperative",
          "Central Valley Pre-School JPA",
          "Nevada County Pupil Transportation",
          "Eden Area ROP JPA",
          "East Valley School Transportation JPA",
          "Baldy View ROP JPA",
          "West County Transportation JPA",
          "Kings Schools Transportation Authority JPA",
          "Mission Trails ROP JPA",
          "Southern California ROP",
          "Valley ROP JPA",
          "Tri-Valley ROP JPA",
          "West Valley Schools Transportation Agency JPA",
          "Southern Placer Schools Transportation Authority",
          "East Merced County Public Facilities Financing Authority",
          "Mission Valley ROC/P",
          "Metropolitan Education",
          "Central Sierra ROP JPA",
          "Mid-Placer Transportation JPA",
          "Shasta-Trinity ROP JPA",
          "Santa Barbara County Selpa JPA",
          "Imperial Valley ROP JPA",
          "Marin Pupil Transportation Agency JPA",
          "Lammersville Joint Unified",
          "Washington Unified",
          "Greater Anaheim SELPA JPA",
          "Nevada Co Charter Services Authority (JPA)",
          "Woodlake Unified",
          "Fortuna Elementary",
          "Santa Paula Unified",
          "California Education Authority (CEA) Headquarters",
          "Inyo County Career Technical Education",
          "Bonsall Unified",
          "Penn Valley Union Elementary",
          "Wiseburn Unified",
          "CA Advancing Pathways for Students in Los Angeles Co ROC/P",
          "Upper Lake Unified",
          "CA Advancing Pathways for Students in Los Angeles Co JPA",
          "Magnolia Science Academy Santa Ana District",
          "River Valley Charter District",
          "Vista Springs Charter District",
          "Community Montessori District",
          "Oakland Charter High District",
          "Girls Athletic Leadership School Los Angeles District",
          "Pacific Community Charter District",
          "America's Finest Charter District",
          "Sycamore Valley Academy District",
          "Crete Academy District",
          "Accelerated Charter Elementary District",
          "Ocean Grove Charter District",
          "Classical Academy Vista District",
          "B. Roberto Cruz Leadership Academy District",
          "Pathways to College K8 District",
          "New Heights Charter District",
          "Meadows Arts and Technology Elementary District",
          "American Indian Public Charter District",
          "Sol Aureus College Preparatory District",
          "SOAR Charter Academy District",
          "SD Global Vision Academy District",
          "PUC Triumph CHRTR Academy & PUC Triumph CHRTR High District",
          "Crescent Valley Public Charter II District",
          "Palm Lane Elementary Charter District",
          "Mojave River Academy - Route 66 District",
          "The Heights Charter District",
          "CHIME Institute's Schwarzenegger Community District",
          "Downtown Charter Academy District",
          "Los Angeles Leadership Academy District",
          "Wilder's Preparatory Academy Charter Middle District",
          "Aspire Triumph Technology Academy District",
          "Willits Elementary Charter District",
          "KIPP Bayview Elementary District",
          "Sierra Expeditionary Learning District",
          "Options for Youth-Acton District",
          "Olive Grove Charter - Buellton District",
          "Making Waves Academy District",
          "Elevate District",
          "Da Vinci Communications District",
          "ISANA Himalia Academy District",
          "Valley Life Charter District",
          "Sweetwater Secondary District",
          "Creekside Charter District",
          "Sutter Peak Charter Academy District",
          "Peabody Charter District",
          "Latitude 37.8 High District",
          "High Tech High Media Arts District",
          "Harbor Springs Charter District",
          "Compass Charter Schools of San Diego District",
          "EPIC CHRTR(Excellence Perf Innovation Citzenship) DIST",
          "Howard Gardner Community Charter District",
          "All Tribes Elementary Charter District",
          "Audeo Charter District",
          "Encore Jr./Sr. High Sch for the Perf & Visual Arts District",
          "Aspire Titan Academy District",
          "Monsenor Oscar Romero Charter Middle District",
          "Iftin Charter District",
          "Insight @ San Diego District",
          "Valor Academy Elementary District",
          "PUC Community Charter Elementary District",
          "California Heritage Youthbuild Academy II District",
          "Bright Star Secondary Charter Academy District",
          "Ingenuity Charter District",
          "Los Angeles Academy of Arts and Enterprise District",
          "Intellectual Virtues Academy District",
          "Rocketship Si Se Puede Academy District",
          "Pacific View Charter District",
          "Multicultural Learning Center District",
          "Environmental Charter Middle - Inglewood District",
          "ISANA Palmati Academy District",
          "Alliance Kory Hunter Middle District",
          "New Designs Charter School-Watts District",
          "KIPP Comienza Community Prep District",
          "Keiller Leadership Academy District",
          "Aspire Richmond Technology Academy District",
          "New Designs Charter District",
          "Pivot Charter School North Valley II District",
          "Los Feliz Charter School for the Arts District",
          "Urban Discovery Academy Charter District",
          "Aspire Golden State College Preparatory Academy District",
          "Aspire Centennial College Preparatory Academy District",
          "Inspire School of Arts and Sciences District",
          "Glacier High School Charter District",
          "Uncharted Shores Academy District",
          "Aspire Junior Collegiate Academy District",
          "Norton Science and Language Academy District",
          "Lake County International Charter District",
          "Classical Academy District",
          "ACE Charter High District",
          "Mission View Public District",
          "Sherman Thomas Charter High District",
          "North Valley Military INST College ACAD District",
          "Nova Academy Early College High District",
          "International School of Monterey District",
          "Alliance Ted K. Tajima High District",
          "WISH Academy High District",
          "Monterey Bay Charter District",
          "New Village Girls Academy District",
          "Watts Learning Center District",
          "TEACH Prep Mildred S. Cunningham & Edith H. Morris Elem DIST",
          "KIPP Adelante Preparatory Academy District",
          "Mojave River Academy - Silver Mountain District",
          "Mueller Charter (Robert L.) District",
          "Opportunities for Learning - Santa Clarita District",
          "CHAMPS - Charter HS of Arts-Multimedia & Performing District",
          "Laurel Tree Charter District",
          "Caliber: ChangeMakers Academy District",
          "PUC Lakeview Charter Academy District",
          "King-Chavez Academy of Excellence District",
          "Valley Charter Elementary District",
          "Golden Valley Orchard District",
          "Edison-Bethune Charter Academy District",
          "Alliance College-Ready Middle Academy 8 District",
          "Heartland Charter District",
          "Discovery Charter District",
          "JCS - Pine Hills District",
          "Clear Passage Educational Center District",
          "Santa Monica Boulevard Community Charter District",
          "Redding STEM Academy District",
          "Birmingham Community Charter High District",
          "Downtown College Preparatory District",
          "Aspire Capitol Heights Academy District",
          "ISANA Nascent Academy District",
          "Scholarship Prep - Oceanside District",
          "Mojave River Academy - Gold Canyon District",
          "Piner-Olivet Charter District",
          "Oasis Charter Public District",
          "Aspire East Palo Alto Charter District",
          "Family First Charter District",
          "Northern United - Siskiyou Charter District",
          "Summit Leadership Academy-High Desert District",
          "Sierra Charter District",
          "Redwood Academy of Ukiah District",
          "Orange County Workforce Innovation High District",
          "LA's Promise Charter High #1 District",
          "Fenton STEM Acad: Elem CTR for Sci Tech Engr & Math District",
          "Envision Academy for Arts & Technology District",
          "California Virtual Academy at Fresno District",
          "Lennox Mathematics Science and Technology Academy District",
          "KIPP Heartwood Academy District",
          "ABC Unified",
          "Rocketship Discovery Prep District",
          "High Tech Middle North County District",
          "Animo Legacy Charter Middle District",
          "Alta Vista Innovation High District",
          "KIPP San Francisco Bay Academy District",
          "Innovations Academy District",
          "Humphreys College Academy of Business Law and ED District",
          "Community Collaborative Virtual - Sage Oak Charter District",
          "Magnolia Science Academy Bell District",
          "Trivium Charter School Adventure District",
          "Pacific View Charter 2.0 District",
          "College Bridge Academy District",
          "Alternatives in Action District",
          "Alpha Cindy Avitia High District",
          "Rocketship Alma Academy District",
          "College Preparatory Middle District",
          "County Collaborative Charter District",
          "Leadership Military Academy District",
          "Provisional Accelerated Learning Academy District",
          "The Academy of Alameda District",
          "Eel River Charter District",
          "Arroyo Vista Charter District",
          "Impact Academy of Arts & Technology District",
          "Summit Public School: Shasta District",
          "Animo Mae Jemison Charter Middle District",
          "Acalanes Union High",
          "Gabriella Charter 2 District",
          "California Montessori Project-San Juan Campuses District",
          "Alliance Virgil Roberts Leadership Academy District",
          "Downtown College Prep - Alum Rock District",
          "Animo Jackie Robinson High District",
          "Animo Ellen Ochoa Charter Middle District",
          "Heritage K-8 Charter District",
          "eCademy Charter at Crane District",
          "Kavod Charter District",
          "Alameda Community Learning Center District",
          "Chico Country Day District",
          "Alliance Collins Family College-Ready High District",
          "Aspire Pacific Academy District",
          "The City District",
          "Golden Valley River District",
          "Richmond Charter Elementary-Benito Juarez District",
          "Alpha: Cornerstone Academy Preparatory District",
          "Oxford Preparatory Academy - Saddleback Valley District",
          "Rocklin Academy at Meyers Street District",
          "Crescent View West Public Charter District",
          "Magnolia Science Academy 4 District",
          "Valor Academy Middle District",
          "Ackerman Charter",
          "SIATech Academy South District",
          "MethodSchools District",
          "Lifeline Education Charter District",
          "High Tech LA District",
          "Morrice Schaefer Charter District",
          "LaVerne Elementary Preparatory Academy District",
          "King-Chavez Preparatory Academy District",
          "JCS - Cedar Cove District",
          "Pivot Charter School - San Diego II District",
          "Alliance Leichtman-Levine FAM Foundation Env Sci High DIST",
          "Community School for Creative Education District",
          "KIPP Academy of Opportunity District",
          "Alliance Jack H. Skirball Middle District",
          "San Jose Charter Academy District",
          "KIPP Compton Community District",
          "San Jose Conservation Corps Charter District",
          "Millennium Charter District",
          "Watts Learning Center Charter Middle District",
          "City Heights Preparatory Charter District",
          "Empire Springs Charter District",
          "Global Education Academy District",
          "Aspire Alexander Twilight Secondary Academy District",
          "ASCEND District",
          "Guajome Park Academy Charter District",
          "Magnolia Science Academy District",
          "Alliance Margaret M.Bloomfield Technology ACAD High District",
          "Environmental Charter Middle District",
          "New Vision Middle District",
          "ASA Charter District",
          "Kid Street Learning Center Charter District",
          "Los Angeles College Prep Academy District",
          "Aspen Valley Prep Academy District",
          "Vista Norte Public Charter District",
          "California Virtual Academy @ Los Angeles District",
          "Cox Academy District",
          "Manzanita Public Charter District",
          "Rise Kohyang Elementary District",
          "Richmond College Preparatory District",
          "Rise Kohyang Middle District",
          "AeroSTEM Academy District",
          "ICEF Inglewood Elementary Charter Academy District",
          "Caliber: Beta Academy District",
          "Kings Valley Academy II District",
          "Rocketship Rising Stars District",
          "Horizon Charter District",
          "ICEF View Park Preparatory High District",
          "Accelerated District",
          "Opportunities for Learning - Baldwin Park District",
          "CORE Charter District",
          "Los Feliz Charter Middle School for the Arts District",
          "Village Charter Academy District",
          "Bella Mente Montessori Academy District",
          "REACH Leadership STEAM Academy District",
          "South Sutter Charter District",
          "Camino Nuevo Charter Academy #2 District",
          "Ararat Charter District",
          "Sky Mountain Charter District",
          "Ballington Academy for the Arts and Sciences District",
          "Insight School of California District",
          "North Oakland Community Charter District",
          "Dr. Lewis Dolphin Stallworth Sr. Charter District",
          "Mojave River Academy - Marble City District",
          "Hume Lake Charter District",
          "High Tech High District",
          "Scholarship Prep District",
          "Lodestar: A Lighthouse Community Charter Public District",
          "River Islands Technology Academy II District",
          "National Univ Acad HomeSch/Independent Study Orange Co DIST",
          "El Sol Santa Ana Science and Arts Academy District",
          "University Preparatory District",
          "Vista Condor Global Academy District",
          "APEX Academy District",
          "EPIC de Cesar Chavez District",
          "Classical Academy High District",
          "KIPP Raices Academy District",
          "Rio Valley Charter District",
          "Renaissance Arts Academy District",
          "Yav Pem Suab Academy - Preparing for Future Charter District",
          "High Tech Elementary Explorer District",
          "City Language Immersion Charter District",
          "Voices College-Bound Language ACAD at Morgan Hill District",
          "Plumas Charter District",
          "Futures High District",
          "California Montessori Project - Elk Grove Campus District",
          "ISANA Achernar Academy District",
          "Aspire University Charter District",
          "Vista Oaks Charter District",
          "Gold Rush Charter District",
          "SIATech District",
          "Rocketship Mateo Sheedy Elementary District",
          "Mare Island Technology Academy District",
          "Desert Sands Charter District",
          "PUC Lakeview Charter High District",
          "The Language Academy of Sacramento District",
          "High Tech LA Middle District",
          "Gompers Preparatory Academy District",
          "Valor Academy High District",
          "Compass Charter Schools of Los Angeles District",
          "KIPP Ignite Academy District",
          "Stockton Collegiate International Secondary District",
          "Rocketship Redwood City District",
          "Options for Youth-San Juan District",
          "Extera Public School No. 2 District",
          "SAVA- Sacramento ACAD and Vocational Academy- EGUSD District",
          "Math and Science College Preparatory District",
          "Ednovate - Brio College Prep District",
          "High Tech Middle Chula Vista District",
          "Aspire Langston Hughes Academy District",
          "California Virtual Academy San Mateo District",
          "Valley Oak Charter District",
          "Extera Public District",
          "California Virtual Academy @ San Diego District",
          "iLEAD Online District",
          "High Tech Middle District",
          "San Diego Cooperative Charter District",
          "California Virtual Academy at Sutter District",
          "Cottonwood Creek Charter District",
          "REACH District",
          "Bellevue-Santa Fe Charter District",
          "Barona Indian Charter District",
          "Leadership Public Schools - Hayward District",
          "Urban Montessori Charter District",
          "Harriet Tubman Village Charter District",
          "High Tech High North County District",
          "Lemoore Online College Preparatory High District",
          "Aspire Antonio Maria Lugo Academy District",
          "Antioch Charter Academy II District",
          "Gorman Learning Center San Bernardino/Santa Clarita District",
          "Higher Learning Academy District",
          "Opportunities for Learning - Duarte District",
          "Aspire Vanguard College Preparatory Academy District",
          "Bay Area Technology District",
          "Journey District",
          "Big Picture Educational Academy District",
          "EJE Elementary Academy Charter District",
          "Gilroy Prep (a Navigator School) District",
          "Kairos Public School Vacaville Academy District",
          "PUC CALS Middle School and Early College High District",
          "University High District",
          "Alliance Marine - Innovation and Techn 6-12 Complex District",
          "Camino Nuevo Charter Academy #4 District",
          "Steele Canyon High District",
          "Francophone Charter School of Oakland District",
          "Thompson Peak Charter District",
          "JCS - Manzanita District",
          "San Carlos Charter Learning Center District",
          "CORE Butte Charter District",
          "New West Charter District",
          "Sherwood Montessori District",
          "TEAM Charter District",
          "Mirus Secondary District",
          "Rocketship Academy Brilliant Minds District",
          "Crown Preparatory Academy District",
          "Port of Los Angeles High District",
          "California Connections Academy Southern California District",
          "ACE Esperanza Middle District",
          "Wonderful College Prep Academy - Lost Hills District",
          "Antelope Valley Learning Academy District",
          "Audeo Charter II District",
          "Fusion Charter District",
          "Aspire Ollin University Preparatory Academy District",
          "Ingenium Charter Middle District",
          "EJE Middle Academy District",
          "Albany City Unified",
          "Gateway Middle District",
          "Kepler Neighborhood District",
          "ISANA Cardinal Academy District",
          "Alliance College-Ready Middle Academy 4 District",
          "New Los Angeles Charter District",
          "Synergy Quantum Academy District",
          "Rising Sun Montessori District",
          "Learning Works District",
          "Options for Youth-San Bernardino District",
          "Vista Charter Middle District",
          "John Henry High District",
          "The Education Corps District",
          "MIT Griffin Academy Middle District",
          "Charter School of San Diego District",
          "Accelerated Achievement Academy District",
          "High Tech Middle Media Arts District",
          "BRIDGES Charter District",
          "American Indian Public Charter II District",
          "ICEF View Park Preparatory Elementary District",
          "Fuente Nueva Charter District",
          "Endeavor College Preparatory Charter District",
          "California Virtual Academy at Kings District",
          "Magnolia Science Academy 5 District",
          "Learning Without Limits District",
          "Nea Community Learning Center District",
          "Discovery Charter District",
          "Stella Middle Charter Academy District",
          "Alexander Valley Union Elementary",
          "High Tech High International District",
          "Leadership Public Schools: Richmond District",
          "San Diego Virtual District",
          "Santiago Middle District",
          "Forest Ranch Charter District",
          "Albert Einstein Academy Charter Middle District",
          "Scale Leadership Academy - East District",
          "Vaughn Next Century Learning Center District",
          "Animo Ralph Bunche Charter High District",
          "Alliance Piera Barbaglia Shaheen HLT SRVs Academy District",
          "East Palo Alto Academy District",
          "El Camino Real Charter High District",
          "Children's Community Charter District",
          "Larchmont Charter District",
          "PUC Milagro Charter District",
          "Escuela Popular Accelerated Family Learning District",
          "Downtown Value District",
          "River Oaks Academy District",
          "Northern United - Humboldt Charter District",
          "Academy for Academic Excellence District",
          "Summit Public School K2 District",
          "Charter School of Morgan Hill District",
          "California School of the Arts - San Gabriel Valley District",
          "Odyssey Charter District",
          "Willits Charter District",
          "Our Community Charter District",
          "ICEF Vista Middle Academy District",
          "Ballington Acad for Arts & Scis - San Bernardino District",
          "KIPP Corazon Academy District",
          "Voices College-Bound Lang Acad @ W. Contra Costa Co District",
          "Redwood Coast Montessori District",
          "N.E.W. Academy of Science and Arts District",
          "Olivet Elementary Charter District",
          "Anahuacalmecac International Univ Prep N. America District",
          "Alliance Dr. Olga Mohan High District",
          "Integrity Charter District",
          "JCS - Mountain Oaks District",
          "Ridgecrest Elem Acad for Language Music and Sci District",
          "Latino College Preparatory Academy District",
          "Primary Charter District",
          "Alliance Judy Ivie Burton Technology Academy High District",
          "Mojave River Academy - National Trails District",
          "Novato Charter District",
          "Lighthouse Community Charter District",
          "Trivium Charter School Voyage District",
          "Arts in Action Community Middle District",
          "Grossmont Secondary District",
          "Ipakanni Early College Charter District",
          "Northcoast Preparatory and Performing Arts Academy District",
          "Bassett Unified",
          "Equitas Academy #3 Charter District",
          "Palmdale Aerospace Academy District",
          "Rise Kohyang High District",
          "Empower Generations District",
          "GOALS Academy District",
          "Valley International Preparatory High District",
          "National University Academy Dual Language Institute District",
          "Lashon Academy District",
          "Elite ACAD Academy - Adult Work Force Investment District",
          "KIPP San Francisco College Preparatory District",
          "Libertas College Preparatory Charter District",
          "Pacoima Charter Elementary District",
          "Animo James B. Taylor Charter Middle District",
          "Pacific Coast Academy District",
          "Oxford Preparatory Academy - South Orange County District",
          "Venture Academy District",
          "iQ Academy California-Los Angeles District",
          "Soleil Academy Charter District",
          "Excelsior Charter School Corona-Norco District",
          "LPS Oakland R & D Campus District",
          "Ednovate - East College Prep District",
          "John Adams Academy - El Dorado Hills District",
          "Taylion High Desert Academy/Adelanto District",
          "Oakland Military InstituteCollege Preparatory ACAD District",
          "Woodland Star Charter District",
          "Da Vinci Design District",
          "Vox Collegiate of Los Angeles District",
          "Clarksville Charter District",
          "CA Montessori Project-Shingle Springs Campus District",
          "Knowledge Enlightens You (KEY) Academy District",
          "Stone Bridge District",
          "Delta Elementary Charter District",
          "Allensworth Elementary",
          "Camino Polytechnic District",
          "John Adams Academy - Lincoln District",
          "MAAC Community Charter District",
          "All Tribes Charter District",
          "California Virtual Academy @ San Joaquin District",
          "Dimensions Collaborative District",
          "Leonardo da Vinci Health Sciences Charter District",
          "Voices College-Bound Language Academy District",
          "Redwood Preparatory Charter District",
          "Yuba City Charter District",
          "Monarch Learning Center District",
          "Five Keys Charter (SF Sheriff's) District",
          "Three Rivers Charter District",
          "Camino Nuevo High #2 District",
          "NextGeneration STEAM Academy District",
          "Old Town Academy K-8 Charter District",
          "Natomas Charter District",
          "Ednovate - Esperanza College Prep District",
          "Julian Charter District",
          "Northwest Prep Charter District",
          "Pasadena Rosebud Academy District",
          "Gateway College and Career Academy District",
          "Sycamore Academy of Science and Cultural Arts District",
          "Alpaugh Unified",
          "UNIV Preparation Charter SCH @ CSU Channel Islands District",
          "Golden Valley Charter District",
          "Yu Ming Charter District",
          "Nord Country District",
          "King-Chavez Primary Academy District",
          "Oxford Day Academy District",
          "KIPP Promesa Prep District",
          "Barack Obama Charter District",
          "Jardin de la Infancia District",
          "KIPP Los Angeles College Preparatory District",
          "Sierra Academy of Expeditionary Learning District",
          "Camarillo Academy of Progressive Education District",
          "Ingenium Charter District",
          "La Vida Charter District",
          "Ivy Academia District",
          "Summit Public School: Tamalpais District",
          "Antioch Charter Academy District",
          "KIPP Excelencia Community Preparatory District",
          "Global Education Academy 2 District",
          "Gateway International District",
          "Pacific Springs Charter District",
          "Eleanor Roosevelt Community Learning Center District",
          "Invictus Academy of Richmond District",
          "Luis Valdez Leadership Academy District",
          "Golden Eagle Charter District",
          "NOVA Academy - Coachella District",
          "KIPP Vida Preparatory Academy District",
          "Olive Grove Charter - Orcutt/Santa Maria District",
          "Ednovate - Legacy College Prep. District",
          "Desert Trails Preparatory Academy District",
          "STEM Preparatory Elementary District",
          "Aspire Berkley Maynard Academy District",
          "KIPP San Jose Collegiate District",
          "Grace Hopper STEM Academy District",
          "High Tech Elementary Mesa District",
          "Citizens of the World Charter School Hollywood District",
          "Samueli Academy District",
          "Animo Leadership High District",
          "Maria Montessori Charter Academy District",
          "Thomas Edison Charter Academy District",
          "Paragon Collegiate Academy District",
          "KIPP Philosophers Academy District",
          "STREAM Charter District",
          "Union Street Charter District",
          "Aspire Rosa Parks Academy District",
          "iLEAD Lancaster Charter District",
          "High Tech High Chula Vista District",
          "Blue Ridge Academy District",
          "Ingenium Clarion Charter Middle District",
          "Voices College-Bound Language ACAD at Mt. Pleasant District",
          "Sacramento Valley Charter District",
          "Temecula Valley Charter District",
          "Aspire Benjamin Holt Middle District",
          "Chula Vista Learning Community Charter District",
          "Alder Grove Charter School 2 District",
          "Highland Academy District",
          "Hawking S.T.E.A.M. Charter District",
          "Environmental Charter High District",
          "Camino Nuevo Elementary School #3 District",
          "Synergy Kinetic Academy District",
          "Diego Hills Central Public Charter District",
          "Journey District",
          "Community Outreach Academy District",
          "PUC Inspire Charter Academy District",
          "University Preparatory Value High District",
          "Temecula Preparatory District",
          "Everest Value District",
          "Rocketship Spark Academy District",
          "Pathways Charter District",
          "River Springs Charter District",
          "Learning by Design Charter District",
          "Grimmway Academy Shafter District",
          "Alain Leroy Locke College Preparatory Academy District",
          "Bert Corona Charter District",
          "St. HOPE Public School 7 District",
          "Aspire Summit Charter Academy District",
          "Animo Florence-Firestone Charter Middle District",
          "High Tech Elementary Chula Vista District",
          "Literacy First Charter District",
          "Ivy Bound Acad of Math Sci and Tech Charter Mid District",
          "Alpine Union Elementary",
          "Santa Rosa Academy District",
          "PUC Excel Charter Academy District",
          "City Arts and Tech High District",
          "Escalon Charter Academy District",
          "Museum District",
          "San Diego Workforce Innovation High District",
          "John Muir Charter District",
          "School for Entrepreneurship and Technology District",
          "Center for Advanced Learning District",
          "Aspire College Academy District",
          "Unity Middle College High District",
          "Public Safety Academy District",
          "Bert Corona Charter High District",
          "Gorman Learning Center District",
          "Five Keys Independence HS (SF Sheriff's) District",
          "Alliance Cindy and Bill Simon Technology ACAD High District",
          "Bay View Academy District",
          "Richmond Charter Academy District",
          "Learning Choice Academy - Chula Vista District",
          "Aspire Alexander Twilight College Preparatory ACAD District",
          "Career Technical Education Charter District",
          "Fenton Avenue Charter District",
          "California Connections Academy North Bay District",
          "Equitas Academy 4 District",
          "Greater San Diego Academy District",
          "Edward B. Cole Academy District",
          "Central City Value District",
          "Olive Grove Charter - Lompoc District",
          "Achieve Charter School of Paradise Inc. District",
          "IvyTech Charter District",
          "PUC Early College ACAD for Leaders&Scholars(ECALS) District",
          "The O'Farrell Charter District",
          "Santa Clarita Valley International District",
          "ACE Inspire Academy District",
          "KIPP Empower Academy District",
          "KIPP Iluminar Academy District",
          "Gabriella Charter District",
          "Alpha: Jose Hernandez District",
          "N.E.W. Academy Canoga Park District",
          "Empowering Possibilities International Charter District",
          "Preuss School UCSD District",
          "Village Charter District",
          "Method Schools LA District",
          "KIPP King Collegiate High District",
          "KIPP Scholar Academy District",
          "Creative Arts Charter District",
          "Connecting Waters Charter - East Bay District",
          "Alta Loma Elementary",
          "Live Oak Charter District",
          "Rocketship Futuro Academy District",
          "Perseverance Preparatory District",
          "School of Unlimited Learning District",
          "Achieve Academy District",
          "Sunrise Middle District",
          "Ambassador Phillip V. Sanchez II Public Charter District",
          "Coastal Grove Charter District",
          "Summit Public School: Denali District",
          "Connecting Waters Charter District",
          "Insight @ San Joaquin District",
          "KIPP Bayview Academy District",
          "Feaster (Mae L.) Charter District",
          "iLead Agua Dulce District",
          "Allegiance STEAM Academy - Thrive District",
          "Alliance Gertz-Ressler Richard Merkin 6-12 Complex District",
          "Blue Oak Charter District",
          "Goethe International Charter District",
          "School of Arts and Enterprise District",
          "Aveson Global Leadership Academy District",
          "PUC Comm CHRTR Mid & PUC Comm CHRTR Early College High DIST",
          "Growth Public District",
          "KIPP Navigate College Prep District",
          "King-Chavez Community High District",
          "Citizens of the World Charter School Mar Vista District",
          "Animo Compton Charter District",
          "Paseo Grande Charter District",
          "Para Los Ninos - Evelyn Thurman Gratts Primary District",
          "Alliance Susan and Eric Smidt Technology High District",
          "Rocketship Los Suenos Academy District",
          "East Bay Innovation Academy District",
          "Ventura Charter School of Arts and Global Education District",
          "Magnolia Science Academy 3 District",
          "New Opportunities Charter District",
          "Aspire Slauson Academy Charter District",
          "Santa Ynez Valley Charter District",
          "Life Source International Charter District",
          "Intellectual Virtues Academy of Long Beach District",
          "Grove District",
          "TEACH Academy of Technologies District",
          "North County Trade Tech High District",
          "River Montessori Elementary Charter District",
          "Magnolia Science Academy 6 District",
          "Granada Hills Charter District",
          "Elite Academic Academy - Lucerne District",
          "Oakland Charter Academy District",
          "Mojave River Academy - Oro Grande District",
          "Kinetic Academy District",
          "Helix High District",
          "Aspire Lionel Wilson College Preparatory Academy District",
          "WISH Community District",
          "Pivot Charter School Riverside District",
          "Da Vinci RISE High District",
          "Harvest Ridge Cooperative Charter District",
          "ACE Empower Academy District",
          "PREPA TEC - Los Angeles District",
          "Animo Watts College Preparatory Academy District",
          "Alta Vista Elementary",
          "Alpha: Blanca Alvarado District",
          "Summit Public School: Tahoma District",
          "Sherman Thomas STEM Academy District",
          "Ocean Charter District",
          "American Indian Public High District",
          "Synergy Charter Academy District",
          "Everest Public High District",
          "YouthBuild Charter School of California District",
          "Collegiate Charter High School of Los Angeles District",
          "High Tech Middle Mesa District",
          "University Preparatory Academy Charter District",
          "Ross Valley Charter District",
          "Oscar De La Hoya Animo Charter High District",
          "Mission Preparatory District",
          "Camino Nuevo Charter Academy District",
          "Silver Oak High Public Montessori Charter District",
          "Wildflower Open Classroom District",
          "Kipp Prize Preparatory Academy District",
          "ISANA Octavia Academy District",
          "Fenton Primary Center District",
          "Orange County Academy of Sciences and Arts District",
          "Great Valley Academy - Salida District",
          "Orange County Educational Arts Academy District",
          "Sierra Foothill Charter District",
          "Guajome Learning Center District",
          "Audeo Charter School III District",
          "Para Los Ninos Charter District",
          "Alta-Dutch Flat Union Elementary",
          "Downtown College Preparatory Middle District",
          "Dixon Montessori Charter District",
          "Chrysalis Charter District",
          "Magnolia Science Academy 7 District",
          "Discovery Charter Preparatory #2 District",
          "Valiente College Preparatory Charter District",
          "Animo Pat Brown District",
          "Coastal Academy Charter District",
          "KIPP Heritage Academy District",
          "Sonoma Charter District",
          "John Adams Academy - Roseville District",
          "Aspire Firestone Academy Charter District",
          "ICEF Innovation Los Angeles Charter District",
          "Montague Charter Academy District",
          "CATCH Prep Charter High Inc. District",
          "Alliance Ouchi-O'Donovan 6-12 Complex District",
          "Tree of Life Charter District",
          "Rocklin Academy Gateway District",
          "Credo High District",
          "Citizens of the World Charter School Silver Lake District",
          "Temecula International Academy District",
          "Tomorrow's Leadership Collaborative (TLC) Charter District",
          "Cabrillo Point Academy District",
          "McGill School of Success District",
          "KIPP Bridge Academy District",
          "ArchitectureConstruction & Engineer CHTR High(ACE) District",
          "Twin Rivers Charter District",
          "Alliance Renee and Meyer Luskin Academy High District",
          "King-Chavez Arts Academy District",
          "Yosemite-Wawona Elementary Charter District",
          "Valley Charter High District",
          "OCSA District",
          "SAVA - Sacramento Academic and Vocational Academy District",
          "Rocketship Delta Prep District",
          "Summit Preparatory Charter High District",
          "Elite Academic Academy - Mountain Empire District",
          "Alliance Tennenbaum Family Technology High District",
          "Discovery Charter District",
          "Academia Avance Charter District",
          "Oakland Unity High District",
          "Da Vinci Connect District",
          "San Diego Mission Academy District",
          "Baypoint Preparatory Academy - San Diego District",
          "Long Valley District",
          "New Millennium Secondary District",
          "Sparrow Academy District",
          "Blue Oak Academy District",
          "ICEF View Park Preparatory Middle District",
          "Savant Preparatory Academy of Business District",
          "Holly Drive Leadership Academy District",
          "Sacramento Charter High District",
          "Paradise Charter Middle District",
          "California Montessori Project - Capitol Campus District",
          "Shasta Charter Academy District",
          "Animo City of Champions Charter High District",
          "W.E.B. DuBois Public Charter District",
          "Inland Leaders Charter District",
          "Alum Rock Union Elementary",
          "Opportunities for Learning - Capistrano District",
          "Rocklin Academy District",
          "Excelsior Charter District",
          "River Charter Schools Lighthouse Charter District",
          "California Virtual Academy @ Sonoma District",
          "Citrus Springs Charter District",
          "Learning for Life Charter District",
          "Magnolia Science Academy 2 District",
          "Hollister Prep District",
          "Aspen Meadow Public District",
          "Stella Elementary Charter Academy District",
          "Learning Choice Academy District",
          "Design Tech High District",
          "James Jordan Middle District",
          "Entrepreneur High District",
          "California Pacific Charter - San Diego District",
          "Pivot Charter School - North Bay District",
          "Community Roots Academy District",
          "Woodward Leadership Academy District",
          "Roseland Charter District",
          "Aspire Juanita Tate Academy Charter District",
          "Contra Costa School of Performing Arts District",
          "Peak to Peak Mountain Charter District",
          "Northern Summit Academy Shasta District",
          "HomeTech Charter District",
          "one.Charter District",
          "High Tech High Mesa District",
          "Clayton Valley Charter High District",
          "Adelante Charter District",
          "Animo Jefferson Charter Middle District",
          "Ednovate - USC Hybrid High College Prep District",
          "Oakland Unity Middle District",
          "SAVA- Sacramento ACAD and Vocational Academy- SCUSD District",
          "e3 Civic High District",
          "Para Los Ninos Middle District",
          "Team Charter Academy District",
          "Visions In Education District",
          "California Pacific Charter- Los Angeles District",
          "Lighthouse Community Charter High District",
          "Connect Community Charter District",
          "Manzanita Middle District",
          "Options for Youth-Victorville Charter District",
          "Alview-Dairyland Union Elementary",
          "Academia Moderna District",
          "Alliance Patti & Peter Neuwirth Leadership Academy District",
          "Great Valley Academy District",
          "Darnall Charter District",
          "Mountain Home Charter (Alternative) District",
          "JCS - Pine Valley District",
          "Aspire APEX Academy District",
          "ICEF Vista Elementary Academy District",
          "KIPP Sol Academy District",
          "Alvina Elementary",
          "Heritage Peak Charter District",
          "Imagine Schools Riverside County District",
          "Health Sciences High District",
          "Empower Charter District",
          "Aspire Benjamin Holt College Preparatory Academy District",
          "Marconi Learning Academy District",
          "Family Partnership Charter District",
          "Rocketship Fuerza Community Prep District",
          "LA's Promise Charter Middle #1 District",
          "COM Collaborative Virtual - Keppel Partnership ACAD District",
          "Carter G. Woodson Public Charter District",
          "KIPP Academy of Innovation District",
          "Redding School of the Arts District",
          "Diego Valley East Public Charter District",
          "Magnolia Science Academy San Diego District",
          "California Connections Academy @ Ripon District",
          "Arts In Action Community Charter District",
          "San Jacinto Valley Academy District",
          "Escuela Popular/CTR for TRN and Careers FAM Lrng District",
          "PUC Nueva Esperanza Charter Academy District",
          "Crescent View South II District",
          "Matrix for Success Academy District",
          "New Horizons Charter Academy District",
          "Options for Youth San Gabriel District",
          "OCS - South District",
          "Inspire Charter School - North District",
          "Trivium Charter District",
          "Aspire Richmond Ca. College Preparatory Academy District",
          "Lazear Charter Academy District",
          "Connecting Waters Charter School - Central Valley District",
          "Alliance Morgan McKinzie High District",
          "Alma Fuerte Public District",
          "Discovery Charter II District",
          "California Connections Academy@Central District",
          "Lemoore Middle College High District",
          "Wallis Annenberg High District",
          "River Oak Charter District",
          "Bullis Charter District",
          "Da Vinci Science District",
          "Aspire Inskeep Academy Charter District",
          "Stockton Collegiate International Elementary District",
          "Century Community Charter District",
          "Walden Academy District",
          "Stanislaus Alternative Charter District",
          "Hardy Brown College Prep District",
          "Nevada City School of the Arts District",
          "Equitas Academy Charter District",
          "Gateway High District",
          "Mojave River Academy - Rockview Park District",
          "Ceiba College Preparatory Academy District",
          "High Tech Elementary District",
          "Alvord Unified",
          "High Tech Elementary North County District",
          "Fortune District",
          "Community Collaborative Charter District",
          "Vista Heritage Global Academy District",
          "Animo South Los Angeles Charter District",
          "Julia Lee Performing Arts Academy District",
          "Assurance Learning Academy District",
          "The New School of San Francisco District",
          "Highlands Community Charter District",
          "Escondido Charter High District",
          "Rocketship Mosaic Elementary District",
          "Aspire Port City Academy District",
          "Alliance Marc & Eva Stern Math and Science District",
          "Capitol Collegiate Academy District",
          "Aspire Monarch Academy District",
          "Wilder's Preparatory Academy Charter District",
          "California Virtual Academy at Maricopa District",
          "Aspire River Oaks Charter District",
          "Alliance College-Ready Middle Academy 12 District",
          "Grimmway Academy District",
          "Puente Charter District",
          "Fenton Charter Leadership Academy District",
          "KIPP Summit Academy District",
          "Oakland School for the Arts District",
          "Aurum Preparatory Academy District",
          "Yosemite Valley Charter District",
          "Animo Venice Charter High District",
          "ARISE High District",
          "Rocky Point Charter District",
          "iEmpire Academy District",
          "Vista Real Charter High District",
          "Sherman Thomas Charter District",
          "Valley Charter Middle District",
          "Big Sur Charter District",
          "TEACH Tech Charter High District",
          "Animo Inglewood Charter High District",
          "Aspire Gateway Academy Charter District",
          "Western Sierra Collegiate Academy District",
          "New Los Angeles Charter Elementary District",
          "Aspire Vincent Shalvey Academy District",
          "Sebastopol Independent Charter District",
          "Valley View Charter Prep District",
          "Olive Grove Charter - Santa Barbara District",
          "KIPP Valiant Community Prep District",
          "iLEAD Hybrid District",
          "MIT Academy District",
          "Equitas Academy #2 District",
          "Elite Public District",
          "Sycamore Creek Community Charter District",
          "Excel Academy Charter District",
          "California Connections Academy Central Coast District",
          "Lashon Academy City District",
          "Pathways Academy Charter - Adult Education District",
          "Scholarship Prep - South Bay District",
          "Peak Prep Pleasant Valley District",
          "Kidinnu Academy District",
          "KIPP Pueblo Unido District",
          "Watsonville Prep District",
          "The Learning Choice Academy - East County District",
          "Excel Academy Charter District",
          "Brookfield Engineering Science Technology Academy District",
          "Options For Youth - Duarte Inc District",
          "Academy of Media Arts District",
          "Equitas Academy 6 District",
          "Sage Oak Charter - South District",
          "Shasta View Academy District",
          "International School for Science and Culture District",
          "Monarch River Academy District",
          "California Innovative Career Academy District",
          "California Pacific Charter - Sonoma District",
          "Garvey/Allen Visual & Performing Arts Academy for STEM DIST",
          "Heartwood Charter District",
          "Mission Vista Academy District",
          "Vista Horizon Global Academy District",
          "Granite Mountain Charter District",
          "California Connections Academy Monterey Bay District",
          "Sycamore Academy of Science and Cultural Arts Chino VLY DIST",
          "Lake View Charter District",
          "Compass Charter School of Yolo District",
          "Equitas Academy 5 District",
          "Hayward Collegiate Charter District",
          "Cottonwood District",
          "Education Technology JPA",
          "Mountain Valley Special Education JPA",
          "Open Door Charter District",
          "We the People High District",
          "Griffin Academy High District",
          "Citizens of the World Charter School 5 District",
          "Aspire Stockton 6-12 Secondary Academy District",
          "KIPP Esperanza High District",
          "Aspire Stockton TK-5 Elementary Academy District",
          "Orange County Classical Academy District",
          "Endeavor Charter District",
          "OCASA College Prep District",
          "Ednovate College Prep 7 District",
          "American River Collegiate Academy District",
          "Pacific Collegiate Charter District",
          "Agnes J. Johnson Charter District",
          "Tehama eLearning Academy District",
          "Voices College Bound Language Academy at Stockton District",
          "El Rio Community District",
          "Invictus Leadership Academy District",
          "Clovis Global Academy District",
          "Banta Charter District",
          "Irvine International Academy District",
          "KIPP Poder Public District",
          "Life Learning Academy Charter District",
          "New Hope Charter District",
          "Golden Charter Academy District",
          "Environmental Charter High - Gardena District",
          "Entrepreneur High Fontana District",
          "Aspen Ridge Public District",
          "Audeo Valley Charter District",
          "T.I.M.E. Community District",
          "Bostonia Global District",
          "KIPP Stockton Kindergarten-12 Grade District",
          "Bridges Preparatory Academy District",
          "Yuba River Charter District",
          "Riverside Preparatory District",
          "Citizens of the World Charter School 4 District",
          "Shanel Valley Academy District",
          "Achieve Charter School of Chico District",
          "Banta Unified",
          "EPIC Academy District",
          "River Islands High District",
          "KIPP Stockton Kindergarten-8 Grade District",
          "Shade Canyon District",
          "KIPP LEA 17 District",
          "Phoenix Charter Academy College View District",
          "Nevada County School Food Services Agency",
          "West Side Education Authority JPA",
          "Astronaut Jose' M. Hernandez Academy District",
          "New Pacific School - Roseville District",
          "The SEED School of Los Angeles County District",
          "West Sonoma County Union High",
          "Anderson Union High",
          "Anderson Valley Unified",
          "Antelope Elementary",
          "Antelope Valley Union High",
          "Bellflower Unified",
          "Arena Union Elementary",
          "Armona Union Elementary",
          "Arvin Union",
          "Auburn Union Elementary",
          "Azusa Unified",
          "Baker Valley Unified",
          "Bakersfield City",
          "Ballard Elementary",
          "Ballico-Cressey Elementary",
          "Bangor Union Elementary",
          "Banning Unified",
          "Barstow Unified",
          "Bass Lake Joint Union Elementary",
          "Bayshore Elementary",
          "Bear Valley Unified",
          "Beardsley Elementary",
          "Beaumont Unified",
          "Bella Vista Elementary",
          "Bellevue Union",
          "Berkeley Unified",
          "Belleview Elementary",
          "Belmont-Redwood Shores Elementary",
          "Benicia Unified",
          "Bennett Valley Union Elementary",
          "Berryessa Union Elementary",
          "Beverly Hills Unified",
          "Big Creek Elementary",
          "Big Pine Unified",
          "Big Springs Union Elementary",
          "Bitterwater-Tully Elementary",
          "Blake Elementary",
          "Blochman Union Elementary",
          "Blue Lake Union Elementary",
          "Bogus Elementary",
          "Bolinas-Stinson Union",
          "Santa Maria-Bonita",
          "Bonita Unified",
          "Borrego Springs Unified",
          "Bradley Union Elementary",
          "Brea-Olinda Unified",
          "Brentwood Union Elementary",
          "Bridgeville Elementary",
          "Brisbane Elementary",
          "Brittan Elementary",
          "Browns Elementary",
          "Buckeye Union Elementary",
          "Big Lagoon Union Elementary",
          "Buena Park Elementary",
          "Panama-Buena Vista Union",
          "Buena Vista Elementary",
          "Burbank Unified",
          "Burlingame Elementary",
          "Burnt Ranch Elementary",
          "Burrel Union Elementary",
          "Burton Elementary",
          "Butte Valley Unified",
          "Butteville Union Elementary",
          "Buttonwillow Union Elementary",
          "Byron Union Elementary",
          "Big Valley Joint Unified",
          "Caliente Union Elementary",
          "Biggs Unified",
          "Calistoga Joint Unified",
          "Cambrian",
          "Camino Union Elementary",
          "Campbell Union High",
          "Camptonville Elementary",
          "Canyon Elementary",
          "Capay Joint Union Elementary",
          "Cardiff Elementary",
          "Carlsbad Unified",
          "Carmel Unified",
          "Bishop Unified",
          "Cascade Union Elementary",
          "Castaic Union",
          "Castle Rock Union Elementary",
          "Castro Valley Unified",
          "Cayucos Elementary",
          "Black Butte Union Elementary",
          "Black Oak Mine Unified",
          "Central Elementary",
          "Central Union Elementary",
          "Ceres Unified",
          "Charter Oak Unified",
          "Chatom Union",
          "Chicago Park Elementary",
          "Chino Valley Unified",
          "Chowchilla Union High",
          "Chualar Union",
          "Cienega Union Elementary",
          "Cinnabar Elementary",
          "Claremont Unified",
          "Clay Joint Elementary",
          "Clear Creek Elementary",
          "Cloverdale Unified",
          "Coffee Creek Elementary",
          "Cold Spring Elementary",
          "Colfax Elementary",
          "Bonny Doon Union Elementary",
          "Columbine Elementary",
          "Corcoran Joint Unified",
          "Corona-Norco Unified",
          "Coronado Unified",
          "Cotati-Rohnert Park Unified",
          "Cottonwood Union Elementary",
          "Brawley Elementary",
          "Cuddeback Union Elementary",
          "Culver City Unified",
          "Cupertino Union",
          "Curtis Creek Elementary",
          "Brawley Union High",
          "Cutten Elementary",
          "Cypress Elementary",
          "Davis Joint Unified",
          "Death Valley Unified",
          "Dehesa Elementary",
          "Del Mar Union Elementary",
          "Bret Harte Union High",
          "Delano Union Elementary",
          "Delphic Elementary",
          "Denair Unified",
          "Desert Sands Unified",
          "Miller Creek Elementary",
          "Dixon Unified",
          "Douglas City Elementary",
          "Briggs Elementary",
          "Duarte Unified",
          "Ducor Union Elementary",
          "Dunham Elementary",
          "Dunsmuir Elementary",
          "Dunsmuir Joint Union High",
          "East Nicolaus Joint Union High",
          "East Side Union High",
          "East Whittier City Elementary",
          "Buellton Union Elementary",
          "El Monte City",
          "El Nido Elementary",
          "El Rancho Unified",
          "El Segundo Unified",
          "Elk Hills Elementary",
          "Elverta Joint Elementary",
          "Emery Unified",
          "Empire Union Elementary",
          "Encinitas Union Elementary",
          "Enterprise Elementary",
          "Escondido Union",
          "Evergreen Elementary",
          "Fairfield-Suisun Unified",
          "Cabrillo Unified",
          "Fallbrook Union Elementary",
          "Fieldbrook Elementary",
          "Fillmore Unified",
          "Firebaugh-Las Deltas Unified",
          "Flournoy Union Elementary",
          "Foresthill Union Elementary",
          "Forestville Union Elementary",
          "Forks of Salmon Elementary",
          "Cajon Valley Union",
          "Fort Ross Elementary",
          "Fortuna Union High",
          "Fountain Valley Elementary",
          "Calaveras Unified",
          "Franklin Elementary",
          "Fremont Union High",
          "French Gulch-Whiskeytown Elementary",
          "Calexico Unified",
          "Fullerton Elementary",
          "Fullerton Joint Union High",
          "Calipatria Unified",
          "Garfield Elementary",
          "Garvey Elementary",
          "Gazelle Union Elementary",
          "General Shafter Elementary",
          "Gerber Union Elementary",
          "Geyserville Unified",
          "Glendale Unified",
          "Glendora Unified",
          "Gold Trail Union Elementary",
          "Golden Feather Union Elementary",
          "Gorman Joint",
          "Grass Valley Elementary",
          "Gratton Elementary",
          "Gravenstein Union Elementary",
          "Graves Elementary",
          "Green Point Elementary",
          "Campbell Union",
          "Greenfield Union Elementary",
          "Grenada Elementary",
          "Cucamonga Elementary",
          "Guerneville Elementary",
          "Gustine Unified",
          "Hacienda la Puente Unified",
          "Happy Camp Union Elementary",
          "Happy Valley Elementary",
          "Harmony Union Elementary",
          "Hart-Ransom Union Elementary",
          "Hawthorne",
          "Capistrano Unified",
          "Heber Elementary",
          "Helendale Elementary",
          "Hermosa Beach City Elementary",
          "Hickman Community Charter",
          "Hillsborough City Elementary",
          "Hilmar Unified",
          "Carpinteria Unified",
          "Hope Elementary",
          "Hope Elementary",
          "Horicon Elementary",
          "Hornbrook Elementary",
          "Hot Springs Elementary",
          "Howell Mountain Elementary",
          "Hueneme Elementary",
          "Hughes-Elizabeth Lakes Union Elementary",
          "Huntington Beach City Elementary",
          "Huntington Beach Union High",
          "Hydesville Elementary",
          "Igo Ono Platina Union Elementary",
          "Indian Diggings Elementary",
          "Island Union Elementary",
          "Jacoby Creek Elementary",
          "Jamul-Dulzura Union Elementary",
          "Janesville Union Elementary",
          "Jefferson Elementary",
          "Jefferson Elementary",
          "Jefferson Elementary",
          "Jefferson Union High",
          "John Swett Unified",
          "Johnstonville Elementary",
          "Julian Union High",
          "Julian Union Elementary",
          "Junction City Elementary",
          "Junction Elementary",
          "Junction Elementary",
          "Kelseyville Unified",
          "Kentfield Elementary",
          "Kenwood",
          "Kerman Unified",
          "Caruthers Unified",
          "Kernville Union Elementary",
          "Keyes Union",
          "South Monterey County Joint Union High",
          "King City Union",
          "Kings River Union Elementary",
          "Kings River-Hardwick Union Elementary",
          "Kingsburg Elementary Charter",
          "Kingsburg Joint Union High",
          "Kirkwood Elementary",
          "Kit Carson Union Elementary",
          "Klamath River Union Elementary",
          "Klamath-Trinity Joint Unified",
          "Kneeland Elementary",
          "Knights Ferry Elementary",
          "Knightsen Elementary",
          "La Canada Unified",
          "La Habra City Elementary",
          "La Honda-Pescadero Unified",
          "Lafayette Elementary",
          "Laguna Beach Unified",
          "Laguna Joint Elementary",
          "Pacifica",
          "Lagunita Elementary",
          "Lagunitas Elementary",
          "Lake Elementary",
          "Lakeport Unified",
          "Lakeside Joint",
          "Lakeside Union",
          "Lakeside Union Elementary",
          "Lamont Elementary",
          "Lancaster Elementary",
          "Larkspur-Corte Madera",
          "Las Virgenes Unified",
          "Laton Joint Unified",
          "Latrobe",
          "Lawndale Elementary",
          "Le Grand Union Elementary",
          "Le Grand Union High",
          "Lemoore Union Elementary",
          "Lemoore Union High",
          "Lennox",
          "Lewiston Elementary",
          "Liberty Elementary",
          "Lincoln Unified",
          "Center Joint Unified",
          "Centinela Valley Union High",
          "Linns Valley-Poso Flat Union",
          "Little Lake City Elementary",
          "Little Shasta Elementary",
          "Live Oak Elementary",
          "Livermore Valley Joint Unified",
          "Livingston Union",
          "Lodi Unified",
          "Loleta Union Elementary",
          "Loma Prieta Joint Union Elementary",
          "Las Lomitas Elementary",
          "Lompoc Unified",
          "Loomis Union Elementary",
          "Los Alamitos Unified",
          "Los Altos Elementary",
          "Central Unified",
          "Central Union High",
          "Los Gatos-Saratoga Union High",
          "Los Gatos Union Elementary",
          "Los Molinos Unified",
          "Los Nietos",
          "Centralia Elementary",
          "Lost Hills Union Elementary",
          "Lowell Joint",
          "Lucerne Elementary",
          "Lucia Mar Unified",
          "Luther Burbank",
          "Chaffey Joint Union High",
          "Magnolia Union Elementary",
          "Manchester Union Elementary",
          "Manteca Unified",
          "Manzanita Elementary",
          "Maple Creek Elementary",
          "Maple Elementary",
          "Marcum-Illinois Union Elementary",
          "Maricopa Unified",
          "Mark Twain Union Elementary",
          "Mark West Union Elementary",
          "Martinez Unified",
          "Marysville Joint Unified",
          "McCloud Union Elementary",
          "McFarland Unified",
          "McKittrick Elementary",
          "McSwain Union Elementary",
          "Merced City Elementary",
          "Merced River Union Elementary",
          "Merced Union High",
          "Meridian Elementary",
          "Middletown Unified",
          "Chawanakee Unified",
          "Mill Valley Elementary",
          "Millbrae Elementary",
          "Millville Elementary",
          "Mission Union Elementary",
          "Modesto City High",
          "Modoc Joint Unified",
          "Monroe Elementary",
          "Monrovia Unified",
          "Monson-Sultana Joint Union Elementary",
          "Montague Elementary",
          "Monte Rio Union Elementary",
          "Montecito Union Elementary",
          "Montgomery Elementary",
          "Moraga Elementary",
          "Moreland",
          "Morgan Hill Unified",
          "Morongo Unified",
          "Mt. Shasta Union Elementary",
          "Mountain Elementary",
          "Mountain Empire Unified",
          "Mountain House Elementary",
          "Mountain View Elementary",
          "Mountain View Whisman",
          "Mountain View-Los Altos Union High",
          "Mt. Baldy Joint Elementary",
          "Mount Pleasant Elementary",
          "Mulberry Elementary",
          "Mupu Elementary",
          "Muroc Joint Unified",
          "National Elementary",
          "Needles Unified",
          "Nevada City Elementary",
          "Nevada Joint Union High",
          "New Haven Unified",
          "New Hope Elementary",
          "New Jerusalem Elementary",
          "Mountain Union Elementary",
          "Chico Unified",
          "Newcastle Elementary",
          "Newman-Crows Landing Unified",
          "Nicasio",
          "Norris Elementary",
          "North County Joint Union Elementary",
          "North Cow Creek Elementary",
          "North Monterey County Unified",
          "Novato Unified",
          "Nuestro Elementary",
          "Nuview Union",
          "Oak Grove Elementary",
          "Oak Grove Union Elementary",
          "Oak Park Unified",
          "Oak Run Elementary",
          "Oak Valley Union Elementary",
          "Oak View Union Elementary",
          "Chowchilla Elementary",
          "Oakley Union Elementary",
          "Ocean View",
          "Chula Vista Elementary",
          "Ojai Unified",
          "Orange Center",
          "Orchard Elementary",
          "Orcutt Union Elementary",
          "Orick Elementary",
          "Orinda Union Elementary",
          "Oro Grande",
          "Outside Creek Elementary",
          "Owens Valley Unified",
          "Oxnard",
          "Pacheco Union Elementary",
          "Pacific Elementary",
          "Pacific Grove Unified",
          "Pacific Union Elementary",
          "Palmdale Elementary",
          "Palo Verde Unified",
          "Palo Verde Union Elementary",
          "Palos Verdes Peninsula Unified",
          "Panoche Elementary",
          "Paramount Unified",
          "Clovis Unified",
          "Coachella Valley Unified",
          "Patterson Joint Unified",
          "Peninsula Union",
          "Perris Elementary",
          "Perris Union High",
          "Coalinga-Huron Unified",
          "Petaluma Joint Union High",
          "Piedmont City Unified",
          "Pine Ridge Elementary",
          "Piner-Olivet Union Elementary",
          "Pioneer Union Elementary",
          "Pioneer Union Elementary",
          "College Elementary",
          "Pixley Union Elementary",
          "Placer Hills Union Elementary",
          "Placer Union High",
          "Placerville Union Elementary",
          "Plainsburg Union Elementary",
          "Planada Elementary",
          "Plaza Elementary",
          "Pleasant Grove Joint Union",
          "Pleasant Ridge Union Elementary",
          "Pleasant Valley Joint Union Elementary",
          "Plumas Lake Elementary",
          "Point Arena Joint Union High",
          "Pomona Unified",
          "Pond Union Elementary",
          "Pope Valley Union Elementary",
          "Potter Valley Community Unified",
          "Portola Valley Elementary",
          "Colton Joint Unified",
          "Raisin City Elementary",
          "Rancho Santa Fe Elementary",
          "Ravendale-Termo Elementary",
          "Ravenswood City Elementary",
          "Raymond-Knowles Union Elementary",
          "Columbia Elementary",
          "Redding Elementary",
          "Columbia Union",
          "Reed Union Elementary",
          "Reeds Creek Elementary",
          "Reef-Sunset Unified",
          "Colusa Unified",
          "Kashia Elementary",
          "Richfield Elementary",
          "Richgrove Elementary",
          "Richmond Elementary",
          "Compton Unified",
          "Rio Bravo-Greeley Union Elementary",
          "Rio Dell Elementary",
          "Rio Elementary",
          "Conejo Valley Unified",
          "Rockford Elementary",
          "Romoland Elementary",
          "Rosedale Union Elementary",
          "Roseland",
          "Rosemead Elementary",
          "Ross Elementary",
          "Round Valley Joint Elementary",
          "Round Valley Unified",
          "Salida Union Elementary",
          "San Ardo Union Elementary",
          "San Bernardino City Unified",
          "San Bruno Park Elementary",
          "San Carlos Elementary",
          "Corning Union Elementary",
          "Corning Union High",
          "San Gabriel Unified",
          "Covina-Valley Unified",
          "San Jose Unified",
          "San Leandro Unified",
          "San Lorenzo Unified",
          "San Lucas Union Elementary",
          "San Marino Unified",
          "San Mateo-Foster City",
          "San Pasqual Union Elementary",
          "San Pasqual Valley Unified",
          "San Rafael City Elementary",
          "San Rafael City High",
          "San Ramon Valley Unified",
          "Santa Ana Unified",
          "Santa Clara Elementary",
          "Cutler-Orosi Joint Unified",
          "Santa Rosa Elementary",
          "Santa Rosa High",
          "Santa Ynez Valley Union High",
          "Saratoga Union Elementary",
          "Saucelito Elementary",
          "Saugus Union",
          "Sausalito Marin City",
          "Scotia Union Elementary",
          "Sebastopol Union Elementary",
          "Seeley Union Elementary",
          "Seiad Elementary",
          "Semitropic Elementary",
          "Sequoia Union Elementary",
          "Shaffer Union Elementary",
          "Shandon Joint Unified",
          "Shasta Union Elementary",
          "Shiloh Elementary",
          "Shoreline Unified",
          "Silver Fork Elementary",
          "Silver Valley Unified",
          "Del Norte County Unified",
          "Siskiyou Union High",
          "Snelling-Merced Falls Union Elementary",
          "Snowline Joint Unified",
          "Victor Valley Union High",
          "Solana Beach Elementary",
          "Solvang Elementary",
          "Delano Joint Union High",
          "Sonora Elementary",
          "Sonora Union High",
          "Soulsbyville Elementary",
          "South Bay Union Elementary",
          "South Bay Union",
          "South Fork Union",
          "South Pasadena Unified",
          "South San Francisco Unified",
          "South Whittier Elementary",
          "Southern Humboldt Joint Unified",
          "Southern Kern Unified",
          "Southern Trinity Joint Unified",
          "Southside Elementary",
          "Spencer Valley Elementary",
          "Spreckels Union Elementary",
          "Springville Union Elementary",
          "Saint Helena Unified",
          "Standard Elementary",
          "Stanislaus Union Elementary",
          "Stone Corral Elementary",
          "Strathmore Union Elementary",
          "Desert Center Unified",
          "Summerville Elementary",
          "Summerville Union High",
          "Sundale Union Elementary",
          "Sunnyside Union Elementary",
          "Surprise Valley Joint Unified",
          "Susanville Elementary",
          "Sutter Union High",
          "Di Giorgio Elementary",
          "Sylvan Union Elementary",
          "Taft Union High",
          "Tamalpais Union High",
          "Tehachapi Unified",
          "Temple City Unified",
          "Templeton Unified",
          "Three Rivers Union Elementary",
          "Tipton Elementary",
          "Travis Unified",
          "Tres Pinos Union Elementary",
          "Trinidad Union Elementary",
          "Trinity Center Elementary",
          "Trona Joint Unified",
          "Tulare City",
          "Tulare Joint Union High",
          "Tulelake Basin Joint Unified",
          "Tustin Unified",
          "Twain Harte",
          "Twin Hills Union Elementary",
          "Two Rock Union",
          "Union Elementary",
          "Union Hill Elementary",
          "Valle Lindo Elementary",
          "Vallecito Union",
          "Vallecitos Elementary",
          "Vallejo City Unified",
          "Valley Home Joint Elementary",
          "Downey Unified",
          "Dry Creek Joint Elementary",
          "Vista del Mar Union",
          "Walnut Creek Elementary",
          "Wasco Union High",
          "Washington Colony Elementary",
          "Waugh Elementary",
          "Waukena Joint Union Elementary",
          "Weaver Union",
          "Durham Unified",
          "West Covina Unified",
          "West Park Elementary",
          "Westside Union Elementary",
          "Western Placer Unified",
          "Westminster",
          "Westmorland Union Elementary",
          "Westside Elementary",
          "West Side Union Elementary",
          "Westwood Unified",
          "Wheatland",
          "Wheatland Union High",
          "Whitmore Union Elementary",
          "Whittier City Elementary",
          "Earlimart Elementary",
          "Willits Unified",
          "Laytonville Unified",
          "Willow Grove Union Elementary",
          "Willows Unified",
          "Wilmar Union Elementary",
          "Winship-Robbins",
          "Winton",
          "Woodside Elementary",
          "Wright Elementary",
          "Yreka Union Elementary",
          "Yreka Union High",
          "Yucaipa-Calimesa Joint Unified",
          "Irvine Unified",
          "Amador County Office of Education",
          "Butte County Office of Education",
          "Calaveras County Office of Education",
          "Colusa County Office of Education",
          "Contra Costa County Office of Education",
          "El Dorado County Office of Education",
          "Fresno County Office of Education",
          "Humboldt County Office of Education",
          "Imperial County Office of Education",
          "Inyo County Office of Education",
          "Kings County Office of Education",
          "Lake County Office of Education",
          "Lassen County Office of Education",
          "Madera County Superintendent of Schools",
          "Marin County Office of Education",
          "Mendocino County Office of Education",
          "Merced County Office of Education",
          "Napa County Office of Education",
          "Nevada County Office of Education",
          "Placer County Office of Education",
          "Riverside County Office of Education",
          "Sacramento County Office of Education",
          "San Benito County Office of Education",
          "San Bernardino County Office of Education",
          "San Diego County Office of Education",
          "San Joaquin County Office of Education",
          "San Luis Obispo County Office of Education",
          "San Mateo County Office of Education",
          "Santa Clara County Office of Education",
          "Santa Cruz County Office of Education",
          "Siskiyou County Office of Education",
          "Sonoma County Office of Education",
          "Stanislaus County Office of Education",
          "Sutter County Office of Education",
          "Tehama County Department of Education",
          "Trinity County Office of Education",
          "Tulare County Office of Education",
          "Tuolumne County Superintendent of Schools",
          "Ventura County Office of Education",
          "Yuba County Office of Education",
          "Yolo County Office of Education",
          "Alameda County Office of Education",
          "Mono County Office of Education",
          "Alpine County Office of Education",
          "Del Norte County Office of Education",
          "Mariposa County Office of Education",
          "Modoc County Office of Education",
          "Plumas County Office of Education",
          "San Francisco County Office of Education",
          "Sierra County Office of Education",
          "Solano County Office of Education",
          "Golden Plains Unified",
          "Val Verde Unified",
          "Eastern Sierra Unified",
          "Big Oak Flat-Groveland Unified",
          "Allegiance STEAM Academy - Thrive Fontana District",
          "Vista Meridian Global Academy District",
          "Explore Academy District",
          "Oxford Preparatory Academy - Middle District",
          "Mayacamas Charter Middle District",
          "Capital College & Career Academy District",
          "Eastside Union Elementary",
          "Edison Elementary",
          "El Centro Elementary",
          "El Dorado Union High",
          "El Monte Union High",
          "Elk Grove Unified",
          "Escalon Unified",
          "Escondido Union High",
          "Esparto Unified",
          "Etiwanda Elementary",
          "Eureka City Schools",
          "Eureka Union",
          "Evergreen Union",
          "Exeter Unified",
          "Ezequiel Tafoya Alvarado Academy District",
          "Fairfax Elementary",
          "Fall River Joint Unified",
          "Fallbrook Union High",
          "Ferndale Unified",
          "First Student",
          "Folsom-Cordova Unified",
          "Fontana Unified",
          "Fort Bragg Unified",
          "Fowler Unified",
          "Franklin-McKinley Elementary",
          "Fremont Unified",
          "Freshwater Elementary",
          "Fresno Unified",
          "Fruitvale Elementary",
          "Galt Joint Union Elementary",
          "Galt Joint Union High",
          "Garden Grove Unified",
          "Gateway Unified",
          "Gilroy Unified",
          "Glenn County Office of Education",
          "Gold Oak Union Elementary",
          "Goleta Union Elementary",
          "Gonzales Unified",
          "Grant Elementary",
          "Greenfield Union",
          "Gridley Unified",
          "Grossmont Union High",
          "Guadalupe Union Elementary",
          "Hanford Elementary",
          "Hanford Joint Union High",
          "Happy Valley Union Elementary",
          "Hayward Unified",
          "Healdsburg Unified",
          "Hemet Unified",
          "Hesperia Unified",
          "Hollister",
          "Holtville Unified",
          "Hughson Unified",
          "Imperial Unified",
          "Inglewood Unified",
          "Jamestown Elementary",
          "Jurupa Unified",
          "Keppel Union Elementary",
          "Kern County Office of Education",
          "Kern High",
          "Kings Canyon Joint Unified",
          "Konocti Unified",
          "La Mesa-Spring Valley",
          "Lake Tahoe Unified",
          "Lakeside Union Elementary",
          "Lassen Union High",
          "Lassen View Union Elementary",
          "Leggett Valley Unified",
          "Lemon Grove",
          "Liberty Elementary",
          "Liberty Union High",
          "Linden Unified",
          "Lindsay Unified",
          "Live Oak Unified",
          "Lone Pine Unified",
          "Long Beach Unified",
          "Los Angeles County Office of Education",
          "Los Angeles Leadership Primary Academy District",
          "Los Angeles Unified",
          "Los Banos Unified",
          "Los Olivos Elementary",
          "Lucerne Valley Unified",
          "Lynwood Unified",
          "Madera Unified",
          "Magnolia Elementary",
          "Mammoth Unified",
          "Mariposa County Unified",
          "Maxwell Unified",
          "McCabe Union Elementary",
          "McKinleyville Union Elementary",
          "Meadows Union Elementary",
          "Mendocino Unified",
          "Menifee Union",
          "Menlo Park City Elementary",
          "Menlo School",
          "Mesa Union Elementary",
          "Michael's Transportation Services, Inc.",
          "Midway Elementary",
          "Milpitas Unified",
          "Mission Academy District",
          "Modesto City Elementary",
          "Modesto City Schools",
          "Mojave Unified",
          "Montebello Unified",
          "Monterey County Office of Education",
          "Monterey Peninsula Unified",
          "Moorpark Unified",
          "Moreno Valley Unified",
          "Morongo School",
          "Mother Lode Union Elementary",
          "Mountain View Elementary",
          "Mt. Diablo Unified",
          "Murrieta Valley Unified",
          "Napa Valley Unified",
          "Natomas Unified",
          "Newark Unified",
          "Newhall",
          "Newport-Mesa Unified",
          "Noli School",
          "Northern Humboldt Union High",
          "Norwalk-La Mirada Unified",
          "Oakland Unified",
          "Ocean View",
          "Oceanside Unified",
          "Old Adobe Union",
          "Ontario-Montclair",
          "Orange County Department of Education",
          "Orange Unified",
          "Oroville City Elementary",
          "Oroville Union High",
          "Oxnard Union High",
          "Pacific Union Elementary",
          "Pajaro Valley Unified",
          "Palermo Union Elementary",
          "Palisades Charter High District",
          "Palm Springs Unified",
          "Palo Alto Unified",
          "Paradise Elementary",
          "Paradise Unified",
          "Parlier Unified",
          "Pasadena Unified",
          "Paso Robles Joint Unified",
          "Petaluma City Elementary",
          "Pierce Joint Unified",
          "Pioneer Union",
          "Pittsburg Unified",
          "Placentia-Yorba Linda Unified",
          "Pleasant Valley",
          "Pleasant View Elementary",
          "Plumas Unified",
          "Pollock Pines Elementary",
          "Porterville Unified",
          "Poway Unified",
          "Princeton Joint Unified",
          "Ramona City Unified",
          "Red Bluff Joint Union High",
          "Red Bluff Union Elementary",
          "Redlands Unified",
          "Redwood City Elementary",
          "Rescue Union Elementary",
          "Rialto Unified",
          "Richland Union Elementary",
          "Rim of the World Unified",
          "Rincon Valley Union Elementary",
          "Ripon Unified",
          "River Delta Joint Unified",
          "Riverside Unified",
          "Roberts Ferry Union Elementary",
          "Robla Elementary",
          "Rocklin Unified",
          "Roseville City Elementary",
          "Roseville Joint Union High",
          "Rowland Unified",
          "Sacramento City Unified",
          "Saddleback Valley Unified",
          "Salinas City Elementary",
          "Salinas Union High",
          "San Antonio Union Elementary",
          "San Benito High",
          "San Diego Unified",
          "San Dieguito Union High",
          "San Francisco Unified",
          "San Jacinto Unified",
          "San Juan Unified",
          "San Lorenzo Valley Unified",
          "San Luis Coastal Unified",
          "San Marcos Unified",
          "San Mateo Union High",
          "San Miguel Joint Union",
          "San Ysidro Elementary",
          "Sanger Unified",
          "Santa Barbara County Office of Education",
          "Santa Barbara Unified",
          "Santa Clara Unified",
          "Santa Cruz City Elementary",
          "Santa Cruz City Elementary/High",
          "Santa Cruz City High",
          "Santa Maria Joint Union High",
          "Santa Monica-Malibu Unified",
          "Santa Rita Union Elementary",
          "Santee",
          "Savanna Elementary",
          "Selma Unified",
          "Sequoia Union High",
          "Shasta County Office of Education",
          "Shasta Union High",
          "Sierra Sands Unified",
          "Sierra Unified",
          "Sierra-Plumas Joint Unified",
          "Simi Valley Unified",
          "Soledad Unified",
          "Somis Union",
          "Sonoma Valley Unified",
          "Soquel Union Elementary",
          "Southwest Transportation Agency",
          "Stockton Unified",
          "Stony Creek Joint Unified",
          "Storer Transportation School and Contract Service",
          "Sulphur Springs Union",
          "Sunnyvale",
          "Sweetwater Union High",
          "Taft City",
          "Tahoe-Truckee Unified",
          "Terra Bella Union Elementary",
          "The Nueva Middle School",
          "Thermalito Union Elementary",
          "Today's Fresh Start-Compton District",
          "Torrance Unified",
          "Traver Joint Elementary",
          "Tree of Life International Charter District",
          "Trinity Alps Unified",
          "Tumbleweed Transportation",
          "Twin Rivers Unified",
          "Ukiah Unified",
          "Vacaville Unified",
          "Valley Center-Pauma Unified",
          "Ventura Unified",
          "Victor Elementary",
          "Vineland Elementary",
          "Visalia Unified",
          "Visser Bus Services",
          "Vista Unified",
          "Walnut Valley Unified",
          "Warner Unified",
          "Wasco Union Elementary",
          "Washington Unified",
          "Washington Union Elementary",
          "Weed Union Elementary",
          "West Contra Costa Unified",
          "Whittier Union High",
          "William S. Hart Union High",
          "Sherman Indian High School",
          "Williams Unified",
          "Willow Creek Elementary",
          "Wilsona Elementary",
          "Winters Joint Unified",
          "Wonderful College Prep Academy District",
          "Woodland Joint Unified",
          "Woodville Union Elementary",
          "Yosemite Unified",
          "Yuba City Unified",
          "Yuba Environmental Science Charter Academy District",
          "Zum Services"
         ],
         "type": "scatter",
         "x": {
          "_inputArray": {
           "0": 7.108023182,
           "1": 7.734938006,
           "10": 7.591725908,
           "100": null,
           "1000": null,
           "1001": null,
           "1002": null,
           "1003": null,
           "1004": null,
           "1005": null,
           "1006": null,
           "1007": null,
           "1008": null,
           "1009": null,
           "101": null,
           "1010": null,
           "1011": null,
           "1012": null,
           "1013": null,
           "1014": null,
           "1015": null,
           "1016": null,
           "1017": null,
           "1018": null,
           "1019": null,
           "102": null,
           "1020": null,
           "1021": null,
           "1022": null,
           "1023": null,
           "1024": null,
           "1025": null,
           "1026": null,
           "1027": null,
           "1028": null,
           "1029": null,
           "103": null,
           "1030": null,
           "1031": null,
           "1032": null,
           "1033": null,
           "1034": null,
           "1035": null,
           "1036": null,
           "1037": null,
           "1038": null,
           "1039": null,
           "104": null,
           "1040": null,
           "1041": null,
           "1042": null,
           "1043": null,
           "1044": null,
           "1045": null,
           "1046": null,
           "1047": null,
           "1048": null,
           "1049": null,
           "105": null,
           "1050": 11.10818425,
           "1051": null,
           "1052": null,
           "1053": null,
           "1054": null,
           "1055": null,
           "1056": null,
           "1057": null,
           "1058": null,
           "1059": null,
           "106": null,
           "1060": null,
           "1061": null,
           "1062": null,
           "1063": null,
           "1064": null,
           "1065": null,
           "1066": null,
           "1067": null,
           "1068": null,
           "1069": null,
           "107": null,
           "1070": null,
           "1071": null,
           "1072": null,
           "1073": null,
           "1074": null,
           "1075": null,
           "1076": null,
           "1077": null,
           "1078": null,
           "1079": null,
           "108": null,
           "1080": null,
           "1081": null,
           "1082": null,
           "1083": null,
           "1084": null,
           "1085": null,
           "1086": null,
           "1087": null,
           "1088": null,
           "1089": null,
           "109": null,
           "1090": null,
           "1091": null,
           "1092": null,
           "1093": null,
           "1094": null,
           "1095": null,
           "1096": null,
           "1097": null,
           "1098": null,
           "1099": null,
           "11": 7.179981503,
           "110": null,
           "1100": null,
           "1101": null,
           "1102": null,
           "1103": null,
           "1104": null,
           "1105": null,
           "1106": null,
           "1107": null,
           "1108": null,
           "1109": null,
           "111": null,
           "1110": null,
           "1111": null,
           "1112": null,
           "1113": null,
           "1114": null,
           "1115": null,
           "1116": null,
           "1117": null,
           "1118": null,
           "1119": null,
           "112": null,
           "1120": null,
           "1121": null,
           "1122": null,
           "1123": null,
           "1124": null,
           "1125": null,
           "1126": null,
           "1127": null,
           "1128": null,
           "1129": null,
           "113": null,
           "1130": null,
           "1131": null,
           "1132": null,
           "1133": null,
           "1134": null,
           "1135": null,
           "1136": null,
           "1137": null,
           "1138": null,
           "1139": null,
           "114": 9.405574004,
           "1140": null,
           "1141": null,
           "1142": null,
           "1143": null,
           "1144": null,
           "1145": null,
           "1146": null,
           "1147": null,
           "1148": null,
           "1149": null,
           "115": 5.362676864,
           "1150": null,
           "1151": null,
           "1152": null,
           "1153": null,
           "1154": null,
           "1155": null,
           "1156": null,
           "1157": null,
           "1158": null,
           "1159": null,
           "116": null,
           "1160": null,
           "1161": null,
           "1162": null,
           "1163": null,
           "1164": null,
           "1165": null,
           "1166": null,
           "1167": null,
           "1168": null,
           "1169": null,
           "117": null,
           "1170": null,
           "1171": null,
           "1172": null,
           "1173": null,
           "1174": null,
           "1175": null,
           "1176": null,
           "1177": null,
           "1178": null,
           "1179": null,
           "118": null,
           "1180": null,
           "1181": null,
           "1182": null,
           "1183": null,
           "1184": null,
           "1185": 6.136524455,
           "1186": 6.188205855,
           "1187": 5.65722127,
           "1188": 5.68100329,
           "1189": 6.626758615,
           "119": null,
           "1190": 11.30407049,
           "1191": 5.591553945,
           "1192": 11.42573009,
           "1193": 7.672331224,
           "1194": 6.555398117,
           "1195": 10.19940315,
           "1196": 4.675150178,
           "1197": 9.776827871,
           "1198": 5.123847453,
           "1199": 9.182929378,
           "12": 10.09913917,
           "120": 7.166759053,
           "1200": 6.910644879,
           "1201": 7.167158617,
           "1202": 5.896873583,
           "1203": 5.60666198,
           "1204": 7.345151429,
           "1205": 5.997411444,
           "1206": 9.96998902,
           "1207": 7.916713595,
           "1208": 5.752496133,
           "1209": 6.409107475,
           "121": null,
           "1210": 8.090646947,
           "1211": 5.14480517,
           "1212": 6.993928275,
           "1213": 7.860153902,
           "1214": 6.383338059,
           "1215": 7.233375151,
           "1216": 10.12415194,
           "1217": 5.044755753,
           "1218": 4.417396655,
           "1219": 5.794805484,
           "122": null,
           "1220": 4.887166904,
           "1221": 6.313062466,
           "1222": 5.159625777,
           "1223": 4.960192093,
           "1224": 6.122823268,
           "1225": 6.361241257,
           "1226": 5.418088139,
           "1227": 10.45706926,
           "1228": 6.401341096,
           "1229": 4.990578986,
           "123": null,
           "1230": 11.40241946,
           "1231": 7.52652079,
           "1232": 4.987102474,
           "1233": 7.274697857,
           "1234": 8.337085031,
           "1235": 8.363300822,
           "1236": 6.225120703,
           "1237": 5.350244658,
           "1238": 11.13479639,
           "1239": 10.08808939,
           "124": null,
           "1240": 11.9263828,
           "1241": 9.603779941,
           "1242": 7.003006787,
           "1243": 4.438992274,
           "1244": 8.709121667,
           "1245": 9.825937261,
           "1246": 6.032706222,
           "1247": 5.462163975,
           "1248": 8.484872531,
           "1249": 7.558784695,
           "125": null,
           "1250": 5.29417326,
           "1251": 6.305111325,
           "1252": 7.951270049,
           "1253": 5.943305736,
           "1254": 7.032892872,
           "1255": 4.821196147,
           "1256": 7.099180197,
           "1257": 5.983906027,
           "1258": 7.693075091,
           "1259": 7.019345379,
           "126": null,
           "1260": 8.808443725,
           "1261": 8.93735406,
           "1262": 4.453040661,
           "1263": 4.566945598,
           "1264": 6.366725223,
           "1265": 6.917976661,
           "1266": 5.326657945,
           "1267": 7.376014363,
           "1268": 4.98893454,
           "1269": 5.051525636,
           "127": null,
           "1270": 5.299063559,
           "1271": 10.97717845,
           "1272": 9.998115569,
           "1273": 8.782506575,
           "1274": 10.59995312,
           "1275": 9.027249184,
           "1276": 5.498822397,
           "1277": 11.81778123,
           "1278": 8.660013411,
           "1279": 4.615236381,
           "128": null,
           "1280": 5.204261077,
           "1281": 6.449566607,
           "1282": 10.63431517,
           "1283": 11.08660049,
           "1284": 6.391773375,
           "1285": 5.589453011,
           "1286": 4.832289737,
           "1287": 5.769109749,
           "1288": 5.113090307,
           "1289": 5.633420881,
           "129": null,
           "1290": 10.66617205,
           "1291": 11.13895717,
           "1292": 11.03942796,
           "1293": 8.628116367,
           "1294": 6.407712174,
           "1295": 5.921001892,
           "1296": 7.884267752,
           "1297": 5.145535544,
           "1298": 10.27421211,
           "1299": 7.030053414,
           "13": 5.667714085,
           "130": null,
           "1300": 5.579282494,
           "1301": 7.771448487,
           "1302": 5.959203013,
           "1303": 10.87746189,
           "1304": 7.64952825,
           "1305": 4.276783562,
           "1306": 8.116391453,
           "1307": 8.837083264,
           "1308": 5.717180906,
           "1309": 10.04310117,
           "131": null,
           "1310": 5.969919348,
           "1311": 9.119072752,
           "1312": 6.59402072,
           "1313": 6.779060283,
           "1314": 7.088273978,
           "1315": 4.6147665,
           "1316": 6.258646048,
           "1317": 9.859658899,
           "1318": 9.78737903,
           "1319": 6.346512176,
           "132": null,
           "1320": 5.321035483,
           "1321": 5.322426293,
           "1322": 8.240613672,
           "1323": 7.063208882,
           "1324": 11.4687449,
           "1325": 5.137186813,
           "1326": 10.81038157,
           "1327": 9.038909315,
           "1328": 11.44858908,
           "1329": 9.918902389,
           "133": null,
           "1330": 8.673440642,
           "1331": 8.412478399,
           "1332": 8.039815353,
           "1333": 8.841414918,
           "1334": 8.927545544,
           "1335": 6.366285398,
           "1336": 8.875130399,
           "1337": 6.867315086,
           "1338": 7.17589141,
           "1339": 6.48829729,
           "134": null,
           "1340": 8.669827702,
           "1341": 5.6559821,
           "1342": 6.572234662,
           "1343": 7.531737787,
           "1344": 5.481131851,
           "1345": 4.9766629,
           "1346": 6.015532765,
           "1347": 4.804929608,
           "1348": 8.716753964,
           "1349": 5.554201487,
           "135": 10.79029607,
           "1350": 5.434720537,
           "1351": 9.730268746,
           "1352": 5.833599323,
           "1353": 8.454074549,
           "1354": 7.142442779,
           "1355": 5.360891242,
           "1356": 9.011455646,
           "1357": 11.16361343,
           "1358": 11.24787061,
           "1359": 7.144822081,
           "136": null,
           "1360": 5.403566125,
           "1361": 10.96993487,
           "1362": 5.485655175,
           "1363": 7.76347229,
           "1364": 5.692796758,
           "1365": 5.625288973,
           "1366": 9.673797951,
           "1367": 10.06164632,
           "1368": 5.7149471,
           "1369": 6.888127131,
           "137": null,
           "1370": 6.197703391,
           "1371": 5.868273526,
           "1372": 8.382384932,
           "1373": 6.320901877,
           "1374": 5.010666404,
           "1375": 5.16381446,
           "1376": 7.177318479,
           "1377": 4.656903214,
           "1378": 5.832588488,
           "1379": 11.3824599,
           "138": null,
           "1380": 5.867275572,
           "1381": 7.156934646,
           "1382": 11.31471371,
           "1383": 4.96370937,
           "1384": 6.04082917,
           "1385": 5.994833266,
           "1386": 8.613619816,
           "1387": 10.43445392,
           "1388": 8.709519175,
           "1389": 9.306655132,
           "139": null,
           "1390": 5.812986563,
           "1391": 9.679871949,
           "1392": 8.382384932,
           "1393": 6.978070296,
           "1394": 9.059131379,
           "1395": 5.713007345,
           "1396": 5.715465646,
           "1397": 9.469345205,
           "1398": 5.551302197,
           "1399": 5.683594268,
           "14": 7.171291788,
           "140": null,
           "1400": 5.616597452,
           "1401": 5.910858904,
           "1402": 6.730888589,
           "1403": 6.386358488,
           "1404": 9.418485359,
           "1405": 9.825220674,
           "1406": 5.370084233,
           "1407": 5.896216007,
           "1408": 4.477827781,
           "1409": 9.920787507,
           "141": null,
           "1410": 5.682656881,
           "1411": 7.799956947,
           "1412": 5.466432713,
           "1413": 4.887166904,
           "1414": 7.461864401,
           "1415": 7.119055932,
           "1416": 7.023912955,
           "1417": 8.035217593,
           "1418": 5.6428244,
           "1419": 7.255163334,
           "142": null,
           "1420": 7.255163334,
           "1421": 4.642876406,
           "1422": 6.078404793,
           "1423": 4.804929608,
           "1424": 5.617686369,
           "1425": 6.977160964,
           "1426": 6.317162119,
           "1427": 9.127465075,
           "1428": 10.64326375,
           "1429": 6.322750274,
           "143": null,
           "1430": 8.847335575,
           "1431": 4.729856967,
           "1432": 4.849703069,
           "1433": 11.15374233,
           "1434": 11.43270178,
           "1435": 11.37470556,
           "1436": 11.36335215,
           "1437": 6.7419406,
           "1438": 11.77163981,
           "1439": 5.512735999,
           "144": null,
           "1440": 4.982373467,
           "1441": 5.245259564,
           "1442": 7.652627568,
           "1443": 7.720213888,
           "1444": 9.02076608,
           "1445": 11.42037955,
           "1446": 6.350836534,
           "1447": 7.742392473,
           "1448": 8.832460205,
           "1449": 6.374974836,
           "145": null,
           "1450": 6.807606498,
           "1451": 5.116295402,
           "1452": 6.31176416,
           "1453": 6.875272329,
           "1454": 5.425336698,
           "1455": 6.06877239,
           "1456": 9.58395451,
           "1457": 11.70078953,
           "1458": 8.725006801,
           "1459": 6.569355707,
           "146": null,
           "1460": 7.089594379,
           "1461": 8.089728856,
           "1462": 10.94163713,
           "1463": 5.936049316,
           "1464": 10.28684629,
           "1465": 8.213049843,
           "1466": 8.550002465,
           "1467": 10.76100453,
           "1468": 10.47084627,
           "1469": 10.49102026,
           "147": null,
           "1470": 4.832289737,
           "1471": 6.391261624,
           "1472": 8.384971241,
           "1473": 8.347193543,
           "1474": 10.39952881,
           "1475": 7.506356723,
           "1476": 11.50263523,
           "1477": 6.122823268,
           "1478": 5.916312976,
           "1479": 6.803250494,
           "148": null,
           "1480": 9.341392835,
           "1481": 8.076531557,
           "1482": 5.947234077,
           "1483": 6.217809909,
           "1484": 6.783460291,
           "1485": 5.143719709,
           "1486": 7.225207624,
           "1487": 10.464766,
           "1488": 7.018074769,
           "1489": 10.18723822,
           "149": null,
           "1490": 8.92069705,
           "1491": 6.600533249,
           "1492": 6.714602905,
           "1493": 5.774702458,
           "1494": 11.49104333,
           "1495": 10.95928299,
           "1496": 8.024447671,
           "1497": 11.45413012,
           "1498": 5.178040165,
           "1499": 5.57792385,
           "15": 7.023318316,
           "150": null,
           "1500": 7.37080911,
           "1501": 11.13361879,
           "1502": 7.231898308,
           "1503": 5.664263518,
           "1504": 8.479701686,
           "1505": 7.921963281,
           "1506": 4.960192093,
           "1507": 8.974289333,
           "1508": 8.239084928,
           "1509": 6.934957074,
           "151": null,
           "1510": 6.208326545,
           "1511": 6.233911552,
           "1512": 7.944331276,
           "1513": 8.064536127,
           "1514": 5.34115063,
           "1515": 9.768120832,
           "1516": 7.932559637,
           "1517": 9.265026785,
           "1518": 9.012420717,
           "1519": 8.622749915,
           "152": null,
           "1520": 9.104911577,
           "1521": 8.130622267,
           "1522": 5.670603586,
           "1523": 6.645062012,
           "1524": 7.089157546,
           "1525": 6.921351722,
           "1526": 5.816819294,
           "1527": 4.39669015,
           "1528": 8.752137386,
           "1529": 5.25144376,
           "153": null,
           "1530": 11.23989307,
           "1531": 10.00699659,
           "1532": 10.30896697,
           "1533": 5.919176138,
           "1534": 5.804904155,
           "1535": 5.702482554,
           "1536": 5.723005091,
           "1537": 7.608820027,
           "1538": 7.093628961,
           "1539": 6.283109574,
           "154": null,
           "1540": 5.672264447,
           "1541": 5.434905035,
           "1542": 6.072971666,
           "1543": 6.635594862,
           "1544": 6.494789863,
           "1545": 12.00313165,
           "1546": 7.156454314,
           "1547": 7.096000912,
           "1548": 8.075524454,
           "1549": 6.948775074,
           "155": null,
           "1550": 7.231898308,
           "1551": 5.690049355,
           "1552": 5.766746776,
           "1553": 8.982969016,
           "1554": 5.102446994,
           "1555": 5.55319898,
           "1556": 5.958566664,
           "1557": 7.392726654,
           "1558": 7.969278356,
           "1559": 7.967528444,
           "156": null,
           "1560": 5.279961092,
           "1561": 7.298151744,
           "1562": 7.008211921,
           "1563": 7.757467478,
           "1564": 6.348080025,
           "1565": 10.37142478,
           "1566": 5.516370712,
           "1567": 6.060178511,
           "1568": 5.412276165,
           "1569": 6.719606031,
           "157": null,
           "1570": 8.381184955,
           "1571": 8.72040808,
           "1572": 6.831446661,
           "1573": 6.159346353,
           "1574": 7.710653319,
           "1575": 5.341316986,
           "1576": 11.78448204,
           "1577": 7.42153999,
           "1578": 8.660013411,
           "1579": 7.670274959,
           "158": null,
           "1580": 9.864940977,
           "1581": 8.855267147,
           "1582": 5.610994249,
           "1583": 10.9877059,
           "1584": 7.403694691,
           "1585": 5.320212361,
           "1586": 5.118450989,
           "1587": 7.88182419,
           "1588": 6.92067604,
           "1589": 10.62012087,
           "159": null,
           "1590": 4.341786061,
           "1591": 6.672417386,
           "1592": 6.070712788,
           "1593": 5.517950384,
           "1594": 4.821239328,
           "1595": 10.67199273,
           "1596": 6.719182606,
           "1597": 5.627243928,
           "1598": 11.55644711,
           "1599": 9.142625934,
           "16": null,
           "160": null,
           "1600": 4.887166904,
           "1601": 11.291142,
           "1602": 9.652268996,
           "1603": 6.631587593,
           "1604": 7.493090202,
           "1605": 6.053604658,
           "1606": 9.274676402,
           "1607": 9.274676402,
           "1608": 6.058798227,
           "1609": 6.444511279,
           "161": null,
           "1610": 7.880528688,
           "1611": 5.296925977,
           "1612": 6.283368679,
           "1613": 11.3232325,
           "1614": 6.775594179,
           "1615": 5.464065217,
           "1616": 11.05789911,
           "1617": 5.852725506,
           "1618": 6.691242799,
           "1619": 5.102034795,
           "162": null,
           "1620": 8.550002465,
           "1621": 8.213049843,
           "1622": 6.810355823,
           "1623": 8.267028896,
           "1624": 6.161566034,
           "1625": 5.204163308,
           "1626": 8.174869381,
           "1627": 5.607201168,
           "1628": 11.27631953,
           "1629": 9.333252871,
           "163": null,
           "1630": 5.880730601,
           "1631": 5.19405846,
           "1632": 6.350836534,
           "1633": 10.63638803,
           "1634": 10.31548066,
           "1635": 9.024596131,
           "1636": 5.046746661,
           "1637": 7.216762987,
           "1638": 7.618648882,
           "1639": 6.254405355,
           "164": null,
           "1640": 6.344524618,
           "1641": 5.622751342,
           "1642": 7.35680342,
           "1643": 5.626301798,
           "1644": 7.675094181,
           "1645": 6.835437613,
           "1646": 5.53711989,
           "1647": 6.567938203,
           "1648": 10.66617205,
           "1649": 5.562053102,
           "165": null,
           "1650": 11.15695728,
           "1651": 9.829797893,
           "1652": 5.443426715,
           "1653": 6.674360253,
           "1654": 7.342965036,
           "1655": 10.31942064,
           "1656": 8.604695569,
           "1657": 10.26672324,
           "1658": 6.394367453,
           "1659": 10.79355722,
           "166": null,
           "1660": 6.823027644,
           "1661": 4.572642087,
           "1662": 4.953798318,
           "1663": 8.615121398,
           "1664": 4.990578986,
           "1665": 9.562160212,
           "1666": 7.002569457,
           "1667": 7.008733233,
           "1668": 6.2570905,
           "1669": 6.283880492,
           "167": null,
           "1670": 10.55321071,
           "1671": 10.78827758,
           "1672": 7.180925704,
           "1673": 7.502572243,
           "1674": 7.471865577,
           "1675": 4.836441199,
           "1676": 10.20962171,
           "1677": 7.058509041,
           "1678": 8.391897239,
           "1679": 7.093521459,
           "168": null,
           "1680": 7.051113768,
           "1681": 6.945814749,
           "1682": 7.251845338,
           "1683": 10.11611048,
           "1684": 6.001747496,
           "1685": 9.193358419,
           "1686": 6.358673494,
           "1687": 6.338088226,
           "1688": 5.351874063,
           "1689": 6.752844073,
           "169": 7.475520713,
           "1690": 10.99464575,
           "1691": 7.191497549,
           "1692": 7.191060764,
           "1693": 5.047624113,
           "1694": 6.263777037,
           "1695": 7.574892261,
           "1696": 4.96370937,
           "1697": 8.024447671,
           "1698": 8.543515146,
           "1699": 5.428679304,
           "17": null,
           "170": 10.73893639,
           "1700": 5.343325897,
           "1701": 5.955636028,
           "1702": 8.389413151,
           "1703": 6.170744252,
           "1704": 4.465162999,
           "1705": 5.270885819,
           "1706": 5.7327428,
           "1707": 5.394706198,
           "1708": 8.136268634,
           "1709": 7.257939376,
           "171": null,
           "1710": 7.200279161,
           "1711": 8.884597368,
           "1712": 5.147816863,
           "1713": 10.15018495,
           "1714": 5.78097839,
           "1715": 5.553576906,
           "1716": 5.130642856,
           "1717": 5.815554688,
           "1718": 8.705652261,
           "1719": 5.871874037,
           "172": null,
           "1720": 10.5242686,
           "1721": 7.098258712,
           "1722": 11.46872065,
           "1723": 5.129256611,
           "1724": 6.142528772,
           "1725": 4.694711182,
           "1726": 5.01212798,
           "1727": 6.824145135,
           "1728": 4.7311072769999996,
           "1729": 6.972317331,
           "173": 9.048942827,
           "1730": 6.09815534,
           "1731": 9.809863223,
           "1732": 8.703420777,
           "1733": 9.278232648,
           "1734": 8.902479999,
           "1735": 5.463954795,
           "1736": 4.647760387,
           "1737": 4.622948165,
           "1738": 11.068894,
           "1739": 10.66482915,
           "174": 5.603958338,
           "1740": 5.147587828,
           "1741": 5.397337377,
           "1742": 8.43779051,
           "1743": 7.688785511,
           "1744": 8.736098451,
           "1745": 7.598994359,
           "1746": 6.950603171,
           "1747": 6.434253844,
           "1748": 10.39527725,
           "1749": 5.016757601,
           "175": 6.186306309,
           "1750": 6.166714611,
           "1751": 11.46205417,
           "1752": 7.138595705,
           "1753": 5.236313976,
           "1754": 5.469299103,
           "1755": 4.832289737,
           "1756": 4.541606817,
           "1757": 11.76240184,
           "1758": 11.61899543,
           "1759": 5.871520522,
           "176": null,
           "1760": 10.13515382,
           "1761": 4.416561646,
           "1762": 6.231462117,
           "1763": 6.264376772,
           "1764": 6.936382676,
           "1765": 5.66103672,
           "1766": 11.2061984,
           "1767": 5.265811902,
           "1768": 8.561316338,
           "1769": 7.778795665,
           "177": null,
           "1770": 7.770127059,
           "1771": 11.46096408,
           "1772": 8.183012495,
           "1773": 5.205649983,
           "1774": 7.597682182,
           "1775": 9.787160548,
           "1776": 10.73009531,
           "1777": 6.502169293,
           "1778": 11.6593229,
           "1779": 8.84731476,
           "178": 8.858435139,
           "1780": 7.577561348,
           "1781": 10.99727821,
           "1782": 10.43872128,
           "1783": 6.603051329,
           "1784": 7.753546511,
           "1785": 10.24855749,
           "1786": 7.155234534,
           "1787": 7.055592081,
           "1788": 5.929853601,
           "1789": 5.37875365,
           "179": 6.140057087,
           "1790": 7.944048653,
           "1791": 8.040545533,
           "1792": 5.189557474,
           "1793": 11.43309701,
           "1794": 10.76832255,
           "1795": 5.230390692,
           "1796": 4.946520576,
           "1797": 4.887166904,
           "1798": 6.598199989,
           "1799": 6.387160323,
           "18": 6.703059165,
           "180": 10.23708693,
           "1800": 8.018737534,
           "1801": 9.24678033,
           "1802": 6.479938201,
           "1803": 6.369775942,
           "1804": 5.799371476,
           "1805": 5.684386582,
           "1806": 8.14766422,
           "1807": 9.620731028,
           "1808": null,
           "1809": null,
           "181": null,
           "1810": null,
           "1811": null,
           "1812": null,
           "1813": null,
           "1814": null,
           "1815": null,
           "1816": null,
           "1817": null,
           "1818": null,
           "1819": null,
           "182": 5.178040165,
           "1820": null,
           "1821": null,
           "1822": null,
           "1823": null,
           "1824": null,
           "1825": null,
           "1826": null,
           "1827": null,
           "1828": null,
           "1829": null,
           "183": null,
           "1830": null,
           "1831": null,
           "1832": null,
           "1833": null,
           "1834": null,
           "1835": null,
           "1836": null,
           "1837": null,
           "1838": null,
           "1839": null,
           "184": null,
           "1840": null,
           "1841": null,
           "1842": null,
           "1843": null,
           "1844": null,
           "1845": null,
           "1846": null,
           "1847": null,
           "1848": null,
           "1849": null,
           "185": null,
           "1850": null,
           "1851": null,
           "1852": null,
           "1853": null,
           "1854": null,
           "1855": null,
           "1856": null,
           "1857": null,
           "1858": null,
           "1859": 7.53354447,
           "186": null,
           "1860": 9.540330254,
           "1861": 4.260196201,
           "1862": 5.364260722,
           "1863": null,
           "1864": null,
           "1865": null,
           "1866": null,
           "1867": null,
           "1868": null,
           "1869": 6.557165526,
           "187": null,
           "1870": 8.263027473,
           "1871": 9.060248444,
           "1872": 5.748100034,
           "1873": 10.8771473,
           "1874": 7.696778545,
           "1875": 8.377031093,
           "1876": 8.840473599,
           "1877": 6.693385021,
           "1878": 10.63837198,
           "1879": 6.042945519,
           "188": null,
           "1880": 7.439827832,
           "1881": 5.745969688,
           "1882": 9.487619663,
           "1883": null,
           "1884": 9.335989058,
           "1885": 5.250046456,
           "1886": 8.657192323,
           "1887": 5.646277898,
           "1888": null,
           "1889": 7.298428767,
           "189": null,
           "1890": 10.82848618,
           "1891": 5.562390587,
           "1892": 11.10818081,
           "1893": 7.124136583,
           "1894": 7.330266531,
           "1895": 5.553188431,
           "1896": 10.50323326,
           "1897": 10.48863176,
           "1898": 7.508390393,
           "1899": 7.371821521,
           "19": null,
           "190": null,
           "1900": 10.3702961,
           "1901": 5.988751425,
           "1902": 5.997978417,
           "1903": null,
           "1904": 5.08578352,
           "1905": 5.598023015,
           "1906": 4.449127304,
           "1907": 6.136928672,
           "1908": 9.846592517,
           "1909": 7.999967998,
           "191": null,
           "1910": 8.756504548,
           "1911": 5.547632877,
           "1912": 11.65161503,
           "1913": 11.51570404,
           "1914": 6.103868368,
           "1915": 7.422930471,
           "1916": 5.946149597,
           "1917": 7.725315434,
           "1918": 7.651119205,
           "1919": 5.307575744,
           "192": null,
           "1920": 9.065872667,
           "1921": 9.01820235,
           "1922": 8.652494688,
           "1923": 10.58382915,
           "1924": 6.123360406,
           "1925": 11.59373539,
           "1926": 6.655556844,
           "1927": null,
           "1928": 9.762896351,
           "1929": 9.603814891,
           "193": null,
           "1930": 5.604128329,
           "1931": 9.004495038,
           "1932": 4.065554358,
           "1933": 8.438019136,
           "1934": 5.408292902,
           "1935": 5.941376781,
           "1936": 4.985107945,
           "1937": 9.077587188,
           "1938": 11.74468654,
           "1939": 7.591003624,
           "194": null,
           "1940": 8.136790877,
           "1941": 9.161393887,
           "1942": 8.261854031,
           "1943": 4.341786061,
           "1944": 10.63005759,
           "1945": null,
           "1946": null,
           "1947": 10.05944572,
           "1948": 7.455747071,
           "1949": 5.079168965,
           "195": null,
           "1950": 6.123094195,
           "1951": 11.32065193,
           "1952": 9.025685508,
           "1953": 10.79707962,
           "1954": 5.101174874,
           "1955": 6.001059572,
           "1956": 6.655554272,
           "1957": 8.752605504,
           "1958": 5.76951058,
           "1959": 9.135556668,
           "196": null,
           "1960": 5.621853795,
           "1961": 8.557203066,
           "1962": 7.042271615,
           "1963": null,
           "1964": 6.655254322,
           "1965": null,
           "1966": 7.370198647,
           "1967": 7.252395509,
           "1968": null,
           "1969": 8.784401219,
           "197": null,
           "1970": null,
           "1971": 5.855210645,
           "1972": 11.34516785,
           "1973": null,
           "1974": 4.835344062,
           "1975": 6.851543124,
           "1976": 9.773606061,
           "1977": null,
           "1978": 5.459269329,
           "1979": 11.01906048,
           "198": null,
           "1980": 7.666711472,
           "1981": 8.319627462,
           "1982": 6.66469172,
           "1983": 8.508174186,
           "1984": 7.42099061,
           "1985": 7.511582872,
           "1986": 9.30858695,
           "1987": null,
           "1988": 5.683509688,
           "1989": 11.4160684,
           "199": null,
           "1990": 7.770286019,
           "1991": 6.878698784,
           "1992": 8.825674804,
           "1993": 6.500534056,
           "1994": 11.52492866,
           "1995": null,
           "1996": 10.60653123,
           "1997": 7.223073341,
           "1998": 7.132831622,
           "1999": 6.752667438,
           "2": 10.84734104,
           "20": 5.177361816,
           "200": null,
           "2000": 5.66819249,
           "2001": 5.988354462,
           "2002": 7.455494302,
           "2003": null,
           "2004": 6.393106023,
           "2005": 7.068654543,
           "2006": 8.591455258,
           "2007": 6.345184023,
           "2008": 10.7767342,
           "2009": 9.773638999,
           "201": null,
           "2010": 5.138663827,
           "2011": 6.470081015,
           "2012": 6.472038462,
           "2013": 4.821938546,
           "2014": 7.631877868,
           "2015": 11.23175402,
           "2016": 6.971741461,
           "2017": 10.79546078,
           "2018": 5.961575004,
           "2019": 4.609747943,
           "202": null,
           "2020": 9.271700868,
           "2021": 8.94221645,
           "2022": 6.365557758,
           "2023": 7.822912271,
           "2024": 5.896936895,
           "2025": 5.886739642,
           "2026": 9.082943715,
           "2027": 6.963298287,
           "2028": 6.345671491,
           "2029": 10.40670812,
           "203": null,
           "2030": 9.991074531,
           "2031": 8.012939215,
           "2032": 6.288319831,
           "2033": 8.474480391,
           "2034": 7.722956147,
           "2035": 10.78989381,
           "2036": 8.037175686,
           "2037": 8.484749129,
           "2038": 7.716485019,
           "2039": 7.967793834,
           "204": null,
           "2040": 7.93651272,
           "2041": 11.39113306,
           "2042": 8.141702858,
           "2043": 9.192701207,
           "2044": 4.917378671,
           "2045": 4.867087554,
           "2046": 4.644049835,
           "2047": 5.307575744,
           "2048": 8.913875341,
           "2049": 8.891952627,
           "205": null,
           "2050": 7.499247097,
           "2051": 7.854554031,
           "2052": 7.994437249,
           "2053": 5.770020243,
           "2054": 5.263338324,
           "2055": 9.083331131,
           "2056": 7.03207453,
           "2057": 5.036774582,
           "2058": 8.70366054,
           "2059": 10.02452112,
           "206": null,
           "2060": null,
           "2061": 5.827679101,
           "2062": 7.381238772,
           "2063": 5.780677165,
           "2064": null,
           "2065": 5.896465415,
           "2066": 5.390892377,
           "2067": 9.223684999,
           "2068": 5.065826266,
           "2069": 8.853891218,
           "207": null,
           "2070": 10.78512138,
           "2071": 11.22563107,
           "2072": 6.989379256,
           "2073": null,
           "2074": 6.124621199,
           "2075": 4.986223414,
           "2076": 6.456832282,
           "2077": 5.622736194,
           "2078": 7.460458315,
           "2079": 4.545472201,
           "208": null,
           "2080": 6.769289098,
           "2081": 6.487406437,
           "2082": 5.999769613,
           "2083": null,
           "2084": 8.48144529,
           "2085": 5.551902953,
           "2086": null,
           "2087": 7.400016913,
           "2088": 7.28128454,
           "2089": 8.849152059,
           "209": null,
           "2090": 7.205657727,
           "2091": 4.497644199,
           "2092": 8.906128064,
           "2093": null,
           "2094": 7.365546994,
           "2095": null,
           "2096": 9.913471414,
           "2097": 11.6825917,
           "2098": null,
           "2099": 4.642876406,
           "21": 5.230078575,
           "210": null,
           "2100": null,
           "2101": 8.381972738,
           "2102": 5.559675952,
           "2103": 6.873568155,
           "2104": 8.282856868,
           "2105": 6.235980358,
           "2106": 7.351852947,
           "2107": 8.280624549,
           "2108": 11.43686317,
           "2109": null,
           "211": null,
           "2110": 9.097366197,
           "2111": 11.42083212,
           "2112": 6.58743844,
           "2113": 9.787160548,
           "2114": 8.248288892,
           "2115": 4.475215605,
           "2116": 5.620404406,
           "2117": 8.010209468,
           "2118": 11.46373281,
           "2119": 7.280753666,
           "212": null,
           "2120": null,
           "2121": 6.606406456,
           "2122": 5.930626301,
           "2123": 6.480490608,
           "2124": 6.438919297,
           "2125": null,
           "2126": 7.476684187,
           "2127": 10.60140161,
           "2128": 6.575216806,
           "2129": 8.493235124,
           "213": null,
           "2130": null,
           "2131": null,
           "214": null,
           "215": null,
           "216": null,
           "217": null,
           "218": null,
           "219": null,
           "22": 5.194586191,
           "220": null,
           "221": null,
           "222": null,
           "223": null,
           "224": null,
           "225": null,
           "226": null,
           "227": null,
           "228": null,
           "229": null,
           "23": 5.402089513,
           "230": null,
           "231": null,
           "232": null,
           "233": null,
           "234": null,
           "235": null,
           "236": null,
           "237": null,
           "238": null,
           "239": null,
           "24": 10.72489063,
           "240": null,
           "241": null,
           "242": null,
           "243": null,
           "244": null,
           "245": null,
           "246": null,
           "247": null,
           "248": null,
           "249": null,
           "25": 4.6147665,
           "250": null,
           "251": null,
           "252": null,
           "253": null,
           "254": null,
           "255": null,
           "256": null,
           "257": null,
           "258": null,
           "259": null,
           "26": 7.057600357,
           "260": null,
           "261": null,
           "262": null,
           "263": null,
           "264": null,
           "265": null,
           "266": null,
           "267": null,
           "268": null,
           "269": null,
           "27": 6.986880558,
           "270": null,
           "271": null,
           "272": null,
           "273": null,
           "274": null,
           "275": null,
           "276": null,
           "277": null,
           "278": null,
           "279": null,
           "28": 6.865440752,
           "280": null,
           "281": null,
           "282": null,
           "283": null,
           "284": null,
           "285": null,
           "286": null,
           "287": null,
           "288": null,
           "289": null,
           "29": 7.312739445,
           "290": null,
           "291": null,
           "292": null,
           "293": null,
           "294": null,
           "295": null,
           "296": null,
           "297": null,
           "298": null,
           "299": null,
           "3": 4.861728084,
           "30": 9.814316842,
           "300": null,
           "301": null,
           "302": null,
           "303": null,
           "304": null,
           "305": null,
           "306": null,
           "307": null,
           "308": null,
           "309": null,
           "31": 5.842003743,
           "310": null,
           "311": null,
           "312": null,
           "313": null,
           "314": null,
           "315": null,
           "316": null,
           "317": null,
           "318": null,
           "319": null,
           "32": 8.872535614,
           "320": null,
           "321": null,
           "322": null,
           "323": null,
           "324": 11.18617094,
           "325": null,
           "326": null,
           "327": null,
           "328": null,
           "329": null,
           "33": 7.906725069,
           "330": null,
           "331": null,
           "332": null,
           "333": null,
           "334": null,
           "335": null,
           "336": null,
           "337": null,
           "338": null,
           "339": null,
           "34": 4.702032454,
           "340": null,
           "341": null,
           "342": null,
           "343": null,
           "344": null,
           "345": null,
           "346": null,
           "347": null,
           "348": null,
           "349": null,
           "35": 9.784464481,
           "350": 7.684036589,
           "351": null,
           "352": null,
           "353": null,
           "354": null,
           "355": null,
           "356": null,
           "357": null,
           "358": null,
           "359": null,
           "36": 7.010389913,
           "360": null,
           "361": null,
           "362": null,
           "363": null,
           "364": null,
           "365": null,
           "366": null,
           "367": null,
           "368": null,
           "369": null,
           "37": 6.152857794,
           "370": null,
           "371": null,
           "372": null,
           "373": 6.43087828,
           "374": null,
           "375": null,
           "376": null,
           "377": null,
           "378": null,
           "379": null,
           "38": 10.61502484,
           "380": null,
           "381": null,
           "382": null,
           "383": null,
           "384": null,
           "385": null,
           "386": null,
           "387": null,
           "388": null,
           "389": null,
           "39": 5.420724325,
           "390": null,
           "391": null,
           "392": null,
           "393": null,
           "394": null,
           "395": null,
           "396": null,
           "397": null,
           "398": null,
           "399": null,
           "4": null,
           "40": 9.347196209,
           "400": null,
           "401": null,
           "402": null,
           "403": null,
           "404": null,
           "405": null,
           "406": null,
           "407": null,
           "408": null,
           "409": null,
           "41": 9.617845035,
           "410": null,
           "411": null,
           "412": null,
           "413": null,
           "414": null,
           "415": null,
           "416": null,
           "417": null,
           "418": null,
           "419": null,
           "42": 5.923039374,
           "420": null,
           "421": null,
           "422": null,
           "423": null,
           "424": null,
           "425": null,
           "426": null,
           "427": null,
           "428": null,
           "429": null,
           "43": 5.133386908,
           "430": null,
           "431": null,
           "432": null,
           "433": null,
           "434": null,
           "435": null,
           "436": null,
           "437": null,
           "438": null,
           "439": null,
           "44": 6.808732557,
           "440": null,
           "441": null,
           "442": null,
           "443": null,
           "444": null,
           "445": null,
           "446": null,
           "447": null,
           "448": null,
           "449": null,
           "45": 7.487142774,
           "450": null,
           "451": null,
           "452": null,
           "453": null,
           "454": null,
           "455": null,
           "456": null,
           "457": null,
           "458": null,
           "459": null,
           "46": 4.935476199,
           "460": null,
           "461": null,
           "462": null,
           "463": null,
           "464": null,
           "465": null,
           "466": null,
           "467": null,
           "468": null,
           "469": null,
           "47": 9.232618188,
           "470": null,
           "471": null,
           "472": null,
           "473": null,
           "474": null,
           "475": null,
           "476": null,
           "477": null,
           "478": null,
           "479": null,
           "48": 8.568887393,
           "480": null,
           "481": null,
           "482": null,
           "483": null,
           "484": null,
           "485": null,
           "486": null,
           "487": null,
           "488": null,
           "489": null,
           "49": 8.120188611,
           "490": null,
           "491": null,
           "492": null,
           "493": null,
           "494": null,
           "495": null,
           "496": null,
           "497": null,
           "498": null,
           "499": null,
           "5": 3.569474603,
           "50": 8.270025741,
           "500": null,
           "501": null,
           "502": null,
           "503": null,
           "504": null,
           "505": null,
           "506": null,
           "507": null,
           "508": null,
           "509": null,
           "51": 10.69166931,
           "510": null,
           "511": null,
           "512": null,
           "513": null,
           "514": null,
           "515": null,
           "516": null,
           "517": null,
           "518": null,
           "519": null,
           "52": 8.578099824,
           "520": null,
           "521": null,
           "522": null,
           "523": null,
           "524": null,
           "525": null,
           "526": null,
           "527": null,
           "528": null,
           "529": null,
           "53": null,
           "530": null,
           "531": null,
           "532": null,
           "533": null,
           "534": null,
           "535": null,
           "536": null,
           "537": 8.131585547,
           "538": null,
           "539": null,
           "54": null,
           "540": null,
           "541": null,
           "542": null,
           "543": null,
           "544": null,
           "545": null,
           "546": null,
           "547": null,
           "548": null,
           "549": null,
           "55": null,
           "550": null,
           "551": null,
           "552": null,
           "553": null,
           "554": null,
           "555": null,
           "556": null,
           "557": null,
           "558": null,
           "559": null,
           "56": null,
           "560": null,
           "561": null,
           "562": null,
           "563": null,
           "564": null,
           "565": 5.94204389,
           "566": null,
           "567": null,
           "568": null,
           "569": null,
           "57": null,
           "570": null,
           "571": null,
           "572": null,
           "573": null,
           "574": null,
           "575": null,
           "576": null,
           "577": null,
           "578": null,
           "579": null,
           "58": null,
           "580": null,
           "581": null,
           "582": null,
           "583": null,
           "584": null,
           "585": null,
           "586": null,
           "587": null,
           "588": null,
           "589": null,
           "59": null,
           "590": null,
           "591": null,
           "592": null,
           "593": null,
           "594": null,
           "595": null,
           "596": null,
           "597": null,
           "598": null,
           "599": null,
           "6": 5.554656884,
           "60": null,
           "600": null,
           "601": null,
           "602": null,
           "603": null,
           "604": null,
           "605": null,
           "606": null,
           "607": null,
           "608": null,
           "609": null,
           "61": null,
           "610": null,
           "611": null,
           "612": null,
           "613": null,
           "614": null,
           "615": 11.15348718,
           "616": null,
           "617": null,
           "618": null,
           "619": null,
           "62": null,
           "620": null,
           "621": null,
           "622": null,
           "623": null,
           "624": null,
           "625": null,
           "626": null,
           "627": null,
           "628": null,
           "629": null,
           "63": null,
           "630": null,
           "631": null,
           "632": null,
           "633": null,
           "634": null,
           "635": null,
           "636": null,
           "637": null,
           "638": null,
           "639": null,
           "64": null,
           "640": null,
           "641": null,
           "642": null,
           "643": null,
           "644": null,
           "645": null,
           "646": null,
           "647": null,
           "648": 10.66617205,
           "649": null,
           "65": null,
           "650": null,
           "651": null,
           "652": null,
           "653": null,
           "654": null,
           "655": null,
           "656": null,
           "657": null,
           "658": null,
           "659": null,
           "66": null,
           "660": null,
           "661": null,
           "662": null,
           "663": null,
           "664": null,
           "665": null,
           "666": null,
           "667": null,
           "668": null,
           "669": null,
           "67": null,
           "670": null,
           "671": null,
           "672": 10.89760383,
           "673": null,
           "674": null,
           "675": null,
           "676": null,
           "677": null,
           "678": null,
           "679": null,
           "68": null,
           "680": null,
           "681": null,
           "682": null,
           "683": null,
           "684": null,
           "685": null,
           "686": null,
           "687": null,
           "688": null,
           "689": null,
           "69": null,
           "690": null,
           "691": null,
           "692": null,
           "693": null,
           "694": null,
           "695": null,
           "696": null,
           "697": null,
           "698": null,
           "699": null,
           "7": 10.79708862,
           "70": null,
           "700": null,
           "701": null,
           "702": null,
           "703": null,
           "704": null,
           "705": null,
           "706": null,
           "707": null,
           "708": null,
           "709": null,
           "71": null,
           "710": null,
           "711": null,
           "712": null,
           "713": null,
           "714": null,
           "715": null,
           "716": null,
           "717": null,
           "718": null,
           "719": null,
           "72": null,
           "720": null,
           "721": null,
           "722": null,
           "723": null,
           "724": null,
           "725": null,
           "726": null,
           "727": null,
           "728": null,
           "729": null,
           "73": null,
           "730": null,
           "731": null,
           "732": null,
           "733": null,
           "734": null,
           "735": null,
           "736": null,
           "737": null,
           "738": null,
           "739": null,
           "74": null,
           "740": null,
           "741": null,
           "742": null,
           "743": null,
           "744": null,
           "745": null,
           "746": null,
           "747": null,
           "748": null,
           "749": null,
           "75": null,
           "750": null,
           "751": null,
           "752": null,
           "753": 7.620153478,
           "754": null,
           "755": null,
           "756": null,
           "757": null,
           "758": null,
           "759": null,
           "76": null,
           "760": null,
           "761": null,
           "762": null,
           "763": null,
           "764": null,
           "765": null,
           "766": null,
           "767": null,
           "768": null,
           "769": null,
           "77": null,
           "770": null,
           "771": null,
           "772": null,
           "773": null,
           "774": null,
           "775": null,
           "776": null,
           "777": null,
           "778": null,
           "779": null,
           "78": null,
           "780": null,
           "781": null,
           "782": null,
           "783": null,
           "784": null,
           "785": null,
           "786": null,
           "787": null,
           "788": null,
           "789": null,
           "79": null,
           "790": null,
           "791": null,
           "792": null,
           "793": null,
           "794": null,
           "795": null,
           "796": null,
           "797": null,
           "798": null,
           "799": null,
           "8": 10.82710161,
           "80": null,
           "800": null,
           "801": 10.4328563,
           "802": null,
           "803": null,
           "804": null,
           "805": null,
           "806": null,
           "807": null,
           "808": null,
           "809": null,
           "81": null,
           "810": null,
           "811": null,
           "812": null,
           "813": null,
           "814": null,
           "815": null,
           "816": null,
           "817": null,
           "818": null,
           "819": null,
           "82": null,
           "820": null,
           "821": null,
           "822": null,
           "823": null,
           "824": null,
           "825": null,
           "826": null,
           "827": null,
           "828": null,
           "829": null,
           "83": null,
           "830": null,
           "831": null,
           "832": null,
           "833": null,
           "834": null,
           "835": null,
           "836": null,
           "837": null,
           "838": null,
           "839": null,
           "84": null,
           "840": null,
           "841": null,
           "842": null,
           "843": null,
           "844": null,
           "845": null,
           "846": null,
           "847": null,
           "848": null,
           "849": null,
           "85": null,
           "850": null,
           "851": null,
           "852": null,
           "853": null,
           "854": null,
           "855": null,
           "856": null,
           "857": null,
           "858": null,
           "859": 8.712348493,
           "86": null,
           "860": null,
           "861": null,
           "862": null,
           "863": null,
           "864": null,
           "865": null,
           "866": null,
           "867": null,
           "868": null,
           "869": null,
           "87": null,
           "870": null,
           "871": null,
           "872": null,
           "873": null,
           "874": null,
           "875": null,
           "876": null,
           "877": null,
           "878": null,
           "879": null,
           "88": null,
           "880": null,
           "881": null,
           "882": null,
           "883": null,
           "884": null,
           "885": null,
           "886": null,
           "887": 4.66682071,
           "888": null,
           "889": null,
           "89": null,
           "890": null,
           "891": null,
           "892": null,
           "893": null,
           "894": null,
           "895": null,
           "896": null,
           "897": null,
           "898": null,
           "899": null,
           "9": null,
           "90": null,
           "900": null,
           "901": null,
           "902": null,
           "903": null,
           "904": null,
           "905": null,
           "906": null,
           "907": null,
           "908": null,
           "909": null,
           "91": null,
           "910": null,
           "911": null,
           "912": null,
           "913": null,
           "914": null,
           "915": null,
           "916": null,
           "917": null,
           "918": null,
           "919": null,
           "92": null,
           "920": null,
           "921": null,
           "922": null,
           "923": null,
           "924": null,
           "925": null,
           "926": null,
           "927": null,
           "928": null,
           "929": null,
           "93": null,
           "930": null,
           "931": null,
           "932": null,
           "933": null,
           "934": null,
           "935": null,
           "936": null,
           "937": null,
           "938": null,
           "939": null,
           "94": null,
           "940": null,
           "941": null,
           "942": null,
           "943": null,
           "944": null,
           "945": 7.112824533,
           "946": null,
           "947": null,
           "948": null,
           "949": null,
           "95": null,
           "950": null,
           "951": null,
           "952": null,
           "953": null,
           "954": null,
           "955": null,
           "956": null,
           "957": null,
           "958": null,
           "959": null,
           "96": null,
           "960": null,
           "961": null,
           "962": null,
           "963": null,
           "964": null,
           "965": null,
           "966": null,
           "967": null,
           "968": null,
           "969": null,
           "97": null,
           "970": null,
           "971": null,
           "972": null,
           "973": null,
           "974": null,
           "975": null,
           "976": null,
           "977": null,
           "978": null,
           "979": null,
           "98": null,
           "980": null,
           "981": null,
           "982": null,
           "983": null,
           "984": null,
           "985": null,
           "986": null,
           "987": null,
           "988": 8.574728513,
           "989": null,
           "99": null,
           "990": null,
           "991": null,
           "992": null,
           "993": null,
           "994": null,
           "995": null,
           "996": null,
           "997": null,
           "998": 10.95888303,
           "999": null,
           "bdata": "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",
           "dtype": "f8",
           "shape": "2132"
          },
          "bdata": "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",
          "dtype": "f8"
         },
         "y": {
          "_inputArray": {
           "0": 5.769230769230769,
           "1": null,
           "10": 4.918032786885246,
           "100": null,
           "1000": 0,
           "1001": null,
           "1002": null,
           "1003": null,
           "1004": null,
           "1005": null,
           "1006": null,
           "1007": null,
           "1008": null,
           "1009": null,
           "101": null,
           "1010": null,
           "1011": null,
           "1012": null,
           "1013": null,
           "1014": null,
           "1015": null,
           "1016": null,
           "1017": null,
           "1018": null,
           "1019": null,
           "102": null,
           "1020": null,
           "1021": null,
           "1022": null,
           "1023": null,
           "1024": null,
           "1025": null,
           "1026": null,
           "1027": null,
           "1028": null,
           "1029": null,
           "103": null,
           "1030": null,
           "1031": null,
           "1032": null,
           "1033": 0,
           "1034": null,
           "1035": null,
           "1036": null,
           "1037": null,
           "1038": null,
           "1039": null,
           "104": null,
           "1040": null,
           "1041": null,
           "1042": null,
           "1043": null,
           "1044": null,
           "1045": null,
           "1046": null,
           "1047": null,
           "1048": null,
           "1049": null,
           "105": null,
           "1050": null,
           "1051": null,
           "1052": null,
           "1053": 0,
           "1054": null,
           "1055": null,
           "1056": null,
           "1057": null,
           "1058": null,
           "1059": null,
           "106": null,
           "1060": null,
           "1061": null,
           "1062": null,
           "1063": null,
           "1064": null,
           "1065": null,
           "1066": null,
           "1067": null,
           "1068": null,
           "1069": null,
           "107": null,
           "1070": null,
           "1071": null,
           "1072": null,
           "1073": null,
           "1074": null,
           "1075": null,
           "1076": null,
           "1077": null,
           "1078": null,
           "1079": null,
           "108": null,
           "1080": null,
           "1081": null,
           "1082": null,
           "1083": null,
           "1084": null,
           "1085": null,
           "1086": null,
           "1087": null,
           "1088": null,
           "1089": null,
           "109": null,
           "1090": null,
           "1091": null,
           "1092": null,
           "1093": null,
           "1094": null,
           "1095": null,
           "1096": null,
           "1097": null,
           "1098": null,
           "1099": null,
           "11": 3.4482758620689653,
           "110": null,
           "1100": null,
           "1101": null,
           "1102": null,
           "1103": null,
           "1104": null,
           "1105": null,
           "1106": null,
           "1107": null,
           "1108": null,
           "1109": null,
           "111": null,
           "1110": null,
           "1111": null,
           "1112": null,
           "1113": null,
           "1114": null,
           "1115": null,
           "1116": null,
           "1117": null,
           "1118": null,
           "1119": null,
           "112": null,
           "1120": null,
           "1121": null,
           "1122": null,
           "1123": null,
           "1124": null,
           "1125": null,
           "1126": null,
           "1127": null,
           "1128": null,
           "1129": null,
           "113": null,
           "1130": null,
           "1131": null,
           "1132": null,
           "1133": null,
           "1134": null,
           "1135": null,
           "1136": null,
           "1137": null,
           "1138": null,
           "1139": null,
           "114": 0,
           "1140": null,
           "1141": null,
           "1142": null,
           "1143": null,
           "1144": null,
           "1145": null,
           "1146": null,
           "1147": null,
           "1148": null,
           "1149": null,
           "115": 0,
           "1150": null,
           "1151": null,
           "1152": null,
           "1153": null,
           "1154": null,
           "1155": null,
           "1156": null,
           "1157": null,
           "1158": 0,
           "1159": null,
           "116": null,
           "1160": null,
           "1161": null,
           "1162": null,
           "1163": null,
           "1164": null,
           "1165": null,
           "1166": null,
           "1167": null,
           "1168": null,
           "1169": null,
           "117": null,
           "1170": null,
           "1171": null,
           "1172": null,
           "1173": null,
           "1174": null,
           "1175": null,
           "1176": null,
           "1177": null,
           "1178": null,
           "1179": null,
           "118": null,
           "1180": null,
           "1181": null,
           "1182": null,
           "1183": null,
           "1184": null,
           "1185": null,
           "1186": null,
           "1187": 0,
           "1188": 0,
           "1189": null,
           "119": null,
           "1190": null,
           "1191": null,
           "1192": 0,
           "1193": 0,
           "1194": null,
           "1195": 0,
           "1196": 0,
           "1197": 0,
           "1198": null,
           "1199": 0,
           "12": 11.76470588235294,
           "120": 0,
           "1200": null,
           "1201": 0,
           "1202": null,
           "1203": 0,
           "1204": null,
           "1205": 0,
           "1206": 0,
           "1207": 0,
           "1208": 0,
           "1209": null,
           "121": null,
           "1210": 17.77777777777778,
           "1211": 0,
           "1212": null,
           "1213": null,
           "1214": null,
           "1215": 0,
           "1216": null,
           "1217": 0,
           "1218": 0,
           "1219": null,
           "122": null,
           "1220": null,
           "1221": null,
           "1222": null,
           "1223": 0,
           "1224": 0,
           "1225": 0,
           "1226": null,
           "1227": 0,
           "1228": 0,
           "1229": 0,
           "123": null,
           "1230": 0,
           "1231": null,
           "1232": null,
           "1233": 0,
           "1234": null,
           "1235": 0,
           "1236": 0,
           "1237": null,
           "1238": null,
           "1239": 0,
           "124": null,
           "1240": 0,
           "1241": null,
           "1242": null,
           "1243": 0,
           "1244": 0,
           "1245": 0,
           "1246": 0,
           "1247": 0,
           "1248": 0,
           "1249": null,
           "125": null,
           "1250": null,
           "1251": 0,
           "1252": 16.666666666666664,
           "1253": null,
           "1254": null,
           "1255": 0,
           "1256": 0,
           "1257": 0,
           "1258": null,
           "1259": null,
           "126": null,
           "1260": null,
           "1261": null,
           "1262": 0,
           "1263": 42.857142857142854,
           "1264": 0,
           "1265": 0,
           "1266": 0,
           "1267": 0,
           "1268": 0,
           "1269": 50,
           "127": null,
           "1270": 16,
           "1271": null,
           "1272": null,
           "1273": 0,
           "1274": null,
           "1275": 0,
           "1276": null,
           "1277": 0,
           "1278": 0,
           "1279": 0,
           "128": null,
           "1280": null,
           "1281": null,
           "1282": null,
           "1283": 0,
           "1284": null,
           "1285": null,
           "1286": null,
           "1287": null,
           "1288": null,
           "1289": 50,
           "129": null,
           "1290": 0,
           "1291": 0,
           "1292": null,
           "1293": null,
           "1294": null,
           "1295": 0,
           "1296": 27.77777777777778,
           "1297": 0,
           "1298": 0,
           "1299": 0,
           "13": 66.66666666666666,
           "130": null,
           "1300": 0,
           "1301": 40,
           "1302": 0,
           "1303": 0,
           "1304": null,
           "1305": 0,
           "1306": 0,
           "1307": null,
           "1308": 10,
           "1309": 0,
           "131": null,
           "1310": null,
           "1311": null,
           "1312": 0,
           "1313": 0,
           "1314": null,
           "1315": 0,
           "1316": 50,
           "1317": null,
           "1318": 0,
           "1319": null,
           "132": null,
           "1320": 0,
           "1321": null,
           "1322": 0,
           "1323": null,
           "1324": null,
           "1325": 100,
           "1326": null,
           "1327": 0,
           "1328": null,
           "1329": null,
           "133": null,
           "1330": 0,
           "1331": null,
           "1332": null,
           "1333": 0,
           "1334": null,
           "1335": 0,
           "1336": null,
           "1337": 0,
           "1338": 0,
           "1339": 77.77777777777779,
           "134": null,
           "1340": 0,
           "1341": null,
           "1342": 0,
           "1343": 0,
           "1344": null,
           "1345": null,
           "1346": null,
           "1347": null,
           "1348": 22.448979591836736,
           "1349": 0,
           "135": 50,
           "1350": 0,
           "1351": 0,
           "1352": 17.142857142857142,
           "1353": 0,
           "1354": null,
           "1355": null,
           "1356": 41.17647058823529,
           "1357": 0,
           "1358": 0,
           "1359": 25,
           "136": null,
           "1360": null,
           "1361": null,
           "1362": 0,
           "1363": 0,
           "1364": 0,
           "1365": 0,
           "1366": null,
           "1367": null,
           "1368": null,
           "1369": null,
           "137": null,
           "1370": null,
           "1371": null,
           "1372": null,
           "1373": null,
           "1374": null,
           "1375": null,
           "1376": 14.285714285714285,
           "1377": null,
           "1378": 0,
           "1379": null,
           "138": null,
           "1380": null,
           "1381": 0,
           "1382": 10.526315789473683,
           "1383": 0,
           "1384": null,
           "1385": null,
           "1386": null,
           "1387": null,
           "1388": 11.976047904191617,
           "1389": 0,
           "139": null,
           "1390": null,
           "1391": null,
           "1392": 0,
           "1393": null,
           "1394": 0,
           "1395": 14.285714285714285,
           "1396": 0,
           "1397": null,
           "1398": 0,
           "1399": null,
           "14": 14.285714285714285,
           "140": null,
           "1400": 0,
           "1401": null,
           "1402": 0,
           "1403": 0,
           "1404": 0,
           "1405": 0,
           "1406": 0,
           "1407": 0,
           "1408": null,
           "1409": null,
           "141": null,
           "1410": null,
           "1411": 0,
           "1412": null,
           "1413": null,
           "1414": null,
           "1415": 0,
           "1416": 0,
           "1417": null,
           "1418": null,
           "1419": 0,
           "142": null,
           "1420": 0,
           "1421": null,
           "1422": null,
           "1423": null,
           "1424": 0,
           "1425": null,
           "1426": null,
           "1427": 0,
           "1428": null,
           "1429": 0,
           "143": null,
           "1430": 0,
           "1431": 0,
           "1432": 0,
           "1433": 0,
           "1434": 0,
           "1435": null,
           "1436": 0,
           "1437": null,
           "1438": 0,
           "1439": 0,
           "144": null,
           "1440": null,
           "1441": null,
           "1442": null,
           "1443": 0,
           "1444": null,
           "1445": 0,
           "1446": 0,
           "1447": null,
           "1448": 0,
           "1449": null,
           "145": 0,
           "1450": null,
           "1451": null,
           "1452": null,
           "1453": 0,
           "1454": 0,
           "1455": null,
           "1456": 0,
           "1457": null,
           "1458": 0,
           "1459": 0,
           "146": null,
           "1460": null,
           "1461": null,
           "1462": null,
           "1463": null,
           "1464": null,
           "1465": 0,
           "1466": 0,
           "1467": null,
           "1468": null,
           "1469": null,
           "147": 0,
           "1470": 0,
           "1471": 0,
           "1472": 0,
           "1473": 60,
           "1474": null,
           "1475": 0,
           "1476": null,
           "1477": null,
           "1478": 0,
           "1479": null,
           "148": null,
           "1480": 0,
           "1481": 0,
           "1482": null,
           "1483": 0,
           "1484": 0,
           "1485": 0,
           "1486": null,
           "1487": 0,
           "1488": null,
           "1489": 9.183673469387756,
           "149": null,
           "1490": 42.10526315789473,
           "1491": null,
           "1492": null,
           "1493": 0,
           "1494": null,
           "1495": 71.42857142857143,
           "1496": 0,
           "1497": null,
           "1498": 0,
           "1499": 0,
           "15": 0,
           "150": null,
           "1500": null,
           "1501": 10,
           "1502": 0,
           "1503": 0,
           "1504": 0,
           "1505": 0,
           "1506": 0,
           "1507": null,
           "1508": 0,
           "1509": 0,
           "151": null,
           "1510": 0,
           "1511": null,
           "1512": null,
           "1513": 0,
           "1514": null,
           "1515": 0,
           "1516": 0,
           "1517": 0,
           "1518": 0,
           "1519": 0,
           "152": 0,
           "1520": 0,
           "1521": 0,
           "1522": 0,
           "1523": 9.090909090909092,
           "1524": null,
           "1525": null,
           "1526": null,
           "1527": null,
           "1528": null,
           "1529": 0,
           "153": null,
           "1530": null,
           "1531": 0,
           "1532": 0,
           "1533": null,
           "1534": 0,
           "1535": null,
           "1536": null,
           "1537": null,
           "1538": 0,
           "1539": 0,
           "154": null,
           "1540": null,
           "1541": null,
           "1542": null,
           "1543": 0,
           "1544": null,
           "1545": null,
           "1546": 0,
           "1547": 0,
           "1548": null,
           "1549": 0,
           "155": null,
           "1550": 0,
           "1551": null,
           "1552": 0,
           "1553": 0,
           "1554": 0,
           "1555": null,
           "1556": null,
           "1557": 0,
           "1558": null,
           "1559": 0,
           "156": null,
           "1560": 0,
           "1561": 8.51063829787234,
           "1562": null,
           "1563": null,
           "1564": null,
           "1565": 0,
           "1566": 0,
           "1567": null,
           "1568": 0,
           "1569": 0,
           "157": null,
           "1570": null,
           "1571": 0,
           "1572": 0,
           "1573": null,
           "1574": null,
           "1575": null,
           "1576": 0,
           "1577": 0,
           "1578": 7.142857142857142,
           "1579": null,
           "158": null,
           "1580": null,
           "1581": 8.620689655172415,
           "1582": 0,
           "1583": 0,
           "1584": null,
           "1585": 0,
           "1586": null,
           "1587": null,
           "1588": null,
           "1589": 0,
           "159": null,
           "1590": 0,
           "1591": 0,
           "1592": 0,
           "1593": null,
           "1594": 0,
           "1595": null,
           "1596": null,
           "1597": 0,
           "1598": 0,
           "1599": null,
           "16": 0,
           "160": null,
           "1600": null,
           "1601": null,
           "1602": 5.202312138728324,
           "1603": 2.0408163265306123,
           "1604": null,
           "1605": null,
           "1606": null,
           "1607": null,
           "1608": 106.66666666666667,
           "1609": null,
           "161": null,
           "1610": null,
           "1611": 0,
           "1612": null,
           "1613": null,
           "1614": 0,
           "1615": null,
           "1616": 0,
           "1617": 0,
           "1618": null,
           "1619": 0,
           "162": null,
           "1620": 0,
           "1621": 0,
           "1622": 0,
           "1623": 0,
           "1624": null,
           "1625": null,
           "1626": 0,
           "1627": 0,
           "1628": 0,
           "1629": 0,
           "163": null,
           "1630": 0,
           "1631": 0,
           "1632": null,
           "1633": 9.836065573770492,
           "1634": null,
           "1635": null,
           "1636": null,
           "1637": 0,
           "1638": 0,
           "1639": 42.857142857142854,
           "164": 0,
           "1640": 0,
           "1641": 20,
           "1642": null,
           "1643": 0,
           "1644": 0,
           "1645": 50,
           "1646": null,
           "1647": 0,
           "1648": 0,
           "1649": null,
           "165": null,
           "1650": null,
           "1651": 0,
           "1652": null,
           "1653": 0,
           "1654": null,
           "1655": 0,
           "1656": null,
           "1657": 0,
           "1658": null,
           "1659": null,
           "166": null,
           "1660": null,
           "1661": 0,
           "1662": 0,
           "1663": 0,
           "1664": 0,
           "1665": null,
           "1666": null,
           "1667": null,
           "1668": 46.15384615384615,
           "1669": 42.857142857142854,
           "167": null,
           "1670": null,
           "1671": 5.263157894736842,
           "1672": 0,
           "1673": null,
           "1674": 0,
           "1675": 0,
           "1676": null,
           "1677": null,
           "1678": 0,
           "1679": 0,
           "168": null,
           "1680": null,
           "1681": null,
           "1682": 0,
           "1683": null,
           "1684": null,
           "1685": 48,
           "1686": null,
           "1687": null,
           "1688": null,
           "1689": null,
           "169": null,
           "1690": 0,
           "1691": null,
           "1692": null,
           "1693": 0,
           "1694": null,
           "1695": 0,
           "1696": null,
           "1697": 0,
           "1698": 0,
           "1699": null,
           "17": 0,
           "170": null,
           "1700": 0,
           "1701": null,
           "1702": null,
           "1703": 0,
           "1704": null,
           "1705": null,
           "1706": null,
           "1707": 0,
           "1708": 0,
           "1709": 0,
           "171": null,
           "1710": 0,
           "1711": null,
           "1712": 0,
           "1713": 3.571428571428571,
           "1714": 0,
           "1715": 0,
           "1716": 0,
           "1717": null,
           "1718": 0,
           "1719": 0,
           "172": null,
           "1720": null,
           "1721": null,
           "1722": null,
           "1723": 0,
           "1724": 0,
           "1725": 0,
           "1726": null,
           "1727": null,
           "1728": 0,
           "1729": 0,
           "173": 0,
           "1730": 0,
           "1731": 0,
           "1732": null,
           "1733": null,
           "1734": 0,
           "1735": 33.33333333333333,
           "1736": 0,
           "1737": 0,
           "1738": 0,
           "1739": 0,
           "174": null,
           "1740": 0,
           "1741": null,
           "1742": 0,
           "1743": 25,
           "1744": 0,
           "1745": 0,
           "1746": null,
           "1747": 0,
           "1748": null,
           "1749": 0,
           "175": null,
           "1750": 0,
           "1751": 0,
           "1752": 0,
           "1753": null,
           "1754": null,
           "1755": null,
           "1756": 0,
           "1757": 0,
           "1758": 0,
           "1759": 0,
           "176": null,
           "1760": null,
           "1761": 0,
           "1762": null,
           "1763": null,
           "1764": null,
           "1765": 0,
           "1766": null,
           "1767": 0,
           "1768": null,
           "1769": 0,
           "177": null,
           "1770": 0,
           "1771": 9.75609756097561,
           "1772": 23.52941176470588,
           "1773": 0,
           "1774": null,
           "1775": 0,
           "1776": 0,
           "1777": null,
           "1778": 0,
           "1779": 0,
           "178": 0,
           "1780": 44.44444444444444,
           "1781": 0,
           "1782": null,
           "1783": null,
           "1784": 0,
           "1785": 0,
           "1786": 0,
           "1787": 0,
           "1788": null,
           "1789": null,
           "179": null,
           "1790": 0,
           "1791": 0,
           "1792": null,
           "1793": null,
           "1794": 25,
           "1795": 0,
           "1796": 0,
           "1797": null,
           "1798": 0,
           "1799": null,
           "18": null,
           "180": null,
           "1800": 0,
           "1801": 0,
           "1802": null,
           "1803": null,
           "1804": null,
           "1805": null,
           "1806": null,
           "1807": 0,
           "1808": null,
           "1809": null,
           "181": null,
           "1810": null,
           "1811": null,
           "1812": null,
           "1813": 0,
           "1814": 0,
           "1815": 0,
           "1816": null,
           "1817": null,
           "1818": null,
           "1819": null,
           "182": 0,
           "1820": 0,
           "1821": 0,
           "1822": null,
           "1823": null,
           "1824": 0,
           "1825": null,
           "1826": null,
           "1827": 0,
           "1828": null,
           "1829": null,
           "183": null,
           "1830": 0,
           "1831": null,
           "1832": 0,
           "1833": null,
           "1834": 0,
           "1835": 0,
           "1836": 0,
           "1837": null,
           "1838": 0,
           "1839": null,
           "184": null,
           "1840": 0,
           "1841": null,
           "1842": 0,
           "1843": null,
           "1844": null,
           "1845": null,
           "1846": null,
           "1847": null,
           "1848": null,
           "1849": null,
           "185": null,
           "1850": null,
           "1851": 0,
           "1852": 0,
           "1853": null,
           "1854": null,
           "1855": null,
           "1856": null,
           "1857": null,
           "1858": 0,
           "1859": 0,
           "186": null,
           "1860": null,
           "1861": 18.181818181818183,
           "1862": 0,
           "1863": null,
           "1864": null,
           "1865": null,
           "1866": null,
           "1867": null,
           "1868": null,
           "1869": 30.76923076923077,
           "187": null,
           "1870": 8.333333333333332,
           "1871": 25,
           "1872": 10.81081081081081,
           "1873": 60,
           "1874": 12.626262626262626,
           "1875": 9.523809523809524,
           "1876": 36,
           "1877": 22.22222222222222,
           "1878": null,
           "1879": 53.84615384615385,
           "188": null,
           "1880": 7.4074074074074066,
           "1881": 44.44444444444444,
           "1882": 25,
           "1883": 50,
           "1884": 15.384615384615385,
           "1885": 46.15384615384615,
           "1886": null,
           "1887": 66.66666666666666,
           "1888": null,
           "1889": 3.8461538461538463,
           "189": null,
           "1890": 39.130434782608695,
           "1891": 61.53846153846154,
           "1892": 39.130434782608695,
           "1893": 50,
           "1894": 9.70873786407767,
           "1895": 66.66666666666666,
           "1896": 22.727272727272727,
           "1897": 11.76470588235294,
           "1898": 28.57142857142857,
           "1899": 21.428571428571427,
           "19": null,
           "190": null,
           "1900": 16.793893129770993,
           "1901": 43.47826086956522,
           "1902": 2.272727272727273,
           "1903": 40,
           "1904": 20,
           "1905": 15,
           "1906": 25,
           "1907": 33.33333333333333,
           "1908": 1.8518518518518516,
           "1909": 38.46153846153847,
           "191": 0,
           "1910": 44.776119402985074,
           "1911": 33.33333333333333,
           "1912": 33.33333333333333,
           "1913": 4.3478260869565215,
           "1914": 28.57142857142857,
           "1915": 4.166666666666666,
           "1916": 26.666666666666668,
           "1917": 2.865329512893983,
           "1918": null,
           "1919": null,
           "192": null,
           "1920": 36.36363636363637,
           "1921": 28.57142857142857,
           "1922": 38.095238095238095,
           "1923": 21.428571428571427,
           "1924": 33.33333333333333,
           "1925": 11.666666666666666,
           "1926": 21.73913043478261,
           "1927": 2.7027027027027026,
           "1928": 13.978494623655912,
           "1929": 7.317073170731707,
           "193": null,
           "1930": 8.333333333333332,
           "1931": 25,
           "1932": 84,
           "1933": 137.5,
           "1934": 66.66666666666666,
           "1935": 33.33333333333333,
           "1936": 25,
           "1937": null,
           "1938": null,
           "1939": 2.7777777777777777,
           "194": null,
           "1940": 10.526315789473683,
           "1941": null,
           "1942": 36.36363636363637,
           "1943": 50,
           "1944": 87.5,
           "1945": null,
           "1946": null,
           "1947": 25.255704169944927,
           "1948": 28.57142857142857,
           "1949": 100,
           "195": null,
           "1950": 12.5,
           "1951": 57.14285714285714,
           "1952": 7.339449541284404,
           "1953": 15.384615384615385,
           "1954": 20,
           "1955": 13.513513513513514,
           "1956": 50,
           "1957": 45.45454545454545,
           "1958": 77.77777777777779,
           "1959": 57.14285714285714,
           "196": null,
           "1960": 50,
           "1961": 15,
           "1962": 60,
           "1963": 25,
           "1964": 50,
           "1965": null,
           "1966": 133.33333333333331,
           "1967": 57.14285714285714,
           "1968": 1.36986301369863,
           "1969": 11.428571428571429,
           "197": null,
           "1970": 103.2258064516129,
           "1971": 21.73913043478261,
           "1972": 87.36842105263159,
           "1973": 10.344827586206897,
           "1974": 14.545454545454545,
           "1975": 76.47058823529412,
           "1976": 42.99065420560748,
           "1977": null,
           "1978": 8.333333333333332,
           "1979": 35.714285714285715,
           "198": null,
           "1980": 21.428571428571427,
           "1981": 7.4074074074074066,
           "1982": 3.3333333333333335,
           "1983": 21.21212121212121,
           "1984": 33.33333333333333,
           "1985": null,
           "1986": 6.756756756756757,
           "1987": 11.76470588235294,
           "1988": 23.076923076923077,
           "1989": 16.216216216216218,
           "199": null,
           "1990": null,
           "1991": 10,
           "1992": 3.8461538461538463,
           "1993": 14.285714285714285,
           "1994": 18,
           "1995": null,
           "1996": 44.800000000000004,
           "1997": 30,
           "1998": 21.21212121212121,
           "1999": 11.538461538461538,
           "2": 32.35294117647059,
           "20": 0,
           "200": null,
           "2000": 66.66666666666666,
           "2001": 11.11111111111111,
           "2002": 50,
           "2003": null,
           "2004": null,
           "2005": 3.3333333333333335,
           "2006": null,
           "2007": 9.67741935483871,
           "2008": 31.25,
           "2009": null,
           "201": 0,
           "2010": 18.181818181818183,
           "2011": 58.620689655172406,
           "2012": 75,
           "2013": null,
           "2014": 20,
           "2015": 2.4691358024691357,
           "2016": 41.66666666666667,
           "2017": 25,
           "2018": 23.809523809523807,
           "2019": 50,
           "202": null,
           "2020": null,
           "2021": 16.969696969696972,
           "2022": 40,
           "2023": 19.51219512195122,
           "2024": null,
           "2025": 23.076923076923077,
           "2026": 10.294117647058822,
           "2027": 26.923076923076923,
           "2028": 53.333333333333336,
           "2029": 5.333333333333334,
           "203": null,
           "2030": 5.263157894736842,
           "2031": 15.384615384615385,
           "2032": 28.57142857142857,
           "2033": 30.76923076923077,
           "2034": 23.52941176470588,
           "2035": null,
           "2036": 33.33333333333333,
           "2037": 23.076923076923077,
           "2038": 24.137931034482758,
           "2039": 25,
           "204": null,
           "2040": 36,
           "2041": 27.027027027027028,
           "2042": 16.778523489932887,
           "2043": null,
           "2044": 51.21951219512195,
           "2045": 1.5873015873015872,
           "2046": 33.33333333333333,
           "2047": 33.33333333333333,
           "2048": 16.957605985037407,
           "2049": 8.16326530612245,
           "205": null,
           "2050": null,
           "2051": null,
           "2052": 10.79136690647482,
           "2053": 38.46153846153847,
           "2054": 23.809523809523807,
           "2055": 47.22222222222222,
           "2056": 13.513513513513514,
           "2057": 11.11111111111111,
           "2058": 45.45454545454545,
           "2059": 16.129032258064516,
           "206": null,
           "2060": 0.40816326530612246,
           "2061": null,
           "2062": 13.793103448275861,
           "2063": 4,
           "2064": null,
           "2065": null,
           "2066": 5.128205128205128,
           "2067": null,
           "2068": 18.181818181818183,
           "2069": 30.434782608695656,
           "207": null,
           "2070": 27.27272727272727,
           "2071": 12.121212121212121,
           "2072": 3.7037037037037033,
           "2073": 2.380952380952381,
           "2074": 8,
           "2075": 25,
           "2076": 13.333333333333334,
           "2077": 33.33333333333333,
           "2078": 50,
           "2079": 52.94117647058824,
           "208": null,
           "2080": 33.33333333333333,
           "2081": 24.137931034482758,
           "2082": 25,
           "2083": 0.9615384615384616,
           "2084": 84.375,
           "2085": 33.33333333333333,
           "2086": null,
           "2087": 47.82608695652174,
           "2088": 50,
           "2089": 15.463917525773196,
           "209": null,
           "2090": 8.333333333333332,
           "2091": 14.285714285714285,
           "2092": 33.33333333333333,
           "2093": null,
           "2094": 88.88888888888889,
           "2095": 100,
           "2096": 6.0606060606060606,
           "2097": 25,
           "2098": null,
           "2099": 27.27272727272727,
           "21": null,
           "210": null,
           "2100": null,
           "2101": 57.14285714285714,
           "2102": 36,
           "2103": 14.814814814814813,
           "2104": 35.714285714285715,
           "2105": 22.22222222222222,
           "2106": null,
           "2107": 25,
           "2108": 9.243697478991598,
           "2109": null,
           "211": null,
           "2110": 34.48275862068966,
           "2111": 66.66666666666666,
           "2112": 12.5,
           "2113": 35,
           "2114": 25,
           "2115": 33.33333333333333,
           "2116": null,
           "2117": null,
           "2118": 26.24113475177305,
           "2119": null,
           "212": null,
           "2120": null,
           "2121": 16.666666666666664,
           "2122": 100,
           "2123": 28.57142857142857,
           "2124": 50,
           "2125": null,
           "2126": 39.58333333333333,
           "2127": 33.33333333333333,
           "2128": 43.47826086956522,
           "2129": 6.666666666666667,
           "213": null,
           "2130": 200,
           "2131": null,
           "214": null,
           "215": null,
           "216": null,
           "217": null,
           "218": null,
           "219": null,
           "22": null,
           "220": null,
           "221": null,
           "222": null,
           "223": null,
           "224": null,
           "225": null,
           "226": null,
           "227": null,
           "228": null,
           "229": null,
           "23": 11.11111111111111,
           "230": null,
           "231": null,
           "232": null,
           "233": null,
           "234": null,
           "235": null,
           "236": null,
           "237": 0,
           "238": null,
           "239": null,
           "24": 0,
           "240": null,
           "241": null,
           "242": null,
           "243": null,
           "244": null,
           "245": 0,
           "246": null,
           "247": null,
           "248": null,
           "249": null,
           "25": 0,
           "250": null,
           "251": null,
           "252": null,
           "253": null,
           "254": null,
           "255": null,
           "256": null,
           "257": null,
           "258": null,
           "259": null,
           "26": null,
           "260": null,
           "261": null,
           "262": null,
           "263": null,
           "264": null,
           "265": null,
           "266": null,
           "267": null,
           "268": null,
           "269": null,
           "27": 0,
           "270": null,
           "271": null,
           "272": null,
           "273": null,
           "274": null,
           "275": null,
           "276": null,
           "277": null,
           "278": null,
           "279": null,
           "28": null,
           "280": null,
           "281": null,
           "282": null,
           "283": null,
           "284": null,
           "285": null,
           "286": null,
           "287": null,
           "288": null,
           "289": null,
           "29": 0,
           "290": null,
           "291": null,
           "292": 0,
           "293": null,
           "294": null,
           "295": null,
           "296": null,
           "297": null,
           "298": null,
           "299": null,
           "3": 46.42857142857143,
           "30": null,
           "300": null,
           "301": 0,
           "302": null,
           "303": null,
           "304": null,
           "305": null,
           "306": null,
           "307": null,
           "308": null,
           "309": null,
           "31": 0,
           "310": null,
           "311": null,
           "312": null,
           "313": null,
           "314": null,
           "315": null,
           "316": null,
           "317": null,
           "318": null,
           "319": null,
           "32": 0,
           "320": null,
           "321": null,
           "322": null,
           "323": null,
           "324": 0,
           "325": null,
           "326": null,
           "327": null,
           "328": null,
           "329": null,
           "33": 0,
           "330": null,
           "331": null,
           "332": null,
           "333": null,
           "334": null,
           "335": null,
           "336": null,
           "337": null,
           "338": null,
           "339": null,
           "34": 0,
           "340": null,
           "341": null,
           "342": null,
           "343": null,
           "344": null,
           "345": null,
           "346": null,
           "347": null,
           "348": null,
           "349": null,
           "35": null,
           "350": null,
           "351": null,
           "352": null,
           "353": null,
           "354": null,
           "355": null,
           "356": null,
           "357": null,
           "358": null,
           "359": null,
           "36": 0,
           "360": null,
           "361": null,
           "362": null,
           "363": null,
           "364": null,
           "365": null,
           "366": null,
           "367": null,
           "368": null,
           "369": null,
           "37": 0,
           "370": null,
           "371": null,
           "372": null,
           "373": null,
           "374": null,
           "375": null,
           "376": null,
           "377": null,
           "378": null,
           "379": null,
           "38": 0,
           "380": null,
           "381": null,
           "382": null,
           "383": null,
           "384": null,
           "385": null,
           "386": null,
           "387": null,
           "388": null,
           "389": null,
           "39": 0,
           "390": null,
           "391": null,
           "392": null,
           "393": null,
           "394": null,
           "395": null,
           "396": null,
           "397": null,
           "398": null,
           "399": null,
           "4": 100,
           "40": 0,
           "400": null,
           "401": null,
           "402": null,
           "403": null,
           "404": null,
           "405": null,
           "406": null,
           "407": null,
           "408": null,
           "409": null,
           "41": null,
           "410": null,
           "411": null,
           "412": null,
           "413": null,
           "414": null,
           "415": null,
           "416": null,
           "417": null,
           "418": null,
           "419": null,
           "42": null,
           "420": null,
           "421": null,
           "422": null,
           "423": null,
           "424": 0,
           "425": null,
           "426": null,
           "427": null,
           "428": null,
           "429": null,
           "43": 30.434782608695656,
           "430": null,
           "431": null,
           "432": null,
           "433": null,
           "434": null,
           "435": null,
           "436": null,
           "437": null,
           "438": null,
           "439": null,
           "44": 0,
           "440": null,
           "441": null,
           "442": null,
           "443": null,
           "444": null,
           "445": null,
           "446": null,
           "447": null,
           "448": null,
           "449": null,
           "45": 0,
           "450": null,
           "451": null,
           "452": null,
           "453": null,
           "454": null,
           "455": null,
           "456": null,
           "457": null,
           "458": null,
           "459": null,
           "46": 0,
           "460": null,
           "461": null,
           "462": null,
           "463": null,
           "464": null,
           "465": null,
           "466": null,
           "467": null,
           "468": null,
           "469": null,
           "47": 23.076923076923077,
           "470": null,
           "471": null,
           "472": null,
           "473": null,
           "474": null,
           "475": null,
           "476": null,
           "477": null,
           "478": null,
           "479": null,
           "48": 0,
           "480": null,
           "481": null,
           "482": null,
           "483": null,
           "484": null,
           "485": null,
           "486": null,
           "487": null,
           "488": null,
           "489": null,
           "49": 0,
           "490": null,
           "491": null,
           "492": null,
           "493": null,
           "494": null,
           "495": null,
           "496": null,
           "497": null,
           "498": null,
           "499": null,
           "5": null,
           "50": 0,
           "500": null,
           "501": null,
           "502": null,
           "503": null,
           "504": null,
           "505": null,
           "506": null,
           "507": null,
           "508": null,
           "509": null,
           "51": 0,
           "510": null,
           "511": null,
           "512": null,
           "513": null,
           "514": null,
           "515": null,
           "516": null,
           "517": null,
           "518": null,
           "519": 0,
           "52": 0,
           "520": null,
           "521": null,
           "522": null,
           "523": null,
           "524": null,
           "525": null,
           "526": 0,
           "527": null,
           "528": null,
           "529": null,
           "53": null,
           "530": null,
           "531": null,
           "532": null,
           "533": null,
           "534": null,
           "535": null,
           "536": null,
           "537": null,
           "538": null,
           "539": null,
           "54": null,
           "540": null,
           "541": null,
           "542": null,
           "543": null,
           "544": null,
           "545": null,
           "546": null,
           "547": 0,
           "548": null,
           "549": null,
           "55": null,
           "550": null,
           "551": null,
           "552": null,
           "553": null,
           "554": null,
           "555": null,
           "556": null,
           "557": null,
           "558": null,
           "559": null,
           "56": null,
           "560": null,
           "561": null,
           "562": null,
           "563": null,
           "564": null,
           "565": 0,
           "566": null,
           "567": null,
           "568": null,
           "569": null,
           "57": null,
           "570": 0,
           "571": null,
           "572": null,
           "573": null,
           "574": null,
           "575": null,
           "576": null,
           "577": null,
           "578": null,
           "579": null,
           "58": null,
           "580": null,
           "581": null,
           "582": null,
           "583": null,
           "584": null,
           "585": null,
           "586": null,
           "587": null,
           "588": null,
           "589": null,
           "59": null,
           "590": null,
           "591": null,
           "592": null,
           "593": null,
           "594": null,
           "595": null,
           "596": null,
           "597": null,
           "598": null,
           "599": null,
           "6": 76.31578947368422,
           "60": null,
           "600": null,
           "601": null,
           "602": null,
           "603": null,
           "604": null,
           "605": null,
           "606": null,
           "607": null,
           "608": null,
           "609": null,
           "61": null,
           "610": null,
           "611": null,
           "612": null,
           "613": null,
           "614": null,
           "615": 100,
           "616": null,
           "617": null,
           "618": null,
           "619": null,
           "62": null,
           "620": null,
           "621": null,
           "622": null,
           "623": null,
           "624": 0,
           "625": null,
           "626": null,
           "627": null,
           "628": null,
           "629": null,
           "63": null,
           "630": null,
           "631": null,
           "632": null,
           "633": null,
           "634": null,
           "635": null,
           "636": null,
           "637": null,
           "638": null,
           "639": null,
           "64": null,
           "640": null,
           "641": null,
           "642": null,
           "643": null,
           "644": null,
           "645": null,
           "646": null,
           "647": 0,
           "648": 0,
           "649": null,
           "65": null,
           "650": null,
           "651": 0,
           "652": null,
           "653": null,
           "654": null,
           "655": null,
           "656": null,
           "657": null,
           "658": null,
           "659": null,
           "66": null,
           "660": null,
           "661": null,
           "662": null,
           "663": null,
           "664": null,
           "665": null,
           "666": null,
           "667": null,
           "668": null,
           "669": 0,
           "67": null,
           "670": null,
           "671": null,
           "672": 0,
           "673": null,
           "674": null,
           "675": null,
           "676": null,
           "677": null,
           "678": null,
           "679": null,
           "68": null,
           "680": null,
           "681": null,
           "682": null,
           "683": null,
           "684": null,
           "685": null,
           "686": null,
           "687": null,
           "688": null,
           "689": null,
           "69": null,
           "690": null,
           "691": null,
           "692": null,
           "693": null,
           "694": null,
           "695": null,
           "696": null,
           "697": null,
           "698": null,
           "699": null,
           "7": 15.555555555555555,
           "70": null,
           "700": null,
           "701": null,
           "702": null,
           "703": null,
           "704": null,
           "705": null,
           "706": null,
           "707": null,
           "708": null,
           "709": null,
           "71": null,
           "710": null,
           "711": null,
           "712": null,
           "713": null,
           "714": null,
           "715": null,
           "716": null,
           "717": null,
           "718": null,
           "719": null,
           "72": null,
           "720": null,
           "721": null,
           "722": null,
           "723": 0,
           "724": null,
           "725": null,
           "726": null,
           "727": null,
           "728": null,
           "729": null,
           "73": null,
           "730": null,
           "731": null,
           "732": null,
           "733": null,
           "734": null,
           "735": null,
           "736": null,
           "737": null,
           "738": null,
           "739": null,
           "74": null,
           "740": null,
           "741": null,
           "742": null,
           "743": null,
           "744": null,
           "745": null,
           "746": null,
           "747": 0,
           "748": null,
           "749": null,
           "75": null,
           "750": null,
           "751": null,
           "752": null,
           "753": null,
           "754": null,
           "755": null,
           "756": 0,
           "757": null,
           "758": null,
           "759": null,
           "76": null,
           "760": null,
           "761": 0,
           "762": 0,
           "763": null,
           "764": null,
           "765": null,
           "766": null,
           "767": null,
           "768": null,
           "769": null,
           "77": null,
           "770": null,
           "771": null,
           "772": null,
           "773": null,
           "774": null,
           "775": null,
           "776": null,
           "777": null,
           "778": null,
           "779": null,
           "78": null,
           "780": null,
           "781": null,
           "782": null,
           "783": null,
           "784": null,
           "785": 0,
           "786": null,
           "787": null,
           "788": null,
           "789": null,
           "79": null,
           "790": null,
           "791": null,
           "792": null,
           "793": null,
           "794": null,
           "795": null,
           "796": null,
           "797": null,
           "798": null,
           "799": null,
           "8": 13.978494623655912,
           "80": null,
           "800": null,
           "801": 0,
           "802": null,
           "803": null,
           "804": null,
           "805": null,
           "806": null,
           "807": null,
           "808": null,
           "809": null,
           "81": null,
           "810": null,
           "811": null,
           "812": null,
           "813": null,
           "814": null,
           "815": null,
           "816": null,
           "817": null,
           "818": null,
           "819": null,
           "82": 0,
           "820": null,
           "821": null,
           "822": null,
           "823": null,
           "824": null,
           "825": null,
           "826": null,
           "827": null,
           "828": null,
           "829": null,
           "83": null,
           "830": null,
           "831": null,
           "832": null,
           "833": null,
           "834": null,
           "835": null,
           "836": null,
           "837": null,
           "838": null,
           "839": null,
           "84": null,
           "840": null,
           "841": null,
           "842": null,
           "843": null,
           "844": null,
           "845": null,
           "846": null,
           "847": null,
           "848": null,
           "849": null,
           "85": null,
           "850": null,
           "851": null,
           "852": null,
           "853": null,
           "854": null,
           "855": null,
           "856": null,
           "857": null,
           "858": null,
           "859": null,
           "86": null,
           "860": null,
           "861": null,
           "862": null,
           "863": null,
           "864": null,
           "865": null,
           "866": null,
           "867": null,
           "868": null,
           "869": null,
           "87": null,
           "870": null,
           "871": null,
           "872": null,
           "873": null,
           "874": null,
           "875": null,
           "876": null,
           "877": null,
           "878": null,
           "879": null,
           "88": null,
           "880": null,
           "881": null,
           "882": null,
           "883": 0,
           "884": null,
           "885": null,
           "886": null,
           "887": null,
           "888": null,
           "889": null,
           "89": null,
           "890": null,
           "891": null,
           "892": null,
           "893": null,
           "894": null,
           "895": null,
           "896": null,
           "897": null,
           "898": null,
           "899": null,
           "9": 20.670391061452513,
           "90": null,
           "900": null,
           "901": null,
           "902": null,
           "903": null,
           "904": null,
           "905": null,
           "906": null,
           "907": null,
           "908": null,
           "909": null,
           "91": null,
           "910": null,
           "911": null,
           "912": null,
           "913": null,
           "914": null,
           "915": null,
           "916": null,
           "917": null,
           "918": null,
           "919": null,
           "92": null,
           "920": null,
           "921": null,
           "922": null,
           "923": null,
           "924": null,
           "925": null,
           "926": null,
           "927": null,
           "928": null,
           "929": null,
           "93": null,
           "930": null,
           "931": null,
           "932": null,
           "933": null,
           "934": null,
           "935": null,
           "936": null,
           "937": null,
           "938": null,
           "939": null,
           "94": null,
           "940": null,
           "941": null,
           "942": null,
           "943": null,
           "944": null,
           "945": 0,
           "946": null,
           "947": null,
           "948": null,
           "949": null,
           "95": null,
           "950": null,
           "951": null,
           "952": null,
           "953": null,
           "954": null,
           "955": null,
           "956": null,
           "957": null,
           "958": null,
           "959": null,
           "96": null,
           "960": null,
           "961": null,
           "962": null,
           "963": null,
           "964": null,
           "965": null,
           "966": null,
           "967": null,
           "968": null,
           "969": null,
           "97": null,
           "970": null,
           "971": null,
           "972": null,
           "973": null,
           "974": null,
           "975": null,
           "976": null,
           "977": null,
           "978": null,
           "979": null,
           "98": null,
           "980": null,
           "981": null,
           "982": null,
           "983": null,
           "984": null,
           "985": null,
           "986": null,
           "987": null,
           "988": 0,
           "989": 0,
           "99": null,
           "990": null,
           "991": null,
           "992": null,
           "993": null,
           "994": null,
           "995": null,
           "996": null,
           "997": null,
           "998": null,
           "999": null,
           "bdata": "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",
           "dtype": "f8",
           "shape": "2132"
          },
          "bdata": "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",
          "dtype": "f8"
         }
        },
        {
         "hovertemplate": "<b>%{text}</b><br>PM2.5: %{x:.1f}<br>Adoption: %{y:.1f}%<extra></extra>",
         "marker": {
          "color": "red",
          "line": {
           "color": "black",
           "width": 1
          },
          "size": 12
         },
         "mode": "markers",
         "name": "Bakersfield Districts",
         "text": [
          "Kern County ROP",
          "Kern High ROC",
          "Bakersfield City",
          "Beardsley Elementary",
          "Panama-Buena Vista Union",
          "General Shafter Elementary",
          "Lakeside Union",
          "Norris Elementary",
          "Rio Bravo-Greeley Union Elementary",
          "Rosedale Union Elementary",
          "Standard Elementary",
          "Edison Elementary",
          "Fairfax Elementary",
          "Fruitvale Elementary",
          "Greenfield Union",
          "Kern County Office of Education",
          "Kern High",
          "Vineland Elementary"
         ],
         "type": "scatter",
         "x": {
          "_inputArray": {
           "0": null,
           "1": null,
           "10": 9.809863223,
           "11": 8.263027473,
           "12": 9.335989058,
           "13": 10.48863176,
           "14": 9.846592517,
           "15": null,
           "16": 9.762896351,
           "17": 8.280624549,
           "2": 9.776827871,
           "3": 9.96998902,
           "4": 10.08808939,
           "5": 7.76347229,
           "6": 9.58395451,
           "7": 10.37142478,
           "8": 9.829797893,
           "9": 10.26672324,
           "bdata": "AAAAAAAA+H8AAAAAAAD4f/Mh+WG8jSNAGMKcZqLwI0BkWXINGi0kQBXPE67LDR9AeZrlFfwqI0BJDIZjK74kQA1z+UTbqCNALcTR8o+IJEBMCXJkpp4jQBP4dImrhiBAAtn/wQasIkBO+SnxLfokQE0bC5N0sSNAAAAAAAAA+H/DkLtZmoYjQMvRWAWujyBA",
           "dtype": "f8",
           "shape": "18"
          },
          "bdata": "AAAAAAAA+H8AAAAAAAD4f/Mh+WG8jSNAGMKcZqLwI0BkWXINGi0kQBXPE67LDR9AeZrlFfwqI0BJDIZjK74kQA1z+UTbqCNALcTR8o+IJEBMCXJkpp4jQBP4dImrhiBAAtn/wQasIkBO+SnxLfokQE0bC5N0sSNAAAAAAAAA+H/DkLtZmoYjQMvRWAWujyBA",
          "dtype": "f8"
         },
         "y": {
          "_inputArray": {
           "0": null,
           "1": null,
           "10": 0,
           "11": 8.333333333333332,
           "12": 15.384615384615385,
           "13": 11.76470588235294,
           "14": 1.8518518518518516,
           "15": 2.7027027027027026,
           "16": 13.978494623655912,
           "17": 25,
           "2": 0,
           "3": 0,
           "4": 0,
           "5": 0,
           "6": 0,
           "7": 0,
           "8": 0,
           "9": 0,
           "bdata": "AAAAAAAA+H8AAAAAAAD4fwAAAAAAAAAAAAAAAAAAAAAAAAAAAAAAAAAAAAAAAAAAAAAAAAAAAAAAAAAAAAAAAAAAAAAAAAAAAAAAAAAAAAAAAAAAAAAAAKqqqqqqqiBAT+zETuzELkCHh4eHh4cnQBLaS2gvof0/8lk3mCKfBUD0008//fQrQAAAAAAAADlA",
           "dtype": "f8",
           "shape": "18"
          },
          "bdata": "AAAAAAAA+H8AAAAAAAD4fwAAAAAAAAAAAAAAAAAAAAAAAAAAAAAAAAAAAAAAAAAAAAAAAAAAAAAAAAAAAAAAAAAAAAAAAAAAAAAAAAAAAAAAAAAAAAAAAKqqqqqqqiBAT+zETuzELkCHh4eHh4cnQBLaS2gvof0/8lk3mCKfBUD0008//fQrQAAAAAAAADlA",
          "dtype": "f8"
         }
        }
       ],
       "layout": {
        "autosize": true,
        "template": {
         "data": {
          "bar": [
           {
            "error_x": {
             "color": "#2a3f5f"
            },
            "error_y": {
             "color": "#2a3f5f"
            },
            "marker": {
             "line": {
              "color": "white",
              "width": 0.5
             },
             "pattern": {
              "fillmode": "overlay",
              "size": 10,
              "solidity": 0.2
             }
            },
            "type": "bar"
           }
          ],
          "barpolar": [
           {
            "marker": {
             "line": {
              "color": "white",
              "width": 0.5
             },
             "pattern": {
              "fillmode": "overlay",
              "size": 10,
              "solidity": 0.2
             }
            },
            "type": "barpolar"
           }
          ],
          "carpet": [
           {
            "aaxis": {
             "endlinecolor": "#2a3f5f",
             "gridcolor": "#C8D4E3",
             "linecolor": "#C8D4E3",
             "minorgridcolor": "#C8D4E3",
             "startlinecolor": "#2a3f5f"
            },
            "baxis": {
             "endlinecolor": "#2a3f5f",
             "gridcolor": "#C8D4E3",
             "linecolor": "#C8D4E3",
             "minorgridcolor": "#C8D4E3",
             "startlinecolor": "#2a3f5f"
            },
            "type": "carpet"
           }
          ],
          "choropleth": [
           {
            "colorbar": {
             "outlinewidth": 0,
             "ticks": ""
            },
            "type": "choropleth"
           }
          ],
          "contour": [
           {
            "colorbar": {
             "outlinewidth": 0,
             "ticks": ""
            },
            "colorscale": [
             [
              0,
              "#0d0887"
             ],
             [
              0.1111111111111111,
              "#46039f"
             ],
             [
              0.2222222222222222,
              "#7201a8"
             ],
             [
              0.3333333333333333,
              "#9c179e"
             ],
             [
              0.4444444444444444,
              "#bd3786"
             ],
             [
              0.5555555555555556,
              "#d8576b"
             ],
             [
              0.6666666666666666,
              "#ed7953"
             ],
             [
              0.7777777777777778,
              "#fb9f3a"
             ],
             [
              0.8888888888888888,
              "#fdca26"
             ],
             [
              1,
              "#f0f921"
             ]
            ],
            "type": "contour"
           }
          ],
          "contourcarpet": [
           {
            "colorbar": {
             "outlinewidth": 0,
             "ticks": ""
            },
            "type": "contourcarpet"
           }
          ],
          "heatmap": [
           {
            "colorbar": {
             "outlinewidth": 0,
             "ticks": ""
            },
            "colorscale": [
             [
              0,
              "#0d0887"
             ],
             [
              0.1111111111111111,
              "#46039f"
             ],
             [
              0.2222222222222222,
              "#7201a8"
             ],
             [
              0.3333333333333333,
              "#9c179e"
             ],
             [
              0.4444444444444444,
              "#bd3786"
             ],
             [
              0.5555555555555556,
              "#d8576b"
             ],
             [
              0.6666666666666666,
              "#ed7953"
             ],
             [
              0.7777777777777778,
              "#fb9f3a"
             ],
             [
              0.8888888888888888,
              "#fdca26"
             ],
             [
              1,
              "#f0f921"
             ]
            ],
            "type": "heatmap"
           }
          ],
          "histogram": [
           {
            "marker": {
             "pattern": {
              "fillmode": "overlay",
              "size": 10,
              "solidity": 0.2
             }
            },
            "type": "histogram"
           }
          ],
          "histogram2d": [
           {
            "colorbar": {
             "outlinewidth": 0,
             "ticks": ""
            },
            "colorscale": [
             [
              0,
              "#0d0887"
             ],
             [
              0.1111111111111111,
              "#46039f"
             ],
             [
              0.2222222222222222,
              "#7201a8"
             ],
             [
              0.3333333333333333,
              "#9c179e"
             ],
             [
              0.4444444444444444,
              "#bd3786"
             ],
             [
              0.5555555555555556,
              "#d8576b"
             ],
             [
              0.6666666666666666,
              "#ed7953"
             ],
             [
              0.7777777777777778,
              "#fb9f3a"
             ],
             [
              0.8888888888888888,
              "#fdca26"
             ],
             [
              1,
              "#f0f921"
             ]
            ],
            "type": "histogram2d"
           }
          ],
          "histogram2dcontour": [
           {
            "colorbar": {
             "outlinewidth": 0,
             "ticks": ""
            },
            "colorscale": [
             [
              0,
              "#0d0887"
             ],
             [
              0.1111111111111111,
              "#46039f"
             ],
             [
              0.2222222222222222,
              "#7201a8"
             ],
             [
              0.3333333333333333,
              "#9c179e"
             ],
             [
              0.4444444444444444,
              "#bd3786"
             ],
             [
              0.5555555555555556,
              "#d8576b"
             ],
             [
              0.6666666666666666,
              "#ed7953"
             ],
             [
              0.7777777777777778,
              "#fb9f3a"
             ],
             [
              0.8888888888888888,
              "#fdca26"
             ],
             [
              1,
              "#f0f921"
             ]
            ],
            "type": "histogram2dcontour"
           }
          ],
          "mesh3d": [
           {
            "colorbar": {
             "outlinewidth": 0,
             "ticks": ""
            },
            "type": "mesh3d"
           }
          ],
          "parcoords": [
           {
            "line": {
             "colorbar": {
              "outlinewidth": 0,
              "ticks": ""
             }
            },
            "type": "parcoords"
           }
          ],
          "pie": [
           {
            "automargin": true,
            "type": "pie"
           }
          ],
          "scatter": [
           {
            "fillpattern": {
             "fillmode": "overlay",
             "size": 10,
             "solidity": 0.2
            },
            "type": "scatter"
           }
          ],
          "scatter3d": [
           {
            "line": {
             "colorbar": {
              "outlinewidth": 0,
              "ticks": ""
             }
            },
            "marker": {
             "colorbar": {
              "outlinewidth": 0,
              "ticks": ""
             }
            },
            "type": "scatter3d"
           }
          ],
          "scattercarpet": [
           {
            "marker": {
             "colorbar": {
              "outlinewidth": 0,
              "ticks": ""
             }
            },
            "type": "scattercarpet"
           }
          ],
          "scattergeo": [
           {
            "marker": {
             "colorbar": {
              "outlinewidth": 0,
              "ticks": ""
             }
            },
            "type": "scattergeo"
           }
          ],
          "scattergl": [
           {
            "marker": {
             "colorbar": {
              "outlinewidth": 0,
              "ticks": ""
             }
            },
            "type": "scattergl"
           }
          ],
          "scattermap": [
           {
            "marker": {
             "colorbar": {
              "outlinewidth": 0,
              "ticks": ""
             }
            },
            "type": "scattermap"
           }
          ],
          "scattermapbox": [
           {
            "marker": {
             "colorbar": {
              "outlinewidth": 0,
              "ticks": ""
             }
            },
            "type": "scattermapbox"
           }
          ],
          "scatterpolar": [
           {
            "marker": {
             "colorbar": {
              "outlinewidth": 0,
              "ticks": ""
             }
            },
            "type": "scatterpolar"
           }
          ],
          "scatterpolargl": [
           {
            "marker": {
             "colorbar": {
              "outlinewidth": 0,
              "ticks": ""
             }
            },
            "type": "scatterpolargl"
           }
          ],
          "scatterternary": [
           {
            "marker": {
             "colorbar": {
              "outlinewidth": 0,
              "ticks": ""
             }
            },
            "type": "scatterternary"
           }
          ],
          "surface": [
           {
            "colorbar": {
             "outlinewidth": 0,
             "ticks": ""
            },
            "colorscale": [
             [
              0,
              "#0d0887"
             ],
             [
              0.1111111111111111,
              "#46039f"
             ],
             [
              0.2222222222222222,
              "#7201a8"
             ],
             [
              0.3333333333333333,
              "#9c179e"
             ],
             [
              0.4444444444444444,
              "#bd3786"
             ],
             [
              0.5555555555555556,
              "#d8576b"
             ],
             [
              0.6666666666666666,
              "#ed7953"
             ],
             [
              0.7777777777777778,
              "#fb9f3a"
             ],
             [
              0.8888888888888888,
              "#fdca26"
             ],
             [
              1,
              "#f0f921"
             ]
            ],
            "type": "surface"
           }
          ],
          "table": [
           {
            "cells": {
             "fill": {
              "color": "#EBF0F8"
             },
             "line": {
              "color": "white"
             }
            },
            "header": {
             "fill": {
              "color": "#C8D4E3"
             },
             "line": {
              "color": "white"
             }
            },
            "type": "table"
           }
          ]
         },
         "layout": {
          "annotationdefaults": {
           "arrowcolor": "#2a3f5f",
           "arrowhead": 0,
           "arrowwidth": 1
          },
          "autotypenumbers": "strict",
          "coloraxis": {
           "colorbar": {
            "outlinewidth": 0,
            "ticks": ""
           }
          },
          "colorscale": {
           "diverging": [
            [
             0,
             "#8e0152"
            ],
            [
             0.1,
             "#c51b7d"
            ],
            [
             0.2,
             "#de77ae"
            ],
            [
             0.3,
             "#f1b6da"
            ],
            [
             0.4,
             "#fde0ef"
            ],
            [
             0.5,
             "#f7f7f7"
            ],
            [
             0.6,
             "#e6f5d0"
            ],
            [
             0.7,
             "#b8e186"
            ],
            [
             0.8,
             "#7fbc41"
            ],
            [
             0.9,
             "#4d9221"
            ],
            [
             1,
             "#276419"
            ]
           ],
           "sequential": [
            [
             0,
             "#0d0887"
            ],
            [
             0.1111111111111111,
             "#46039f"
            ],
            [
             0.2222222222222222,
             "#7201a8"
            ],
            [
             0.3333333333333333,
             "#9c179e"
            ],
            [
             0.4444444444444444,
             "#bd3786"
            ],
            [
             0.5555555555555556,
             "#d8576b"
            ],
            [
             0.6666666666666666,
             "#ed7953"
            ],
            [
             0.7777777777777778,
             "#fb9f3a"
            ],
            [
             0.8888888888888888,
             "#fdca26"
            ],
            [
             1,
             "#f0f921"
            ]
           ],
           "sequentialminus": [
            [
             0,
             "#0d0887"
            ],
            [
             0.1111111111111111,
             "#46039f"
            ],
            [
             0.2222222222222222,
             "#7201a8"
            ],
            [
             0.3333333333333333,
             "#9c179e"
            ],
            [
             0.4444444444444444,
             "#bd3786"
            ],
            [
             0.5555555555555556,
             "#d8576b"
            ],
            [
             0.6666666666666666,
             "#ed7953"
            ],
            [
             0.7777777777777778,
             "#fb9f3a"
            ],
            [
             0.8888888888888888,
             "#fdca26"
            ],
            [
             1,
             "#f0f921"
            ]
           ]
          },
          "colorway": [
           "#636efa",
           "#EF553B",
           "#00cc96",
           "#ab63fa",
           "#FFA15A",
           "#19d3f3",
           "#FF6692",
           "#B6E880",
           "#FF97FF",
           "#FECB52"
          ],
          "font": {
           "color": "#2a3f5f"
          },
          "geo": {
           "bgcolor": "white",
           "lakecolor": "white",
           "landcolor": "white",
           "showlakes": true,
           "showland": true,
           "subunitcolor": "#C8D4E3"
          },
          "hoverlabel": {
           "align": "left"
          },
          "hovermode": "closest",
          "mapbox": {
           "style": "light"
          },
          "paper_bgcolor": "white",
          "plot_bgcolor": "white",
          "polar": {
           "angularaxis": {
            "gridcolor": "#EBF0F8",
            "linecolor": "#EBF0F8",
            "ticks": ""
           },
           "bgcolor": "white",
           "radialaxis": {
            "gridcolor": "#EBF0F8",
            "linecolor": "#EBF0F8",
            "ticks": ""
           }
          },
          "scene": {
           "xaxis": {
            "backgroundcolor": "white",
            "gridcolor": "#DFE8F3",
            "gridwidth": 2,
            "linecolor": "#EBF0F8",
            "showbackground": true,
            "ticks": "",
            "zerolinecolor": "#EBF0F8"
           },
           "yaxis": {
            "backgroundcolor": "white",
            "gridcolor": "#DFE8F3",
            "gridwidth": 2,
            "linecolor": "#EBF0F8",
            "showbackground": true,
            "ticks": "",
            "zerolinecolor": "#EBF0F8"
           },
           "zaxis": {
            "backgroundcolor": "white",
            "gridcolor": "#DFE8F3",
            "gridwidth": 2,
            "linecolor": "#EBF0F8",
            "showbackground": true,
            "ticks": "",
            "zerolinecolor": "#EBF0F8"
           }
          },
          "shapedefaults": {
           "line": {
            "color": "#2a3f5f"
           }
          },
          "ternary": {
           "aaxis": {
            "gridcolor": "#DFE8F3",
            "linecolor": "#A2B1C6",
            "ticks": ""
           },
           "baxis": {
            "gridcolor": "#DFE8F3",
            "linecolor": "#A2B1C6",
            "ticks": ""
           },
           "bgcolor": "white",
           "caxis": {
            "gridcolor": "#DFE8F3",
            "linecolor": "#A2B1C6",
            "ticks": ""
           }
          },
          "title": {
           "x": 0.05
          },
          "xaxis": {
           "automargin": true,
           "gridcolor": "#EBF0F8",
           "linecolor": "#EBF0F8",
           "ticks": "",
           "title": {
            "standoff": 15
           },
           "zerolinecolor": "#EBF0F8",
           "zerolinewidth": 2
          },
          "yaxis": {
           "automargin": true,
           "gridcolor": "#EBF0F8",
           "linecolor": "#EBF0F8",
           "ticks": "",
           "title": {
            "standoff": 15
           },
           "zerolinecolor": "#EBF0F8",
           "zerolinewidth": 2
          }
         }
        },
        "title": {
         "text": "PM2.5 vs ESB Adoption Rate – California Districts"
        },
        "xaxis": {
         "autorange": true,
         "range": [
          3.044996306053797,
          12.527609946946203
         ],
         "title": {
          "text": "Average PM2.5 (µg/m³)"
         },
         "type": "linear"
        },
        "yaxis": {
         "autorange": true,
         "range": [
          -18.171984856679284,
          215.46782044348296
         ],
         "title": {
          "text": "ESB Adoption Rate (%)"
         },
         "type": "linear"
        }
       }
      }
     },
     "metadata": {},
     "output_type": "display_data"
    }
   ],
   "source": [
    "ca_df = df[df['state'].str.contains('California', case=False, na=False)]\n",
    "\n",
    "fig_scatter = go.Figure()\n",
    "\n",
    "# Other districts (blue)\n",
    "fig_scatter.add_trace(go.Scatter(\n",
    "    x=ca_df['pm25'],\n",
    "    y=ca_df['esb_adoption_rate'],\n",
    "    mode='markers',\n",
    "    marker=dict(size=7, color='skyblue', opacity=0.5),\n",
    "    name='Other Districts',\n",
    "    hovertemplate=\"<b>%{text}</b><br>PM2.5: %{x:.1f}<br>Adoption: %{y:.1f}%<extra></extra>\",\n",
    "    text=ca_df['district']\n",
    "))\n",
    "\n",
    "# Bakersfield districts (red)\n",
    "fig_scatter.add_trace(go.Scatter(\n",
    "    x=bakersfield_df['pm25'],\n",
    "    y=bakersfield_df['esb_adoption_rate'],\n",
    "    mode='markers',\n",
    "    marker=dict(size=12, color='red', line=dict(color='black', width=1)),\n",
    "    name='Bakersfield Districts',\n",
    "    hovertemplate=\"<b>%{text}</b><br>PM2.5: %{x:.1f}<br>Adoption: %{y:.1f}%<extra></extra>\",\n",
    "    text=bakersfield_df['district']\n",
    "))\n",
    "\n",
    "fig_scatter.update_layout(\n",
    "    title=\"PM2.5 vs ESB Adoption Rate – California Districts\",\n",
    "    xaxis_title=\"Average PM2.5 (µg/m³)\",\n",
    "    yaxis_title=\"ESB Adoption Rate (%)\",\n",
    "    template=\"plotly_white\",\n",
    "    height=450\n",
    ")\n",
    "fig_scatter.show()\n"
   ]
  },
  {
   "cell_type": "code",
   "execution_count": 13,
   "id": "6d90250b-9f0b-40b7-a267-01be47a4749e",
   "metadata": {},
   "outputs": [
    {
     "data": {
      "application/vnd.plotly.v1+json": {
       "config": {
        "plotlyServerURL": "https://plot.ly"
       },
       "data": [
        {
         "hovertemplate": "District=%{x}<br>% Eligible for Free/Reduced Lunch=%{y}<extra></extra>",
         "legendgroup": "",
         "line": {
          "color": "#636efa",
          "dash": "solid"
         },
         "marker": {
          "symbol": "circle"
         },
         "mode": "lines+markers",
         "name": "",
         "orientation": "v",
         "showlegend": false,
         "type": "scatter",
         "x": [
          "Norris Elementary",
          "Rosedale Union Elementary",
          "Rio Bravo-Greeley Union Elementary",
          "Fruitvale Elementary",
          "Kern County Office of Education",
          "General Shafter Elementary",
          "Lakeside Union",
          "Kern High",
          "Panama-Buena Vista Union",
          "Edison Elementary",
          "Bakersfield City",
          "Standard Elementary",
          "Fairfax Elementary",
          "Greenfield Union",
          "Beardsley Elementary",
          "Vineland Elementary"
         ],
         "xaxis": "x",
         "y": {
          "_inputArray": {
           "0": 32.31046931407942,
           "1": 32.66015560337692,
           "10": 86.89439916767817,
           "11": 88.83782009192383,
           "12": 91.11277072442121,
           "13": 91.58766481420943,
           "14": 95.26017516743947,
           "15": 100,
           "2": 49.50592885375494,
           "3": 55.29528208512042,
           "4": 59.250243427458614,
           "5": 62.56983240223464,
           "6": 65.85987261146497,
           "7": 74.49325894932589,
           "8": 75.05626210289422,
           "9": 86.17216117216118,
           "bdata": "+zBfdb0nQEA0Y5P6f1RAQHh91EbCwEhA7FepzculS0CifAT6B6BNQELmpUTwSE9A9j0iJwh3UEAZ9PuNkZ9SQNX7XMyZw1JAsQRLsASLVUDVrwHWPblVQKevKdieNVZAdlWzojfHVkCGguFMnOVWQJHYvrWm0FdAAAAAAAAAWUA=",
           "dtype": "f8",
           "shape": "16"
          },
          "bdata": "+zBfdb0nQEA0Y5P6f1RAQHh91EbCwEhA7FepzculS0CifAT6B6BNQELmpUTwSE9A9j0iJwh3UEAZ9PuNkZ9SQNX7XMyZw1JAsQRLsASLVUDVrwHWPblVQKevKdieNVZAdlWzojfHVkCGguFMnOVWQJHYvrWm0FdAAAAAAAAAWUA=",
          "dtype": "f8"
         },
         "yaxis": "y"
        }
       ],
       "layout": {
        "autosize": true,
        "legend": {
         "tracegroupgap": 0
        },
        "template": {
         "data": {
          "bar": [
           {
            "error_x": {
             "color": "#2a3f5f"
            },
            "error_y": {
             "color": "#2a3f5f"
            },
            "marker": {
             "line": {
              "color": "white",
              "width": 0.5
             },
             "pattern": {
              "fillmode": "overlay",
              "size": 10,
              "solidity": 0.2
             }
            },
            "type": "bar"
           }
          ],
          "barpolar": [
           {
            "marker": {
             "line": {
              "color": "white",
              "width": 0.5
             },
             "pattern": {
              "fillmode": "overlay",
              "size": 10,
              "solidity": 0.2
             }
            },
            "type": "barpolar"
           }
          ],
          "carpet": [
           {
            "aaxis": {
             "endlinecolor": "#2a3f5f",
             "gridcolor": "#C8D4E3",
             "linecolor": "#C8D4E3",
             "minorgridcolor": "#C8D4E3",
             "startlinecolor": "#2a3f5f"
            },
            "baxis": {
             "endlinecolor": "#2a3f5f",
             "gridcolor": "#C8D4E3",
             "linecolor": "#C8D4E3",
             "minorgridcolor": "#C8D4E3",
             "startlinecolor": "#2a3f5f"
            },
            "type": "carpet"
           }
          ],
          "choropleth": [
           {
            "colorbar": {
             "outlinewidth": 0,
             "ticks": ""
            },
            "type": "choropleth"
           }
          ],
          "contour": [
           {
            "colorbar": {
             "outlinewidth": 0,
             "ticks": ""
            },
            "colorscale": [
             [
              0,
              "#0d0887"
             ],
             [
              0.1111111111111111,
              "#46039f"
             ],
             [
              0.2222222222222222,
              "#7201a8"
             ],
             [
              0.3333333333333333,
              "#9c179e"
             ],
             [
              0.4444444444444444,
              "#bd3786"
             ],
             [
              0.5555555555555556,
              "#d8576b"
             ],
             [
              0.6666666666666666,
              "#ed7953"
             ],
             [
              0.7777777777777778,
              "#fb9f3a"
             ],
             [
              0.8888888888888888,
              "#fdca26"
             ],
             [
              1,
              "#f0f921"
             ]
            ],
            "type": "contour"
           }
          ],
          "contourcarpet": [
           {
            "colorbar": {
             "outlinewidth": 0,
             "ticks": ""
            },
            "type": "contourcarpet"
           }
          ],
          "heatmap": [
           {
            "colorbar": {
             "outlinewidth": 0,
             "ticks": ""
            },
            "colorscale": [
             [
              0,
              "#0d0887"
             ],
             [
              0.1111111111111111,
              "#46039f"
             ],
             [
              0.2222222222222222,
              "#7201a8"
             ],
             [
              0.3333333333333333,
              "#9c179e"
             ],
             [
              0.4444444444444444,
              "#bd3786"
             ],
             [
              0.5555555555555556,
              "#d8576b"
             ],
             [
              0.6666666666666666,
              "#ed7953"
             ],
             [
              0.7777777777777778,
              "#fb9f3a"
             ],
             [
              0.8888888888888888,
              "#fdca26"
             ],
             [
              1,
              "#f0f921"
             ]
            ],
            "type": "heatmap"
           }
          ],
          "histogram": [
           {
            "marker": {
             "pattern": {
              "fillmode": "overlay",
              "size": 10,
              "solidity": 0.2
             }
            },
            "type": "histogram"
           }
          ],
          "histogram2d": [
           {
            "colorbar": {
             "outlinewidth": 0,
             "ticks": ""
            },
            "colorscale": [
             [
              0,
              "#0d0887"
             ],
             [
              0.1111111111111111,
              "#46039f"
             ],
             [
              0.2222222222222222,
              "#7201a8"
             ],
             [
              0.3333333333333333,
              "#9c179e"
             ],
             [
              0.4444444444444444,
              "#bd3786"
             ],
             [
              0.5555555555555556,
              "#d8576b"
             ],
             [
              0.6666666666666666,
              "#ed7953"
             ],
             [
              0.7777777777777778,
              "#fb9f3a"
             ],
             [
              0.8888888888888888,
              "#fdca26"
             ],
             [
              1,
              "#f0f921"
             ]
            ],
            "type": "histogram2d"
           }
          ],
          "histogram2dcontour": [
           {
            "colorbar": {
             "outlinewidth": 0,
             "ticks": ""
            },
            "colorscale": [
             [
              0,
              "#0d0887"
             ],
             [
              0.1111111111111111,
              "#46039f"
             ],
             [
              0.2222222222222222,
              "#7201a8"
             ],
             [
              0.3333333333333333,
              "#9c179e"
             ],
             [
              0.4444444444444444,
              "#bd3786"
             ],
             [
              0.5555555555555556,
              "#d8576b"
             ],
             [
              0.6666666666666666,
              "#ed7953"
             ],
             [
              0.7777777777777778,
              "#fb9f3a"
             ],
             [
              0.8888888888888888,
              "#fdca26"
             ],
             [
              1,
              "#f0f921"
             ]
            ],
            "type": "histogram2dcontour"
           }
          ],
          "mesh3d": [
           {
            "colorbar": {
             "outlinewidth": 0,
             "ticks": ""
            },
            "type": "mesh3d"
           }
          ],
          "parcoords": [
           {
            "line": {
             "colorbar": {
              "outlinewidth": 0,
              "ticks": ""
             }
            },
            "type": "parcoords"
           }
          ],
          "pie": [
           {
            "automargin": true,
            "type": "pie"
           }
          ],
          "scatter": [
           {
            "fillpattern": {
             "fillmode": "overlay",
             "size": 10,
             "solidity": 0.2
            },
            "type": "scatter"
           }
          ],
          "scatter3d": [
           {
            "line": {
             "colorbar": {
              "outlinewidth": 0,
              "ticks": ""
             }
            },
            "marker": {
             "colorbar": {
              "outlinewidth": 0,
              "ticks": ""
             }
            },
            "type": "scatter3d"
           }
          ],
          "scattercarpet": [
           {
            "marker": {
             "colorbar": {
              "outlinewidth": 0,
              "ticks": ""
             }
            },
            "type": "scattercarpet"
           }
          ],
          "scattergeo": [
           {
            "marker": {
             "colorbar": {
              "outlinewidth": 0,
              "ticks": ""
             }
            },
            "type": "scattergeo"
           }
          ],
          "scattergl": [
           {
            "marker": {
             "colorbar": {
              "outlinewidth": 0,
              "ticks": ""
             }
            },
            "type": "scattergl"
           }
          ],
          "scattermap": [
           {
            "marker": {
             "colorbar": {
              "outlinewidth": 0,
              "ticks": ""
             }
            },
            "type": "scattermap"
           }
          ],
          "scattermapbox": [
           {
            "marker": {
             "colorbar": {
              "outlinewidth": 0,
              "ticks": ""
             }
            },
            "type": "scattermapbox"
           }
          ],
          "scatterpolar": [
           {
            "marker": {
             "colorbar": {
              "outlinewidth": 0,
              "ticks": ""
             }
            },
            "type": "scatterpolar"
           }
          ],
          "scatterpolargl": [
           {
            "marker": {
             "colorbar": {
              "outlinewidth": 0,
              "ticks": ""
             }
            },
            "type": "scatterpolargl"
           }
          ],
          "scatterternary": [
           {
            "marker": {
             "colorbar": {
              "outlinewidth": 0,
              "ticks": ""
             }
            },
            "type": "scatterternary"
           }
          ],
          "surface": [
           {
            "colorbar": {
             "outlinewidth": 0,
             "ticks": ""
            },
            "colorscale": [
             [
              0,
              "#0d0887"
             ],
             [
              0.1111111111111111,
              "#46039f"
             ],
             [
              0.2222222222222222,
              "#7201a8"
             ],
             [
              0.3333333333333333,
              "#9c179e"
             ],
             [
              0.4444444444444444,
              "#bd3786"
             ],
             [
              0.5555555555555556,
              "#d8576b"
             ],
             [
              0.6666666666666666,
              "#ed7953"
             ],
             [
              0.7777777777777778,
              "#fb9f3a"
             ],
             [
              0.8888888888888888,
              "#fdca26"
             ],
             [
              1,
              "#f0f921"
             ]
            ],
            "type": "surface"
           }
          ],
          "table": [
           {
            "cells": {
             "fill": {
              "color": "#EBF0F8"
             },
             "line": {
              "color": "white"
             }
            },
            "header": {
             "fill": {
              "color": "#C8D4E3"
             },
             "line": {
              "color": "white"
             }
            },
            "type": "table"
           }
          ]
         },
         "layout": {
          "annotationdefaults": {
           "arrowcolor": "#2a3f5f",
           "arrowhead": 0,
           "arrowwidth": 1
          },
          "autotypenumbers": "strict",
          "coloraxis": {
           "colorbar": {
            "outlinewidth": 0,
            "ticks": ""
           }
          },
          "colorscale": {
           "diverging": [
            [
             0,
             "#8e0152"
            ],
            [
             0.1,
             "#c51b7d"
            ],
            [
             0.2,
             "#de77ae"
            ],
            [
             0.3,
             "#f1b6da"
            ],
            [
             0.4,
             "#fde0ef"
            ],
            [
             0.5,
             "#f7f7f7"
            ],
            [
             0.6,
             "#e6f5d0"
            ],
            [
             0.7,
             "#b8e186"
            ],
            [
             0.8,
             "#7fbc41"
            ],
            [
             0.9,
             "#4d9221"
            ],
            [
             1,
             "#276419"
            ]
           ],
           "sequential": [
            [
             0,
             "#0d0887"
            ],
            [
             0.1111111111111111,
             "#46039f"
            ],
            [
             0.2222222222222222,
             "#7201a8"
            ],
            [
             0.3333333333333333,
             "#9c179e"
            ],
            [
             0.4444444444444444,
             "#bd3786"
            ],
            [
             0.5555555555555556,
             "#d8576b"
            ],
            [
             0.6666666666666666,
             "#ed7953"
            ],
            [
             0.7777777777777778,
             "#fb9f3a"
            ],
            [
             0.8888888888888888,
             "#fdca26"
            ],
            [
             1,
             "#f0f921"
            ]
           ],
           "sequentialminus": [
            [
             0,
             "#0d0887"
            ],
            [
             0.1111111111111111,
             "#46039f"
            ],
            [
             0.2222222222222222,
             "#7201a8"
            ],
            [
             0.3333333333333333,
             "#9c179e"
            ],
            [
             0.4444444444444444,
             "#bd3786"
            ],
            [
             0.5555555555555556,
             "#d8576b"
            ],
            [
             0.6666666666666666,
             "#ed7953"
            ],
            [
             0.7777777777777778,
             "#fb9f3a"
            ],
            [
             0.8888888888888888,
             "#fdca26"
            ],
            [
             1,
             "#f0f921"
            ]
           ]
          },
          "colorway": [
           "#636efa",
           "#EF553B",
           "#00cc96",
           "#ab63fa",
           "#FFA15A",
           "#19d3f3",
           "#FF6692",
           "#B6E880",
           "#FF97FF",
           "#FECB52"
          ],
          "font": {
           "color": "#2a3f5f"
          },
          "geo": {
           "bgcolor": "white",
           "lakecolor": "white",
           "landcolor": "white",
           "showlakes": true,
           "showland": true,
           "subunitcolor": "#C8D4E3"
          },
          "hoverlabel": {
           "align": "left"
          },
          "hovermode": "closest",
          "mapbox": {
           "style": "light"
          },
          "paper_bgcolor": "white",
          "plot_bgcolor": "white",
          "polar": {
           "angularaxis": {
            "gridcolor": "#EBF0F8",
            "linecolor": "#EBF0F8",
            "ticks": ""
           },
           "bgcolor": "white",
           "radialaxis": {
            "gridcolor": "#EBF0F8",
            "linecolor": "#EBF0F8",
            "ticks": ""
           }
          },
          "scene": {
           "xaxis": {
            "backgroundcolor": "white",
            "gridcolor": "#DFE8F3",
            "gridwidth": 2,
            "linecolor": "#EBF0F8",
            "showbackground": true,
            "ticks": "",
            "zerolinecolor": "#EBF0F8"
           },
           "yaxis": {
            "backgroundcolor": "white",
            "gridcolor": "#DFE8F3",
            "gridwidth": 2,
            "linecolor": "#EBF0F8",
            "showbackground": true,
            "ticks": "",
            "zerolinecolor": "#EBF0F8"
           },
           "zaxis": {
            "backgroundcolor": "white",
            "gridcolor": "#DFE8F3",
            "gridwidth": 2,
            "linecolor": "#EBF0F8",
            "showbackground": true,
            "ticks": "",
            "zerolinecolor": "#EBF0F8"
           }
          },
          "shapedefaults": {
           "line": {
            "color": "#2a3f5f"
           }
          },
          "ternary": {
           "aaxis": {
            "gridcolor": "#DFE8F3",
            "linecolor": "#A2B1C6",
            "ticks": ""
           },
           "baxis": {
            "gridcolor": "#DFE8F3",
            "linecolor": "#A2B1C6",
            "ticks": ""
           },
           "bgcolor": "white",
           "caxis": {
            "gridcolor": "#DFE8F3",
            "linecolor": "#A2B1C6",
            "ticks": ""
           }
          },
          "title": {
           "x": 0.05
          },
          "xaxis": {
           "automargin": true,
           "gridcolor": "#EBF0F8",
           "linecolor": "#EBF0F8",
           "ticks": "",
           "title": {
            "standoff": 15
           },
           "zerolinecolor": "#EBF0F8",
           "zerolinewidth": 2
          },
          "yaxis": {
           "automargin": true,
           "gridcolor": "#EBF0F8",
           "linecolor": "#EBF0F8",
           "ticks": "",
           "title": {
            "standoff": 15
           },
           "zerolinecolor": "#EBF0F8",
           "zerolinewidth": 2
          }
         }
        },
        "title": {
         "text": "Student Economic Vulnerability by District – Bakersfield, CA"
        },
        "xaxis": {
         "anchor": "y",
         "autorange": true,
         "domain": [
          0,
          1
         ],
         "range": [
          -0.9080315525277877,
          15.908031552527788
         ],
         "tickangle": -45,
         "title": {
          "text": "District"
         },
         "type": "category"
        },
        "yaxis": {
         "anchor": "x",
         "autorange": true,
         "domain": [
          0,
          1
         ],
         "range": [
          26.240032286963693,
          106.07043702711573
         ],
         "title": {
          "text": "% Eligible for Free/Reduced Lunch"
         },
         "type": "linear"
        }
       }
      }
     },
     "metadata": {},
     "output_type": "display_data"
    }
   ],
   "source": [
    "# Sort Bakersfield districts by Free Lunch %\n",
    "trend_df = bakersfield_df[['district', 'free_lunch_pct']].dropna().sort_values(by='free_lunch_pct')\n",
    "\n",
    "fig_trend = px.line(\n",
    "    trend_df,\n",
    "    x='district',\n",
    "    y='free_lunch_pct',\n",
    "    markers=True,\n",
    "    title=\"Student Economic Vulnerability by District – Bakersfield, CA\",\n",
    "    labels={'district': 'District', 'free_lunch_pct': '% Eligible for Free/Reduced Lunch'},\n",
    "    template=\"plotly_white\"\n",
    ")\n",
    "\n",
    "fig_trend.update_layout(xaxis_tickangle=-45, height=450)\n",
    "fig_trend.show()"
   ]
  }
 ],
 "metadata": {
  "kernelspec": {
   "display_name": "Python (cuml_env)",
   "language": "python",
   "name": "cuml_env"
  },
  "language_info": {
   "codemirror_mode": {
    "name": "ipython",
    "version": 3
   },
   "file_extension": ".py",
   "mimetype": "text/x-python",
   "name": "python",
   "nbconvert_exporter": "python",
   "pygments_lexer": "ipython3",
   "version": "3.10.18"
  }
 },
 "nbformat": 4,
 "nbformat_minor": 5
}
